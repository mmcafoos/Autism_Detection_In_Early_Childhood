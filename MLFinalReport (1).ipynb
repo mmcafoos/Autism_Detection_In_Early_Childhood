{
 "cells": [
  {
   "cell_type": "markdown",
   "id": "7187df5c",
   "metadata": {},
   "source": [
    "# Autism Detection in Early Childhood\n",
    "## UNC-Charlotte MIL Final Project\n",
    "### Authors: Mark McAfoose, Mesut Koroglu, Mubeen Quadrt\n",
    "mmcafoos@uncc.edu | mkoroglu@uncc.edu | mquadrt@uncc.edu"
   ]
  },
  {
   "cell_type": "markdown",
   "id": "367040a4",
   "metadata": {},
   "source": [
    "#### Importing the Libraries used"
   ]
  },
  {
   "cell_type": "code",
   "execution_count": 49,
   "id": "b2203d2f",
   "metadata": {
    "ExecuteTime": {
     "end_time": "2021-12-15T22:52:35.231240Z",
     "start_time": "2021-12-15T22:52:35.223060Z"
    }
   },
   "outputs": [],
   "source": [
    "# Goal - Looking to build Autism Spectrum Disorder model for detection while not affecting accuracy\n",
    "\n",
    "# libraries used:\n",
    "\n",
    "import warnings\n",
    "\n",
    "import matplotlib.pyplot as plt\n",
    "from numpy import mean\n",
    "import numpy as np\n",
    "import pandas as pd\n",
    "import plotly.express as px\n",
    "import seaborn as sns\n",
    "from sklearn import metrics\n",
    "from sklearn.datasets import load_iris\n",
    "from sklearn.decomposition import PCA\n",
    "from sklearn.discriminant_analysis import LinearDiscriminantAnalysis\n",
    "from sklearn.ensemble import RandomForestClassifier\n",
    "from sklearn.feature_selection import SelectKBest\n",
    "from sklearn.feature_selection import chi2\n",
    "from sklearn.linear_model import LogisticRegression\n",
    "from sklearn.metrics import (\n",
    "    accuracy_score,\n",
    "    confusion_matrix,\n",
    "    make_scorer,\n",
    "    precision_score,\n",
    "    recall_score,\n",
    ")\n",
    "from sklearn.model_selection import KFold, cross_val_score, cross_validate\n",
    "from sklearn.model_selection import train_test_split\n",
    "from sklearn.naive_bayes import GaussianNB\n",
    "from sklearn.preprocessing import LabelEncoder\n",
    "from sklearn.preprocessing import MinMaxScaler\n",
    "from sklearn.preprocessing import StandardScaler"
   ]
  },
  {
   "cell_type": "code",
   "execution_count": 50,
   "id": "00c7a548",
   "metadata": {
    "ExecuteTime": {
     "end_time": "2021-12-15T22:52:35.265320Z",
     "start_time": "2021-12-15T22:52:35.234044Z"
    }
   },
   "outputs": [
    {
     "data": {
      "text/html": [
       "<div>\n",
       "<style scoped>\n",
       "    .dataframe tbody tr th:only-of-type {\n",
       "        vertical-align: middle;\n",
       "    }\n",
       "\n",
       "    .dataframe tbody tr th {\n",
       "        vertical-align: top;\n",
       "    }\n",
       "\n",
       "    .dataframe thead th {\n",
       "        text-align: right;\n",
       "    }\n",
       "</style>\n",
       "<table border=\"1\" class=\"dataframe\">\n",
       "  <thead>\n",
       "    <tr style=\"text-align: right;\">\n",
       "      <th></th>\n",
       "      <th>Case_No</th>\n",
       "      <th>A1</th>\n",
       "      <th>A2</th>\n",
       "      <th>A3</th>\n",
       "      <th>A4</th>\n",
       "      <th>A5</th>\n",
       "      <th>A6</th>\n",
       "      <th>A7</th>\n",
       "      <th>A8</th>\n",
       "      <th>A9</th>\n",
       "      <th>A10</th>\n",
       "      <th>Age_Mons</th>\n",
       "      <th>Qchat-10-Score</th>\n",
       "      <th>Sex</th>\n",
       "      <th>Ethnicity</th>\n",
       "      <th>Jaundice</th>\n",
       "      <th>Family_mem_with_ASD</th>\n",
       "      <th>Who completed the test</th>\n",
       "      <th>Class/ASD Traits</th>\n",
       "    </tr>\n",
       "  </thead>\n",
       "  <tbody>\n",
       "    <tr>\n",
       "      <th>556</th>\n",
       "      <td>557</td>\n",
       "      <td>1</td>\n",
       "      <td>1</td>\n",
       "      <td>0</td>\n",
       "      <td>1</td>\n",
       "      <td>0</td>\n",
       "      <td>0</td>\n",
       "      <td>1</td>\n",
       "      <td>0</td>\n",
       "      <td>1</td>\n",
       "      <td>1</td>\n",
       "      <td>22</td>\n",
       "      <td>6</td>\n",
       "      <td>m</td>\n",
       "      <td>White European</td>\n",
       "      <td>no</td>\n",
       "      <td>yes</td>\n",
       "      <td>family member</td>\n",
       "      <td>Yes</td>\n",
       "    </tr>\n",
       "    <tr>\n",
       "      <th>859</th>\n",
       "      <td>860</td>\n",
       "      <td>1</td>\n",
       "      <td>1</td>\n",
       "      <td>1</td>\n",
       "      <td>1</td>\n",
       "      <td>1</td>\n",
       "      <td>1</td>\n",
       "      <td>1</td>\n",
       "      <td>1</td>\n",
       "      <td>1</td>\n",
       "      <td>1</td>\n",
       "      <td>19</td>\n",
       "      <td>10</td>\n",
       "      <td>m</td>\n",
       "      <td>White European</td>\n",
       "      <td>yes</td>\n",
       "      <td>no</td>\n",
       "      <td>family member</td>\n",
       "      <td>Yes</td>\n",
       "    </tr>\n",
       "    <tr>\n",
       "      <th>964</th>\n",
       "      <td>965</td>\n",
       "      <td>1</td>\n",
       "      <td>0</td>\n",
       "      <td>1</td>\n",
       "      <td>1</td>\n",
       "      <td>1</td>\n",
       "      <td>1</td>\n",
       "      <td>1</td>\n",
       "      <td>0</td>\n",
       "      <td>1</td>\n",
       "      <td>0</td>\n",
       "      <td>16</td>\n",
       "      <td>7</td>\n",
       "      <td>m</td>\n",
       "      <td>White European</td>\n",
       "      <td>no</td>\n",
       "      <td>yes</td>\n",
       "      <td>family member</td>\n",
       "      <td>Yes</td>\n",
       "    </tr>\n",
       "    <tr>\n",
       "      <th>309</th>\n",
       "      <td>310</td>\n",
       "      <td>1</td>\n",
       "      <td>1</td>\n",
       "      <td>1</td>\n",
       "      <td>0</td>\n",
       "      <td>1</td>\n",
       "      <td>0</td>\n",
       "      <td>0</td>\n",
       "      <td>0</td>\n",
       "      <td>1</td>\n",
       "      <td>0</td>\n",
       "      <td>36</td>\n",
       "      <td>5</td>\n",
       "      <td>m</td>\n",
       "      <td>south asian</td>\n",
       "      <td>yes</td>\n",
       "      <td>yes</td>\n",
       "      <td>Health Care Professional</td>\n",
       "      <td>Yes</td>\n",
       "    </tr>\n",
       "    <tr>\n",
       "      <th>174</th>\n",
       "      <td>175</td>\n",
       "      <td>0</td>\n",
       "      <td>1</td>\n",
       "      <td>0</td>\n",
       "      <td>0</td>\n",
       "      <td>0</td>\n",
       "      <td>0</td>\n",
       "      <td>0</td>\n",
       "      <td>0</td>\n",
       "      <td>0</td>\n",
       "      <td>1</td>\n",
       "      <td>36</td>\n",
       "      <td>2</td>\n",
       "      <td>f</td>\n",
       "      <td>White European</td>\n",
       "      <td>yes</td>\n",
       "      <td>yes</td>\n",
       "      <td>family member</td>\n",
       "      <td>No</td>\n",
       "    </tr>\n",
       "  </tbody>\n",
       "</table>\n",
       "</div>"
      ],
      "text/plain": [
       "     Case_No  A1  A2  A3  A4  A5  A6  A7  A8  A9  A10  Age_Mons  \\\n",
       "556      557   1   1   0   1   0   0   1   0   1    1        22   \n",
       "859      860   1   1   1   1   1   1   1   1   1    1        19   \n",
       "964      965   1   0   1   1   1   1   1   0   1    0        16   \n",
       "309      310   1   1   1   0   1   0   0   0   1    0        36   \n",
       "174      175   0   1   0   0   0   0   0   0   0    1        36   \n",
       "\n",
       "     Qchat-10-Score Sex       Ethnicity Jaundice Family_mem_with_ASD  \\\n",
       "556               6   m  White European       no                 yes   \n",
       "859              10   m  White European      yes                  no   \n",
       "964               7   m  White European       no                 yes   \n",
       "309               5   m     south asian      yes                 yes   \n",
       "174               2   f  White European      yes                 yes   \n",
       "\n",
       "       Who completed the test Class/ASD Traits   \n",
       "556             family member               Yes  \n",
       "859             family member               Yes  \n",
       "964             family member               Yes  \n",
       "309  Health Care Professional               Yes  \n",
       "174             family member                No  "
      ]
     },
     "execution_count": 50,
     "metadata": {},
     "output_type": "execute_result"
    }
   ],
   "source": [
    "autism = pd.read_csv(\"taDataset.csv\")   # Dataset import\n",
    "autism.sample(5)                        # 5 indeces"
   ]
  },
  {
   "cell_type": "markdown",
   "id": "7ccd5566",
   "metadata": {},
   "source": [
    "#### Displaying the available Data as is"
   ]
  },
  {
   "cell_type": "code",
   "execution_count": 51,
   "id": "89edda6e",
   "metadata": {
    "ExecuteTime": {
     "end_time": "2021-12-15T22:52:35.272698Z",
     "start_time": "2021-12-15T22:52:35.268422Z"
    }
   },
   "outputs": [
    {
     "name": "stdout",
     "output_type": "stream",
     "text": [
      "Data Shape:  (1054, 19)\n"
     ]
    }
   ],
   "source": [
    "print(\"Data Shape: \", autism.shape)      # Dimension"
   ]
  },
  {
   "cell_type": "code",
   "execution_count": 52,
   "id": "e9db7c3a",
   "metadata": {
    "ExecuteTime": {
     "end_time": "2021-12-15T22:52:35.338183Z",
     "start_time": "2021-12-15T22:52:35.275479Z"
    }
   },
   "outputs": [
    {
     "name": "stdout",
     "output_type": "stream",
     "text": [
      "<class 'pandas.core.frame.DataFrame'>\n",
      "RangeIndex: 1054 entries, 0 to 1053\n",
      "Data columns (total 19 columns):\n",
      " #   Column                  Non-Null Count  Dtype \n",
      "---  ------                  --------------  ----- \n",
      " 0   Case_No                 1054 non-null   int64 \n",
      " 1   A1                      1054 non-null   int64 \n",
      " 2   A2                      1054 non-null   int64 \n",
      " 3   A3                      1054 non-null   int64 \n",
      " 4   A4                      1054 non-null   int64 \n",
      " 5   A5                      1054 non-null   int64 \n",
      " 6   A6                      1054 non-null   int64 \n",
      " 7   A7                      1054 non-null   int64 \n",
      " 8   A8                      1054 non-null   int64 \n",
      " 9   A9                      1054 non-null   int64 \n",
      " 10  A10                     1054 non-null   int64 \n",
      " 11  Age_Mons                1054 non-null   int64 \n",
      " 12  Qchat-10-Score          1054 non-null   int64 \n",
      " 13  Sex                     1054 non-null   object\n",
      " 14  Ethnicity               1054 non-null   object\n",
      " 15  Jaundice                1054 non-null   object\n",
      " 16  Family_mem_with_ASD     1054 non-null   object\n",
      " 17  Who completed the test  1054 non-null   object\n",
      " 18  Class/ASD Traits        1054 non-null   object\n",
      "dtypes: int64(13), object(6)\n",
      "memory usage: 156.6+ KB\n",
      "Data info:  None\n",
      "\n",
      "\n",
      "\n",
      "\n",
      "Data description:             Case_No           A1           A2           A3           A4  \\\n",
      "count  1054.000000  1054.000000  1054.000000  1054.000000  1054.000000   \n",
      "mean    527.500000     0.563567     0.448767     0.401328     0.512334   \n",
      "std     304.407895     0.496178     0.497604     0.490400     0.500085   \n",
      "min       1.000000     0.000000     0.000000     0.000000     0.000000   \n",
      "25%     264.250000     0.000000     0.000000     0.000000     0.000000   \n",
      "50%     527.500000     1.000000     0.000000     0.000000     1.000000   \n",
      "75%     790.750000     1.000000     1.000000     1.000000     1.000000   \n",
      "max    1054.000000     1.000000     1.000000     1.000000     1.000000   \n",
      "\n",
      "                A5           A6           A7           A8           A9  \\\n",
      "count  1054.000000  1054.000000  1054.000000  1054.000000  1054.000000   \n",
      "mean      0.524668     0.576850     0.649905     0.459203     0.489564   \n",
      "std       0.499628     0.494293     0.477226     0.498569     0.500128   \n",
      "min       0.000000     0.000000     0.000000     0.000000     0.000000   \n",
      "25%       0.000000     0.000000     0.000000     0.000000     0.000000   \n",
      "50%       1.000000     1.000000     1.000000     0.000000     0.000000   \n",
      "75%       1.000000     1.000000     1.000000     1.000000     1.000000   \n",
      "max       1.000000     1.000000     1.000000     1.000000     1.000000   \n",
      "\n",
      "               A10     Age_Mons  Qchat-10-Score  \n",
      "count  1054.000000  1054.000000     1054.000000  \n",
      "mean      0.586338    27.867173        5.212524  \n",
      "std       0.492723     7.980354        2.907304  \n",
      "min       0.000000    12.000000        0.000000  \n",
      "25%       0.000000    23.000000        3.000000  \n",
      "50%       1.000000    30.000000        5.000000  \n",
      "75%       1.000000    36.000000        8.000000  \n",
      "max       1.000000    36.000000       10.000000  \n",
      "\n",
      "\n",
      "\n",
      "\n",
      "Dataset has:  0  missing values\n"
     ]
    }
   ],
   "source": [
    "# There are 1054 entrys of toddlers and 19 respective columns addressing the Q10 questions and characterstics of toddlers\n",
    "\n",
    "print(\"Data info: \", autism.info())\n",
    "print(\"\\n\" * 3)\n",
    "print(\"Data description: \", autism.describe())\n",
    "print(\"\\n\" * 3)\n",
    "print(\"Dataset has: \", autism.isnull().sum().sum(), \" missing values\")"
   ]
  },
  {
   "cell_type": "code",
   "execution_count": 53,
   "id": "de569b89",
   "metadata": {
    "ExecuteTime": {
     "end_time": "2021-12-15T22:52:35.345095Z",
     "start_time": "2021-12-15T22:52:35.339628Z"
    }
   },
   "outputs": [
    {
     "name": "stdout",
     "output_type": "stream",
     "text": [
      "Diagonised with ASD =  728 \n",
      " Undiagonised with ASD =  326\n"
     ]
    }
   ],
   "source": [
    "print(\n",
    "    \"Diagonised with ASD = \",                                  # Fetching # of diagnosed instances\n",
    "    len(autism[autism[\"Class/ASD Traits \"] == \"Yes\"]),\n",
    "    \"\\n\",\n",
    "    \"Undiagonised with ASD = \",                                # Fetching # of undiagnosed instances\n",
    "    len(autism[autism[\"Class/ASD Traits \"] == \"No\"]),\n",
    ")"
   ]
  },
  {
   "cell_type": "markdown",
   "id": "3c2d6b08",
   "metadata": {},
   "source": [
    "#### Plotting the initial graphs corelating with features"
   ]
  },
  {
   "cell_type": "code",
   "execution_count": 54,
   "id": "12fcab3d",
   "metadata": {
    "ExecuteTime": {
     "end_time": "2021-12-15T22:52:35.457158Z",
     "start_time": "2021-12-15T22:52:35.347017Z"
    }
   },
   "outputs": [
    {
     "data": {
      "text/plain": [
       "Text(0.5, 1.0, 'Data Count')"
      ]
     },
     "execution_count": 54,
     "metadata": {},
     "output_type": "execute_result"
    },
    {
     "data": {
      "image/png": "[encoded data removed]",
      "text/plain": [
       "<Figure size 720x360 with 1 Axes>"
      ]
     },
     "metadata": {
      "needs_background": "light"
     },
     "output_type": "display_data"
    }
   ],
   "source": [
    "warnings.filterwarnings(\"ignore\")\n",
    "\n",
    "# Graph Recap of data:\n",
    "\n",
    "fig, ax = plt.subplots(figsize=(10, 5))\n",
    "sns.countplot(autism[\"Class/ASD Traits \"])\n",
    "plt.title(\"Data Count\")"
   ]
  },
  {
   "cell_type": "code",
   "execution_count": 55,
   "id": "25345198",
   "metadata": {
    "ExecuteTime": {
     "end_time": "2021-12-15T22:52:36.215660Z",
     "start_time": "2021-12-15T22:52:35.458596Z"
    }
   },
   "outputs": [
    {
     "data": {
      "text/plain": [
       "Text(0.5, 1.0, \"Toddler's dataset\")"
      ]
     },
     "execution_count": 55,
     "metadata": {},
     "output_type": "execute_result"
    },
    {
     "data": {
      "image/png": "[encoded data removed]",
      "text/plain": [
       "<Figure size 720x360 with 2 Axes>"
      ]
     },
     "metadata": {
      "needs_background": "light"
     },
     "output_type": "display_data"
    }
   ],
   "source": [
    "# Heat map for Responses Q10:\n",
    "\n",
    "fig, ax = plt.subplots(figsize=(10, 5))\n",
    "sns.heatmap(autism.corr(), annot=True, cmap=\"coolwarm\", vmin=0, vmax=1)\n",
    "\n",
    "plt.title(\"Toddler's dataset\", fontsize=15)"
   ]
  },
  {
   "cell_type": "code",
   "execution_count": 56,
   "id": "bab82801",
   "metadata": {
    "ExecuteTime": {
     "end_time": "2021-12-15T22:52:36.278846Z",
     "start_time": "2021-12-15T22:52:36.218550Z"
    },
    "scrolled": true
   },
   "outputs": [
    {
     "data": {
      "application/vnd.plotly.v1+json": {
       "config": {
        "plotlyServerURL": "https://plot.ly"
       },
       "data": [
        {
         "alignmentgroup": "True",
         "bingroup": "x",
         "hovertemplate": "Sex=m<br>Age_Mons=%{x}<br>count=%{y}<extra></extra>",
         "legendgroup": "m",
         "marker": {
          "color": "#636efa",
          "line": {
           "width": 1
          },
          "pattern": {
           "shape": ""
          }
         },
         "name": "m",
         "offsetgroup": "m",
         "orientation": "v",
         "showlegend": true,
         "type": "histogram",
         "x": [
          36,
          36,
          24,
          21,
          33,
          33,
          22,
          36,
          17,
          12,
          36,
          36,
          36,
          36,
          22,
          36,
          35,
          36,
          25,
          36,
          30,
          34,
          34,
          26,
          19,
          29,
          30,
          30,
          23,
          34,
          34,
          32,
          33,
          34,
          36,
          25,
          24,
          36,
          30,
          32,
          32,
          29,
          18,
          27,
          19,
          36,
          36,
          20,
          24,
          36,
          35,
          23,
          24,
          23,
          23,
          33,
          26,
          33,
          36,
          28,
          36,
          30,
          23,
          12,
          29,
          23,
          33,
          35,
          30,
          24,
          20,
          20,
          35,
          34,
          36,
          15,
          36,
          36,
          36,
          25,
          22,
          23,
          36,
          21,
          22,
          13,
          33,
          33,
          36,
          20,
          36,
          36,
          36,
          31,
          24,
          28,
          36,
          28,
          18,
          36,
          36,
          36,
          31,
          31,
          35,
          23,
          36,
          30,
          36,
          36,
          30,
          29,
          32,
          32,
          36,
          36,
          12,
          28,
          27,
          28,
          31,
          23,
          36,
          26,
          20,
          20,
          36,
          17,
          26,
          23,
          21,
          36,
          33,
          33,
          36,
          36,
          36,
          26,
          26,
          26,
          14,
          16,
          28,
          30,
          32,
          31,
          23,
          12,
          23,
          36,
          26,
          36,
          33,
          36,
          28,
          28,
          12,
          36,
          36,
          36,
          36,
          36,
          34,
          24,
          14,
          14,
          36,
          34,
          36,
          36,
          36,
          36,
          36,
          36,
          35,
          30,
          30,
          30,
          30,
          30,
          24,
          26,
          36,
          32,
          36,
          36,
          36,
          36,
          20,
          26,
          32,
          35,
          36,
          36,
          36,
          33,
          36,
          27,
          29,
          36,
          33,
          12,
          36,
          36,
          30,
          15,
          36,
          12,
          26,
          36,
          36,
          36,
          30,
          25,
          28,
          28,
          12,
          36,
          19,
          32,
          35,
          29,
          36,
          19,
          24,
          36,
          13,
          13,
          36,
          36,
          17,
          20,
          36,
          28,
          28,
          26,
          28,
          36,
          28,
          36,
          28,
          34,
          32,
          29,
          27,
          25,
          36,
          12,
          36,
          36,
          36,
          36,
          35,
          36,
          36,
          22,
          24,
          19,
          24,
          21,
          30,
          17,
          13,
          13,
          34,
          34,
          36,
          25,
          25,
          36,
          35,
          35,
          19,
          36,
          36,
          36,
          36,
          33,
          22,
          22,
          31,
          36,
          36,
          36,
          23,
          36,
          35,
          24,
          24,
          24,
          26,
          12,
          36,
          23,
          36,
          36,
          36,
          36,
          36,
          36,
          36,
          36,
          36,
          26,
          36,
          27,
          36,
          36,
          36,
          36,
          36,
          30,
          26,
          20,
          28,
          28,
          28,
          28,
          28,
          36,
          30,
          27,
          22,
          36,
          36,
          34,
          24,
          25,
          25,
          33,
          36,
          29,
          28,
          24,
          24,
          18,
          28,
          34,
          22,
          14,
          24,
          14,
          14,
          36,
          24,
          17,
          29,
          36,
          14,
          16,
          14,
          24,
          36,
          32,
          27,
          33,
          23,
          34,
          36,
          24,
          35,
          15,
          15,
          22,
          36,
          30,
          36,
          29,
          26,
          23,
          15,
          25,
          28,
          36,
          30,
          30,
          29,
          31,
          36,
          12,
          26,
          36,
          28,
          12,
          31,
          31,
          22,
          36,
          14,
          27,
          28,
          14,
          31,
          28,
          15,
          12,
          16,
          28,
          24,
          22,
          29,
          14,
          36,
          35,
          36,
          15,
          36,
          13,
          36,
          36,
          36,
          16,
          20,
          28,
          29,
          24,
          19,
          18,
          14,
          14,
          35,
          35,
          29,
          36,
          26,
          28,
          36,
          36,
          18,
          21,
          32,
          36,
          27,
          18,
          24,
          36,
          30,
          19,
          16,
          30,
          21,
          36,
          31,
          33,
          26,
          36,
          36,
          24,
          36,
          24,
          29,
          20,
          30,
          36,
          30,
          23,
          23,
          36,
          26,
          21,
          25,
          15,
          23,
          24,
          36,
          29,
          36,
          32,
          36,
          36,
          36,
          12,
          12,
          32,
          20,
          12,
          36,
          15,
          36,
          36,
          27,
          27,
          36,
          29,
          36,
          27,
          26,
          16,
          28,
          18,
          30,
          33,
          36,
          36,
          24,
          30,
          36,
          24,
          36,
          36,
          24,
          23,
          36,
          33,
          34,
          36,
          36,
          27,
          36,
          24,
          24,
          32,
          24,
          30,
          36,
          30,
          24,
          36,
          36,
          12,
          36,
          29,
          36,
          32,
          18,
          26,
          26,
          30,
          25,
          25,
          30,
          12,
          18,
          24
         ],
         "xaxis": "x",
         "yaxis": "y"
        },
        {
         "alignmentgroup": "True",
         "bingroup": "x",
         "hovertemplate": "Sex=f<br>Age_Mons=%{x}<br>count=%{y}<extra></extra>",
         "legendgroup": "f",
         "marker": {
          "color": "#EF553B",
          "line": {
           "width": 1
          },
          "pattern": {
           "shape": ""
          }
         },
         "name": "f",
         "offsetgroup": "f",
         "orientation": "v",
         "showlegend": true,
         "type": "histogram",
         "x": [
          20,
          15,
          12,
          12,
          15,
          12,
          36,
          32,
          12,
          36,
          18,
          21,
          36,
          24,
          31,
          31,
          31,
          36,
          27,
          17,
          36,
          33,
          26,
          36,
          24,
          12,
          12,
          27,
          36,
          36,
          36,
          30,
          30,
          36,
          16,
          25,
          36,
          30,
          20,
          22,
          15,
          19,
          19,
          23,
          33,
          30,
          16,
          15,
          36,
          31,
          12,
          24,
          18,
          32,
          12,
          36,
          36,
          36,
          32,
          36,
          27,
          17,
          36,
          28,
          24,
          24,
          24,
          30,
          18,
          36,
          14,
          14,
          26,
          36,
          35,
          24,
          30,
          15,
          36,
          22,
          36,
          30,
          30,
          36,
          24,
          30,
          31,
          36,
          26,
          20,
          13,
          31,
          31,
          12,
          24,
          12,
          29,
          28,
          35,
          32,
          36,
          30,
          34,
          25,
          20,
          20,
          29,
          22,
          36,
          24,
          24,
          24,
          16,
          22,
          22,
          32,
          24,
          36,
          36,
          26,
          33,
          33,
          32,
          31,
          19,
          19,
          16,
          12,
          33,
          12,
          36,
          34,
          36,
          36,
          36,
          36,
          15,
          34,
          36,
          26,
          34,
          36,
          35,
          31,
          36,
          36,
          36,
          24,
          24,
          23,
          34,
          24,
          34,
          36,
          19,
          22,
          26,
          24,
          30,
          26,
          36,
          36,
          30,
          30,
          24,
          34,
          27,
          36,
          22,
          36,
          28,
          13,
          35,
          35,
          36,
          22,
          26,
          35,
          16,
          34,
          30,
          35,
          35,
          24,
          33,
          23,
          34,
          30,
          36,
          22,
          36,
          14,
          24,
          30
         ],
         "xaxis": "x",
         "yaxis": "y"
        }
       ],
       "layout": {
        "autosize": false,
        "barmode": "relative",
        "height": 400,
        "legend": {
         "title": {
          "text": "Sex"
         },
         "tracegroupgap": 0
        },
        "margin": {
         "t": 60
        },
        "template": {
         "data": {
          "bar": [
           {
            "error_x": {
             "color": "#2a3f5f"
            },
            "error_y": {
             "color": "#2a3f5f"
            },
            "marker": {
             "line": {
              "color": "#E5ECF6",
              "width": 0.5
             },
             "pattern": {
              "fillmode": "overlay",
              "size": 10,
              "solidity": 0.2
             }
            },
            "type": "bar"
           }
          ],
          "barpolar": [
           {
            "marker": {
             "line": {
              "color": "#E5ECF6",
              "width": 0.5
             },
             "pattern": {
              "fillmode": "overlay",
              "size": 10,
              "solidity": 0.2
             }
            },
            "type": "barpolar"
           }
          ],
          "carpet": [
           {
            "aaxis": {
             "endlinecolor": "#2a3f5f",
             "gridcolor": "white",
             "linecolor": "white",
             "minorgridcolor": "white",
             "startlinecolor": "#2a3f5f"
            },
            "baxis": {
             "endlinecolor": "#2a3f5f",
             "gridcolor": "white",
             "linecolor": "white",
             "minorgridcolor": "white",
             "startlinecolor": "#2a3f5f"
            },
            "type": "carpet"
           }
          ],
          "choropleth": [
           {
            "colorbar": {
             "outlinewidth": 0,
             "ticks": ""
            },
            "type": "choropleth"
           }
          ],
          "contour": [
           {
            "colorbar": {
             "outlinewidth": 0,
             "ticks": ""
            },
            "colorscale": [
             [
              0,
              "#0d0887"
             ],
             [
              0.1111111111111111,
              "#46039f"
             ],
             [
              0.2222222222222222,
              "#7201a8"
             ],
             [
              0.3333333333333333,
              "#9c179e"
             ],
             [
              0.4444444444444444,
              "#bd3786"
             ],
             [
              0.5555555555555556,
              "#d8576b"
             ],
             [
              0.6666666666666666,
              "#ed7953"
             ],
             [
              0.7777777777777778,
              "#fb9f3a"
             ],
             [
              0.8888888888888888,
              "#fdca26"
             ],
             [
              1,
              "#f0f921"
             ]
            ],
            "type": "contour"
           }
          ],
          "contourcarpet": [
           {
            "colorbar": {
             "outlinewidth": 0,
             "ticks": ""
            },
            "type": "contourcarpet"
           }
          ],
          "heatmap": [
           {
            "colorbar": {
             "outlinewidth": 0,
             "ticks": ""
            },
            "colorscale": [
             [
              0,
              "#0d0887"
             ],
             [
              0.1111111111111111,
              "#46039f"
             ],
             [
              0.2222222222222222,
              "#7201a8"
             ],
             [
              0.3333333333333333,
              "#9c179e"
             ],
             [
              0.4444444444444444,
              "#bd3786"
             ],
             [
              0.5555555555555556,
              "#d8576b"
             ],
             [
              0.6666666666666666,
              "#ed7953"
             ],
             [
              0.7777777777777778,
              "#fb9f3a"
             ],
             [
              0.8888888888888888,
              "#fdca26"
             ],
             [
              1,
              "#f0f921"
             ]
            ],
            "type": "heatmap"
           }
          ],
          "heatmapgl": [
           {
            "colorbar": {
             "outlinewidth": 0,
             "ticks": ""
            },
            "colorscale": [
             [
              0,
              "#0d0887"
             ],
             [
              0.1111111111111111,
              "#46039f"
             ],
             [
              0.2222222222222222,
              "#7201a8"
             ],
             [
              0.3333333333333333,
              "#9c179e"
             ],
             [
              0.4444444444444444,
              "#bd3786"
             ],
             [
              0.5555555555555556,
              "#d8576b"
             ],
             [
              0.6666666666666666,
              "#ed7953"
             ],
             [
              0.7777777777777778,
              "#fb9f3a"
             ],
             [
              0.8888888888888888,
              "#fdca26"
             ],
             [
              1,
              "#f0f921"
             ]
            ],
            "type": "heatmapgl"
           }
          ],
          "histogram": [
           {
            "marker": {
             "pattern": {
              "fillmode": "overlay",
              "size": 10,
              "solidity": 0.2
             }
            },
            "type": "histogram"
           }
          ],
          "histogram2d": [
           {
            "colorbar": {
             "outlinewidth": 0,
             "ticks": ""
            },
            "colorscale": [
             [
              0,
              "#0d0887"
             ],
             [
              0.1111111111111111,
              "#46039f"
             ],
             [
              0.2222222222222222,
              "#7201a8"
             ],
             [
              0.3333333333333333,
              "#9c179e"
             ],
             [
              0.4444444444444444,
              "#bd3786"
             ],
             [
              0.5555555555555556,
              "#d8576b"
             ],
             [
              0.6666666666666666,
              "#ed7953"
             ],
             [
              0.7777777777777778,
              "#fb9f3a"
             ],
             [
              0.8888888888888888,
              "#fdca26"
             ],
             [
              1,
              "#f0f921"
             ]
            ],
            "type": "histogram2d"
           }
          ],
          "histogram2dcontour": [
           {
            "colorbar": {
             "outlinewidth": 0,
             "ticks": ""
            },
            "colorscale": [
             [
              0,
              "#0d0887"
             ],
             [
              0.1111111111111111,
              "#46039f"
             ],
             [
              0.2222222222222222,
              "#7201a8"
             ],
             [
              0.3333333333333333,
              "#9c179e"
             ],
             [
              0.4444444444444444,
              "#bd3786"
             ],
             [
              0.5555555555555556,
              "#d8576b"
             ],
             [
              0.6666666666666666,
              "#ed7953"
             ],
             [
              0.7777777777777778,
              "#fb9f3a"
             ],
             [
              0.8888888888888888,
              "#fdca26"
             ],
             [
              1,
              "#f0f921"
             ]
            ],
            "type": "histogram2dcontour"
           }
          ],
          "mesh3d": [
           {
            "colorbar": {
             "outlinewidth": 0,
             "ticks": ""
            },
            "type": "mesh3d"
           }
          ],
          "parcoords": [
           {
            "line": {
             "colorbar": {
              "outlinewidth": 0,
              "ticks": ""
             }
            },
            "type": "parcoords"
           }
          ],
          "pie": [
           {
            "automargin": true,
            "type": "pie"
           }
          ],
          "scatter": [
           {
            "marker": {
             "colorbar": {
              "outlinewidth": 0,
              "ticks": ""
             }
            },
            "type": "scatter"
           }
          ],
          "scatter3d": [
           {
            "line": {
             "colorbar": {
              "outlinewidth": 0,
              "ticks": ""
             }
            },
            "marker": {
             "colorbar": {
              "outlinewidth": 0,
              "ticks": ""
             }
            },
            "type": "scatter3d"
           }
          ],
          "scattercarpet": [
           {
            "marker": {
             "colorbar": {
              "outlinewidth": 0,
              "ticks": ""
             }
            },
            "type": "scattercarpet"
           }
          ],
          "scattergeo": [
           {
            "marker": {
             "colorbar": {
              "outlinewidth": 0,
              "ticks": ""
             }
            },
            "type": "scattergeo"
           }
          ],
          "scattergl": [
           {
            "marker": {
             "colorbar": {
              "outlinewidth": 0,
              "ticks": ""
             }
            },
            "type": "scattergl"
           }
          ],
          "scattermapbox": [
           {
            "marker": {
             "colorbar": {
              "outlinewidth": 0,
              "ticks": ""
             }
            },
            "type": "scattermapbox"
           }
          ],
          "scatterpolar": [
           {
            "marker": {
             "colorbar": {
              "outlinewidth": 0,
              "ticks": ""
             }
            },
            "type": "scatterpolar"
           }
          ],
          "scatterpolargl": [
           {
            "marker": {
             "colorbar": {
              "outlinewidth": 0,
              "ticks": ""
             }
            },
            "type": "scatterpolargl"
           }
          ],
          "scatterternary": [
           {
            "marker": {
             "colorbar": {
              "outlinewidth": 0,
              "ticks": ""
             }
            },
            "type": "scatterternary"
           }
          ],
          "surface": [
           {
            "colorbar": {
             "outlinewidth": 0,
             "ticks": ""
            },
            "colorscale": [
             [
              0,
              "#0d0887"
             ],
             [
              0.1111111111111111,
              "#46039f"
             ],
             [
              0.2222222222222222,
              "#7201a8"
             ],
             [
              0.3333333333333333,
              "#9c179e"
             ],
             [
              0.4444444444444444,
              "#bd3786"
             ],
             [
              0.5555555555555556,
              "#d8576b"
             ],
             [
              0.6666666666666666,
              "#ed7953"
             ],
             [
              0.7777777777777778,
              "#fb9f3a"
             ],
             [
              0.8888888888888888,
              "#fdca26"
             ],
             [
              1,
              "#f0f921"
             ]
            ],
            "type": "surface"
           }
          ],
          "table": [
           {
            "cells": {
             "fill": {
              "color": "#EBF0F8"
             },
             "line": {
              "color": "white"
             }
            },
            "header": {
             "fill": {
              "color": "#C8D4E3"
             },
             "line": {
              "color": "white"
             }
            },
            "type": "table"
           }
          ]
         },
         "layout": {
          "annotationdefaults": {
           "arrowcolor": "#2a3f5f",
           "arrowhead": 0,
           "arrowwidth": 1
          },
          "autotypenumbers": "strict",
          "coloraxis": {
           "colorbar": {
            "outlinewidth": 0,
            "ticks": ""
           }
          },
          "colorscale": {
           "diverging": [
            [
             0,
             "#8e0152"
            ],
            [
             0.1,
             "#c51b7d"
            ],
            [
             0.2,
             "#de77ae"
            ],
            [
             0.3,
             "#f1b6da"
            ],
            [
             0.4,
             "#fde0ef"
            ],
            [
             0.5,
             "#f7f7f7"
            ],
            [
             0.6,
             "#e6f5d0"
            ],
            [
             0.7,
             "#b8e186"
            ],
            [
             0.8,
             "#7fbc41"
            ],
            [
             0.9,
             "#4d9221"
            ],
            [
             1,
             "#276419"
            ]
           ],
           "sequential": [
            [
             0,
             "#0d0887"
            ],
            [
             0.1111111111111111,
             "#46039f"
            ],
            [
             0.2222222222222222,
             "#7201a8"
            ],
            [
             0.3333333333333333,
             "#9c179e"
            ],
            [
             0.4444444444444444,
             "#bd3786"
            ],
            [
             0.5555555555555556,
             "#d8576b"
            ],
            [
             0.6666666666666666,
             "#ed7953"
            ],
            [
             0.7777777777777778,
             "#fb9f3a"
            ],
            [
             0.8888888888888888,
             "#fdca26"
            ],
            [
             1,
             "#f0f921"
            ]
           ],
           "sequentialminus": [
            [
             0,
             "#0d0887"
            ],
            [
             0.1111111111111111,
             "#46039f"
            ],
            [
             0.2222222222222222,
             "#7201a8"
            ],
            [
             0.3333333333333333,
             "#9c179e"
            ],
            [
             0.4444444444444444,
             "#bd3786"
            ],
            [
             0.5555555555555556,
             "#d8576b"
            ],
            [
             0.6666666666666666,
             "#ed7953"
            ],
            [
             0.7777777777777778,
             "#fb9f3a"
            ],
            [
             0.8888888888888888,
             "#fdca26"
            ],
            [
             1,
             "#f0f921"
            ]
           ]
          },
          "colorway": [
           "#636efa",
           "#EF553B",
           "#00cc96",
           "#ab63fa",
           "#FFA15A",
           "#19d3f3",
           "#FF6692",
           "#B6E880",
           "#FF97FF",
           "#FECB52"
          ],
          "font": {
           "color": "#2a3f5f"
          },
          "geo": {
           "bgcolor": "white",
           "lakecolor": "white",
           "landcolor": "#E5ECF6",
           "showlakes": true,
           "showland": true,
           "subunitcolor": "white"
          },
          "hoverlabel": {
           "align": "left"
          },
          "hovermode": "closest",
          "mapbox": {
           "style": "light"
          },
          "paper_bgcolor": "white",
          "plot_bgcolor": "#E5ECF6",
          "polar": {
           "angularaxis": {
            "gridcolor": "white",
            "linecolor": "white",
            "ticks": ""
           },
           "bgcolor": "#E5ECF6",
           "radialaxis": {
            "gridcolor": "white",
            "linecolor": "white",
            "ticks": ""
           }
          },
          "scene": {
           "xaxis": {
            "backgroundcolor": "#E5ECF6",
            "gridcolor": "white",
            "gridwidth": 2,
            "linecolor": "white",
            "showbackground": true,
            "ticks": "",
            "zerolinecolor": "white"
           },
           "yaxis": {
            "backgroundcolor": "#E5ECF6",
            "gridcolor": "white",
            "gridwidth": 2,
            "linecolor": "white",
            "showbackground": true,
            "ticks": "",
            "zerolinecolor": "white"
           },
           "zaxis": {
            "backgroundcolor": "#E5ECF6",
            "gridcolor": "white",
            "gridwidth": 2,
            "linecolor": "white",
            "showbackground": true,
            "ticks": "",
            "zerolinecolor": "white"
           }
          },
          "shapedefaults": {
           "line": {
            "color": "#2a3f5f"
           }
          },
          "ternary": {
           "aaxis": {
            "gridcolor": "white",
            "linecolor": "white",
            "ticks": ""
           },
           "baxis": {
            "gridcolor": "white",
            "linecolor": "white",
            "ticks": ""
           },
           "bgcolor": "#E5ECF6",
           "caxis": {
            "gridcolor": "white",
            "linecolor": "white",
            "ticks": ""
           }
          },
          "title": {
           "x": 0.05
          },
          "xaxis": {
           "automargin": true,
           "gridcolor": "white",
           "linecolor": "white",
           "ticks": "",
           "title": {
            "standoff": 15
           },
           "zerolinecolor": "white",
           "zerolinewidth": 2
          },
          "yaxis": {
           "automargin": true,
           "gridcolor": "white",
           "linecolor": "white",
           "ticks": "",
           "title": {
            "standoff": 15
           },
           "zerolinecolor": "white",
           "zerolinewidth": 2
          }
         }
        },
        "title": {
         "text": "Age vs Gender Distribution"
        },
        "width": 600,
        "xaxis": {
         "anchor": "y",
         "autorange": true,
         "domain": [
          0,
          1
         ],
         "range": [
          11.5,
          37.5
         ],
         "title": {
          "text": "Age_Mons"
         },
         "type": "linear"
        },
        "yaxis": {
         "anchor": "x",
         "autorange": true,
         "domain": [
          0,
          1
         ],
         "range": [
          0,
          224.21052631578948
         ],
         "title": {
          "text": "count"
         }
        }
       }
      },
      "image/png": "[encoded data removed]",
      "text/html": [
       "<div>                            <div id=\"df609e56-d793-47e6-a21a-af60f4daf22b\" class=\"plotly-graph-div\" style=\"height:400px; width:600px;\"></div>            <script type=\"text/javascript\">                require([\"plotly\"], function(Plotly) {                    window.PLOTLYENV=window.PLOTLYENV || {};                                    if (document.getElementById(\"df609e56-d793-47e6-a21a-af60f4daf22b\")) {                    Plotly.newPlot(                        \"df609e56-d793-47e6-a21a-af60f4daf22b\",                        [{\"alignmentgroup\":\"True\",\"bingroup\":\"x\",\"hovertemplate\":\"Sex=m<br>Age_Mons=%{x}<br>count=%{y}<extra></extra>\",\"legendgroup\":\"m\",\"marker\":{\"color\":\"#636efa\",\"line\":{\"width\":1},\"pattern\":{\"shape\":\"\"}},\"name\":\"m\",\"offsetgroup\":\"m\",\"orientation\":\"v\",\"showlegend\":true,\"type\":\"histogram\",\"x\":[36,36,24,21,33,33,22,36,17,12,36,36,36,36,22,36,35,36,25,36,30,34,34,26,19,29,30,30,23,34,34,32,33,34,36,25,24,36,30,32,32,29,18,27,19,36,36,20,24,36,35,23,24,23,23,33,26,33,36,28,36,30,23,12,29,23,33,35,30,24,20,20,35,34,36,15,36,36,36,25,22,23,36,21,22,13,33,33,36,20,36,36,36,31,24,28,36,28,18,36,36,36,31,31,35,23,36,30,36,36,30,29,32,32,36,36,12,28,27,28,31,23,36,26,20,20,36,17,26,23,21,36,33,33,36,36,36,26,26,26,14,16,28,30,32,31,23,12,23,36,26,36,33,36,28,28,12,36,36,36,36,36,34,24,14,14,36,34,36,36,36,36,36,36,35,30,30,30,30,30,24,26,36,32,36,36,36,36,20,26,32,35,36,36,36,33,36,27,29,36,33,12,36,36,30,15,36,12,26,36,36,36,30,25,28,28,12,36,19,32,35,29,36,19,24,36,13,13,36,36,17,20,36,28,28,26,28,36,28,36,28,34,32,29,27,25,36,12,36,36,36,36,35,36,36,22,24,19,24,21,30,17,13,13,34,34,36,25,25,36,35,35,19,36,36,36,36,33,22,22,31,36,36,36,23,36,35,24,24,24,26,12,36,23,36,36,36,36,36,36,36,36,36,26,36,27,36,36,36,36,36,30,26,20,28,28,28,28,28,36,30,27,22,36,36,34,24,25,25,33,36,29,28,24,24,18,28,34,22,14,24,14,14,36,24,17,29,36,14,16,14,24,36,32,27,33,23,34,36,24,35,15,15,22,36,30,36,29,26,23,15,25,28,36,30,30,29,31,36,12,26,36,28,12,31,31,22,36,14,27,28,14,31,28,15,12,16,28,24,22,29,14,36,35,36,15,36,13,36,36,36,16,20,28,29,24,19,18,14,14,35,35,29,36,26,28,36,36,18,21,32,36,27,18,24,36,30,19,16,30,21,36,31,33,26,36,36,24,36,24,29,20,30,36,30,23,23,36,26,21,25,15,23,24,36,29,36,32,36,36,36,12,12,32,20,12,36,15,36,36,27,27,36,29,36,27,26,16,28,18,30,33,36,36,24,30,36,24,36,36,24,23,36,33,34,36,36,27,36,24,24,32,24,30,36,30,24,36,36,12,36,29,36,32,18,26,26,30,25,25,30,12,18,24],\"xaxis\":\"x\",\"yaxis\":\"y\"},{\"alignmentgroup\":\"True\",\"bingroup\":\"x\",\"hovertemplate\":\"Sex=f<br>Age_Mons=%{x}<br>count=%{y}<extra></extra>\",\"legendgroup\":\"f\",\"marker\":{\"color\":\"#EF553B\",\"line\":{\"width\":1},\"pattern\":{\"shape\":\"\"}},\"name\":\"f\",\"offsetgroup\":\"f\",\"orientation\":\"v\",\"showlegend\":true,\"type\":\"histogram\",\"x\":[20,15,12,12,15,12,36,32,12,36,18,21,36,24,31,31,31,36,27,17,36,33,26,36,24,12,12,27,36,36,36,30,30,36,16,25,36,30,20,22,15,19,19,23,33,30,16,15,36,31,12,24,18,32,12,36,36,36,32,36,27,17,36,28,24,24,24,30,18,36,14,14,26,36,35,24,30,15,36,22,36,30,30,36,24,30,31,36,26,20,13,31,31,12,24,12,29,28,35,32,36,30,34,25,20,20,29,22,36,24,24,24,16,22,22,32,24,36,36,26,33,33,32,31,19,19,16,12,33,12,36,34,36,36,36,36,15,34,36,26,34,36,35,31,36,36,36,24,24,23,34,24,34,36,19,22,26,24,30,26,36,36,30,30,24,34,27,36,22,36,28,13,35,35,36,22,26,35,16,34,30,35,35,24,33,23,34,30,36,22,36,14,24,30],\"xaxis\":\"x\",\"yaxis\":\"y\"}],                        {\"autosize\":false,\"barmode\":\"relative\",\"height\":400,\"legend\":{\"title\":{\"text\":\"Sex\"},\"tracegroupgap\":0},\"margin\":{\"t\":60},\"template\":{\"data\":{\"bar\":[{\"error_x\":{\"color\":\"#2a3f5f\"},\"error_y\":{\"color\":\"#2a3f5f\"},\"marker\":{\"line\":{\"color\":\"#E5ECF6\",\"width\":0.5},\"pattern\":{\"fillmode\":\"overlay\",\"size\":10,\"solidity\":0.2}},\"type\":\"bar\"}],\"barpolar\":[{\"marker\":{\"line\":{\"color\":\"#E5ECF6\",\"width\":0.5},\"pattern\":{\"fillmode\":\"overlay\",\"size\":10,\"solidity\":0.2}},\"type\":\"barpolar\"}],\"carpet\":[{\"aaxis\":{\"endlinecolor\":\"#2a3f5f\",\"gridcolor\":\"white\",\"linecolor\":\"white\",\"minorgridcolor\":\"white\",\"startlinecolor\":\"#2a3f5f\"},\"baxis\":{\"endlinecolor\":\"#2a3f5f\",\"gridcolor\":\"white\",\"linecolor\":\"white\",\"minorgridcolor\":\"white\",\"startlinecolor\":\"#2a3f5f\"},\"type\":\"carpet\"}],\"choropleth\":[{\"colorbar\":{\"outlinewidth\":0,\"ticks\":\"\"},\"type\":\"choropleth\"}],\"contour\":[{\"colorbar\":{\"outlinewidth\":0,\"ticks\":\"\"},\"colorscale\":[[0.0,\"#0d0887\"],[0.1111111111111111,\"#46039f\"],[0.2222222222222222,\"#7201a8\"],[0.3333333333333333,\"#9c179e\"],[0.4444444444444444,\"#bd3786\"],[0.5555555555555556,\"#d8576b\"],[0.6666666666666666,\"#ed7953\"],[0.7777777777777778,\"#fb9f3a\"],[0.8888888888888888,\"#fdca26\"],[1.0,\"#f0f921\"]],\"type\":\"contour\"}],\"contourcarpet\":[{\"colorbar\":{\"outlinewidth\":0,\"ticks\":\"\"},\"type\":\"contourcarpet\"}],\"heatmap\":[{\"colorbar\":{\"outlinewidth\":0,\"ticks\":\"\"},\"colorscale\":[[0.0,\"#0d0887\"],[0.1111111111111111,\"#46039f\"],[0.2222222222222222,\"#7201a8\"],[0.3333333333333333,\"#9c179e\"],[0.4444444444444444,\"#bd3786\"],[0.5555555555555556,\"#d8576b\"],[0.6666666666666666,\"#ed7953\"],[0.7777777777777778,\"#fb9f3a\"],[0.8888888888888888,\"#fdca26\"],[1.0,\"#f0f921\"]],\"type\":\"heatmap\"}],\"heatmapgl\":[{\"colorbar\":{\"outlinewidth\":0,\"ticks\":\"\"},\"colorscale\":[[0.0,\"#0d0887\"],[0.1111111111111111,\"#46039f\"],[0.2222222222222222,\"#7201a8\"],[0.3333333333333333,\"#9c179e\"],[0.4444444444444444,\"#bd3786\"],[0.5555555555555556,\"#d8576b\"],[0.6666666666666666,\"#ed7953\"],[0.7777777777777778,\"#fb9f3a\"],[0.8888888888888888,\"#fdca26\"],[1.0,\"#f0f921\"]],\"type\":\"heatmapgl\"}],\"histogram\":[{\"marker\":{\"pattern\":{\"fillmode\":\"overlay\",\"size\":10,\"solidity\":0.2}},\"type\":\"histogram\"}],\"histogram2d\":[{\"colorbar\":{\"outlinewidth\":0,\"ticks\":\"\"},\"colorscale\":[[0.0,\"#0d0887\"],[0.1111111111111111,\"#46039f\"],[0.2222222222222222,\"#7201a8\"],[0.3333333333333333,\"#9c179e\"],[0.4444444444444444,\"#bd3786\"],[0.5555555555555556,\"#d8576b\"],[0.6666666666666666,\"#ed7953\"],[0.7777777777777778,\"#fb9f3a\"],[0.8888888888888888,\"#fdca26\"],[1.0,\"#f0f921\"]],\"type\":\"histogram2d\"}],\"histogram2dcontour\":[{\"colorbar\":{\"outlinewidth\":0,\"ticks\":\"\"},\"colorscale\":[[0.0,\"#0d0887\"],[0.1111111111111111,\"#46039f\"],[0.2222222222222222,\"#7201a8\"],[0.3333333333333333,\"#9c179e\"],[0.4444444444444444,\"#bd3786\"],[0.5555555555555556,\"#d8576b\"],[0.6666666666666666,\"#ed7953\"],[0.7777777777777778,\"#fb9f3a\"],[0.8888888888888888,\"#fdca26\"],[1.0,\"#f0f921\"]],\"type\":\"histogram2dcontour\"}],\"mesh3d\":[{\"colorbar\":{\"outlinewidth\":0,\"ticks\":\"\"},\"type\":\"mesh3d\"}],\"parcoords\":[{\"line\":{\"colorbar\":{\"outlinewidth\":0,\"ticks\":\"\"}},\"type\":\"parcoords\"}],\"pie\":[{\"automargin\":true,\"type\":\"pie\"}],\"scatter\":[{\"marker\":{\"colorbar\":{\"outlinewidth\":0,\"ticks\":\"\"}},\"type\":\"scatter\"}],\"scatter3d\":[{\"line\":{\"colorbar\":{\"outlinewidth\":0,\"ticks\":\"\"}},\"marker\":{\"colorbar\":{\"outlinewidth\":0,\"ticks\":\"\"}},\"type\":\"scatter3d\"}],\"scattercarpet\":[{\"marker\":{\"colorbar\":{\"outlinewidth\":0,\"ticks\":\"\"}},\"type\":\"scattercarpet\"}],\"scattergeo\":[{\"marker\":{\"colorbar\":{\"outlinewidth\":0,\"ticks\":\"\"}},\"type\":\"scattergeo\"}],\"scattergl\":[{\"marker\":{\"colorbar\":{\"outlinewidth\":0,\"ticks\":\"\"}},\"type\":\"scattergl\"}],\"scattermapbox\":[{\"marker\":{\"colorbar\":{\"outlinewidth\":0,\"ticks\":\"\"}},\"type\":\"scattermapbox\"}],\"scatterpolar\":[{\"marker\":{\"colorbar\":{\"outlinewidth\":0,\"ticks\":\"\"}},\"type\":\"scatterpolar\"}],\"scatterpolargl\":[{\"marker\":{\"colorbar\":{\"outlinewidth\":0,\"ticks\":\"\"}},\"type\":\"scatterpolargl\"}],\"scatterternary\":[{\"marker\":{\"colorbar\":{\"outlinewidth\":0,\"ticks\":\"\"}},\"type\":\"scatterternary\"}],\"surface\":[{\"colorbar\":{\"outlinewidth\":0,\"ticks\":\"\"},\"colorscale\":[[0.0,\"#0d0887\"],[0.1111111111111111,\"#46039f\"],[0.2222222222222222,\"#7201a8\"],[0.3333333333333333,\"#9c179e\"],[0.4444444444444444,\"#bd3786\"],[0.5555555555555556,\"#d8576b\"],[0.6666666666666666,\"#ed7953\"],[0.7777777777777778,\"#fb9f3a\"],[0.8888888888888888,\"#fdca26\"],[1.0,\"#f0f921\"]],\"type\":\"surface\"}],\"table\":[{\"cells\":{\"fill\":{\"color\":\"#EBF0F8\"},\"line\":{\"color\":\"white\"}},\"header\":{\"fill\":{\"color\":\"#C8D4E3\"},\"line\":{\"color\":\"white\"}},\"type\":\"table\"}]},\"layout\":{\"annotationdefaults\":{\"arrowcolor\":\"#2a3f5f\",\"arrowhead\":0,\"arrowwidth\":1},\"autotypenumbers\":\"strict\",\"coloraxis\":{\"colorbar\":{\"outlinewidth\":0,\"ticks\":\"\"}},\"colorscale\":{\"diverging\":[[0,\"#8e0152\"],[0.1,\"#c51b7d\"],[0.2,\"#de77ae\"],[0.3,\"#f1b6da\"],[0.4,\"#fde0ef\"],[0.5,\"#f7f7f7\"],[0.6,\"#e6f5d0\"],[0.7,\"#b8e186\"],[0.8,\"#7fbc41\"],[0.9,\"#4d9221\"],[1,\"#276419\"]],\"sequential\":[[0.0,\"#0d0887\"],[0.1111111111111111,\"#46039f\"],[0.2222222222222222,\"#7201a8\"],[0.3333333333333333,\"#9c179e\"],[0.4444444444444444,\"#bd3786\"],[0.5555555555555556,\"#d8576b\"],[0.6666666666666666,\"#ed7953\"],[0.7777777777777778,\"#fb9f3a\"],[0.8888888888888888,\"#fdca26\"],[1.0,\"#f0f921\"]],\"sequentialminus\":[[0.0,\"#0d0887\"],[0.1111111111111111,\"#46039f\"],[0.2222222222222222,\"#7201a8\"],[0.3333333333333333,\"#9c179e\"],[0.4444444444444444,\"#bd3786\"],[0.5555555555555556,\"#d8576b\"],[0.6666666666666666,\"#ed7953\"],[0.7777777777777778,\"#fb9f3a\"],[0.8888888888888888,\"#fdca26\"],[1.0,\"#f0f921\"]]},\"colorway\":[\"#636efa\",\"#EF553B\",\"#00cc96\",\"#ab63fa\",\"#FFA15A\",\"#19d3f3\",\"#FF6692\",\"#B6E880\",\"#FF97FF\",\"#FECB52\"],\"font\":{\"color\":\"#2a3f5f\"},\"geo\":{\"bgcolor\":\"white\",\"lakecolor\":\"white\",\"landcolor\":\"#E5ECF6\",\"showlakes\":true,\"showland\":true,\"subunitcolor\":\"white\"},\"hoverlabel\":{\"align\":\"left\"},\"hovermode\":\"closest\",\"mapbox\":{\"style\":\"light\"},\"paper_bgcolor\":\"white\",\"plot_bgcolor\":\"#E5ECF6\",\"polar\":{\"angularaxis\":{\"gridcolor\":\"white\",\"linecolor\":\"white\",\"ticks\":\"\"},\"bgcolor\":\"#E5ECF6\",\"radialaxis\":{\"gridcolor\":\"white\",\"linecolor\":\"white\",\"ticks\":\"\"}},\"scene\":{\"xaxis\":{\"backgroundcolor\":\"#E5ECF6\",\"gridcolor\":\"white\",\"gridwidth\":2,\"linecolor\":\"white\",\"showbackground\":true,\"ticks\":\"\",\"zerolinecolor\":\"white\"},\"yaxis\":{\"backgroundcolor\":\"#E5ECF6\",\"gridcolor\":\"white\",\"gridwidth\":2,\"linecolor\":\"white\",\"showbackground\":true,\"ticks\":\"\",\"zerolinecolor\":\"white\"},\"zaxis\":{\"backgroundcolor\":\"#E5ECF6\",\"gridcolor\":\"white\",\"gridwidth\":2,\"linecolor\":\"white\",\"showbackground\":true,\"ticks\":\"\",\"zerolinecolor\":\"white\"}},\"shapedefaults\":{\"line\":{\"color\":\"#2a3f5f\"}},\"ternary\":{\"aaxis\":{\"gridcolor\":\"white\",\"linecolor\":\"white\",\"ticks\":\"\"},\"baxis\":{\"gridcolor\":\"white\",\"linecolor\":\"white\",\"ticks\":\"\"},\"bgcolor\":\"#E5ECF6\",\"caxis\":{\"gridcolor\":\"white\",\"linecolor\":\"white\",\"ticks\":\"\"}},\"title\":{\"x\":0.05},\"xaxis\":{\"automargin\":true,\"gridcolor\":\"white\",\"linecolor\":\"white\",\"ticks\":\"\",\"title\":{\"standoff\":15},\"zerolinecolor\":\"white\",\"zerolinewidth\":2},\"yaxis\":{\"automargin\":true,\"gridcolor\":\"white\",\"linecolor\":\"white\",\"ticks\":\"\",\"title\":{\"standoff\":15},\"zerolinecolor\":\"white\",\"zerolinewidth\":2}}},\"title\":{\"text\":\"Age vs Gender Distribution\"},\"width\":600,\"xaxis\":{\"anchor\":\"y\",\"domain\":[0.0,1.0],\"title\":{\"text\":\"Age_Mons\"}},\"yaxis\":{\"anchor\":\"x\",\"domain\":[0.0,1.0],\"title\":{\"text\":\"count\"}}},                        {\"responsive\": true}                    ).then(function(){\n",
       "                            \n",
       "var gd = document.getElementById('df609e56-d793-47e6-a21a-af60f4daf22b');\n",
       "var x = new MutationObserver(function (mutations, observer) {{\n",
       "        var display = window.getComputedStyle(gd).display;\n",
       "        if (!display || display === 'none') {{\n",
       "            console.log([gd, 'removed!']);\n",
       "            Plotly.purge(gd);\n",
       "            observer.disconnect();\n",
       "        }}\n",
       "}});\n",
       "\n",
       "// Listen for the removal of the full notebook cells\n",
       "var notebookContainer = gd.closest('#notebook-container');\n",
       "if (notebookContainer) {{\n",
       "    x.observe(notebookContainer, {childList: true});\n",
       "}}\n",
       "\n",
       "// Listen for the clearing of the current output cell\n",
       "var outputEl = gd.closest('.output');\n",
       "if (outputEl) {{\n",
       "    x.observe(outputEl, {childList: true});\n",
       "}}\n",
       "\n",
       "                        })                };                });            </script>        </div>"
      ]
     },
     "metadata": {},
     "output_type": "display_data"
    }
   ],
   "source": [
    "import plotly.express as px\n",
    "import pandas as pd\n",
    "\n",
    "# histogram and layout:\n",
    "\n",
    "autism = pd.read_csv('taDataset.csv')\n",
    "fig = px.histogram(autism[autism['Class/ASD Traits '] == 'Yes'],\n",
    "                   x=\"Age_Mons\",\n",
    "                   color=\"Sex\")\n",
    "fig.update_layout(autosize=False,\n",
    "                  width=600,\n",
    "                  height=400,\n",
    "                  title=\"Age vs Gender Distribution\")\n",
    "fig.update_traces(marker_line_width=1)\n",
    "fig.show()"
   ]
  },
  {
   "cell_type": "markdown",
   "id": "e57680bb",
   "metadata": {},
   "source": [
    "## Data Adjustment"
   ]
  },
  {
   "cell_type": "code",
   "execution_count": 57,
   "id": "09652360",
   "metadata": {
    "ExecuteTime": {
     "end_time": "2021-12-15T22:52:36.291471Z",
     "start_time": "2021-12-15T22:52:36.280445Z"
    }
   },
   "outputs": [],
   "source": [
    "# Q 10 Scoring  and Characterstics:\n",
    "\n",
    "autism.rename(\n",
    "    columns={\n",
    "        \"Case_No\": \"id\",\n",
    "        \"A1\": \"A1_Score\",\n",
    "        \"A2\": \"A2_Score\",\n",
    "        \"A3\": \"A3_Score\",\n",
    "        \"A4\": \"A4_Score\",\n",
    "        \"A5\": \"A5_Score\",\n",
    "        \"A6\": \"A6_Score\",\n",
    "        \"A7\": \"A7_Score\",\n",
    "        \"A8\": \"A8_Score\",\n",
    "        \"A9\": \"A9_Score\",\n",
    "        \"A10\": \"A10_Score\",\n",
    "        \"Sex\": \"gender\",\n",
    "        \"Ethnicity\": \"ethnicity\",\n",
    "        \"Jaundice\": \"jundice\",\n",
    "        \"Family_mem_with_ASD\": \"austim\",\n",
    "        \"Who completed the test\": \"relation\",\n",
    "        \"Class/ASD Traits \": \"Class/ASD\",\n",
    "        \"Qchat-10-Score\": \"result\",\n",
    "    },\n",
    "    inplace=True,\n",
    ")\n",
    "\n",
    "raw_target = autism[\"Class/ASD\"]\n",
    "raw_features = autism[\n",
    "    [\n",
    "        \"A1_Score\",\n",
    "        \"A2_Score\",\n",
    "        \"A3_Score\",\n",
    "        \"A4_Score\",\n",
    "        \"A5_Score\",\n",
    "        \"A6_Score\",\n",
    "        \"A7_Score\",\n",
    "        \"A8_Score\",\n",
    "        \"A9_Score\",\n",
    "        \"A10_Score\",\n",
    "        \"Age_Mons\",\n",
    "        \"gender\",\n",
    "        \"ethnicity\",\n",
    "        \"jundice\",\n",
    "        \"austim\",\n",
    "        \"result\",\n",
    "        \"relation\",\n",
    "    ]\n",
    "]\n",
    "scaler = MinMaxScaler()\n",
    "num_features = [\"Age_Mons\", \"result\"]\n",
    "\n",
    "features_minmax_transform = pd.DataFrame(data=raw_features)\n",
    "features_minmax_transform[num_features] = scaler.fit_transform(\n",
    "    raw_features[num_features]\n",
    ")"
   ]
  },
  {
   "cell_type": "code",
   "execution_count": 58,
   "id": "6b8f782d",
   "metadata": {
    "ExecuteTime": {
     "end_time": "2021-12-15T22:52:36.307261Z",
     "start_time": "2021-12-15T22:52:36.293141Z"
    }
   },
   "outputs": [
    {
     "data": {
      "text/html": [
       "<div>\n",
       "<style scoped>\n",
       "    .dataframe tbody tr th:only-of-type {\n",
       "        vertical-align: middle;\n",
       "    }\n",
       "\n",
       "    .dataframe tbody tr th {\n",
       "        vertical-align: top;\n",
       "    }\n",
       "\n",
       "    .dataframe thead th {\n",
       "        text-align: right;\n",
       "    }\n",
       "</style>\n",
       "<table border=\"1\" class=\"dataframe\">\n",
       "  <thead>\n",
       "    <tr style=\"text-align: right;\">\n",
       "      <th></th>\n",
       "      <th>A1_Score</th>\n",
       "      <th>A2_Score</th>\n",
       "      <th>A3_Score</th>\n",
       "      <th>A4_Score</th>\n",
       "      <th>A5_Score</th>\n",
       "      <th>A6_Score</th>\n",
       "      <th>A7_Score</th>\n",
       "      <th>A8_Score</th>\n",
       "      <th>A9_Score</th>\n",
       "      <th>A10_Score</th>\n",
       "      <th>Age_Mons</th>\n",
       "      <th>gender</th>\n",
       "      <th>ethnicity</th>\n",
       "      <th>jundice</th>\n",
       "      <th>austim</th>\n",
       "      <th>result</th>\n",
       "      <th>relation</th>\n",
       "    </tr>\n",
       "  </thead>\n",
       "  <tbody>\n",
       "    <tr>\n",
       "      <th>0</th>\n",
       "      <td>0</td>\n",
       "      <td>0</td>\n",
       "      <td>0</td>\n",
       "      <td>0</td>\n",
       "      <td>0</td>\n",
       "      <td>0</td>\n",
       "      <td>1</td>\n",
       "      <td>1</td>\n",
       "      <td>0</td>\n",
       "      <td>1</td>\n",
       "      <td>0.666667</td>\n",
       "      <td>f</td>\n",
       "      <td>middle eastern</td>\n",
       "      <td>yes</td>\n",
       "      <td>no</td>\n",
       "      <td>0.3</td>\n",
       "      <td>family member</td>\n",
       "    </tr>\n",
       "    <tr>\n",
       "      <th>1</th>\n",
       "      <td>1</td>\n",
       "      <td>1</td>\n",
       "      <td>0</td>\n",
       "      <td>0</td>\n",
       "      <td>0</td>\n",
       "      <td>1</td>\n",
       "      <td>1</td>\n",
       "      <td>0</td>\n",
       "      <td>0</td>\n",
       "      <td>0</td>\n",
       "      <td>1.000000</td>\n",
       "      <td>m</td>\n",
       "      <td>White European</td>\n",
       "      <td>yes</td>\n",
       "      <td>no</td>\n",
       "      <td>0.4</td>\n",
       "      <td>family member</td>\n",
       "    </tr>\n",
       "    <tr>\n",
       "      <th>2</th>\n",
       "      <td>1</td>\n",
       "      <td>0</td>\n",
       "      <td>0</td>\n",
       "      <td>0</td>\n",
       "      <td>0</td>\n",
       "      <td>0</td>\n",
       "      <td>1</td>\n",
       "      <td>1</td>\n",
       "      <td>0</td>\n",
       "      <td>1</td>\n",
       "      <td>1.000000</td>\n",
       "      <td>m</td>\n",
       "      <td>middle eastern</td>\n",
       "      <td>yes</td>\n",
       "      <td>no</td>\n",
       "      <td>0.4</td>\n",
       "      <td>family member</td>\n",
       "    </tr>\n",
       "    <tr>\n",
       "      <th>3</th>\n",
       "      <td>1</td>\n",
       "      <td>1</td>\n",
       "      <td>1</td>\n",
       "      <td>1</td>\n",
       "      <td>1</td>\n",
       "      <td>1</td>\n",
       "      <td>1</td>\n",
       "      <td>1</td>\n",
       "      <td>1</td>\n",
       "      <td>1</td>\n",
       "      <td>0.500000</td>\n",
       "      <td>m</td>\n",
       "      <td>Hispanic</td>\n",
       "      <td>no</td>\n",
       "      <td>no</td>\n",
       "      <td>1.0</td>\n",
       "      <td>family member</td>\n",
       "    </tr>\n",
       "    <tr>\n",
       "      <th>4</th>\n",
       "      <td>1</td>\n",
       "      <td>1</td>\n",
       "      <td>0</td>\n",
       "      <td>1</td>\n",
       "      <td>1</td>\n",
       "      <td>1</td>\n",
       "      <td>1</td>\n",
       "      <td>1</td>\n",
       "      <td>1</td>\n",
       "      <td>1</td>\n",
       "      <td>0.333333</td>\n",
       "      <td>f</td>\n",
       "      <td>White European</td>\n",
       "      <td>no</td>\n",
       "      <td>yes</td>\n",
       "      <td>0.9</td>\n",
       "      <td>family member</td>\n",
       "    </tr>\n",
       "    <tr>\n",
       "      <th>5</th>\n",
       "      <td>1</td>\n",
       "      <td>1</td>\n",
       "      <td>0</td>\n",
       "      <td>0</td>\n",
       "      <td>1</td>\n",
       "      <td>1</td>\n",
       "      <td>1</td>\n",
       "      <td>1</td>\n",
       "      <td>1</td>\n",
       "      <td>1</td>\n",
       "      <td>0.375000</td>\n",
       "      <td>m</td>\n",
       "      <td>black</td>\n",
       "      <td>no</td>\n",
       "      <td>no</td>\n",
       "      <td>0.8</td>\n",
       "      <td>family member</td>\n",
       "    </tr>\n",
       "    <tr>\n",
       "      <th>6</th>\n",
       "      <td>1</td>\n",
       "      <td>0</td>\n",
       "      <td>0</td>\n",
       "      <td>1</td>\n",
       "      <td>1</td>\n",
       "      <td>1</td>\n",
       "      <td>0</td>\n",
       "      <td>0</td>\n",
       "      <td>1</td>\n",
       "      <td>0</td>\n",
       "      <td>0.875000</td>\n",
       "      <td>m</td>\n",
       "      <td>asian</td>\n",
       "      <td>yes</td>\n",
       "      <td>no</td>\n",
       "      <td>0.5</td>\n",
       "      <td>family member</td>\n",
       "    </tr>\n",
       "    <tr>\n",
       "      <th>7</th>\n",
       "      <td>0</td>\n",
       "      <td>1</td>\n",
       "      <td>0</td>\n",
       "      <td>0</td>\n",
       "      <td>1</td>\n",
       "      <td>0</td>\n",
       "      <td>1</td>\n",
       "      <td>1</td>\n",
       "      <td>1</td>\n",
       "      <td>1</td>\n",
       "      <td>0.875000</td>\n",
       "      <td>m</td>\n",
       "      <td>asian</td>\n",
       "      <td>yes</td>\n",
       "      <td>no</td>\n",
       "      <td>0.6</td>\n",
       "      <td>family member</td>\n",
       "    </tr>\n",
       "    <tr>\n",
       "      <th>8</th>\n",
       "      <td>0</td>\n",
       "      <td>0</td>\n",
       "      <td>0</td>\n",
       "      <td>0</td>\n",
       "      <td>0</td>\n",
       "      <td>0</td>\n",
       "      <td>1</td>\n",
       "      <td>0</td>\n",
       "      <td>0</td>\n",
       "      <td>1</td>\n",
       "      <td>1.000000</td>\n",
       "      <td>m</td>\n",
       "      <td>asian</td>\n",
       "      <td>no</td>\n",
       "      <td>no</td>\n",
       "      <td>0.2</td>\n",
       "      <td>family member</td>\n",
       "    </tr>\n",
       "    <tr>\n",
       "      <th>9</th>\n",
       "      <td>1</td>\n",
       "      <td>1</td>\n",
       "      <td>1</td>\n",
       "      <td>0</td>\n",
       "      <td>1</td>\n",
       "      <td>1</td>\n",
       "      <td>0</td>\n",
       "      <td>1</td>\n",
       "      <td>1</td>\n",
       "      <td>1</td>\n",
       "      <td>0.416667</td>\n",
       "      <td>m</td>\n",
       "      <td>south asian</td>\n",
       "      <td>no</td>\n",
       "      <td>no</td>\n",
       "      <td>0.8</td>\n",
       "      <td>Health Care Professional</td>\n",
       "    </tr>\n",
       "  </tbody>\n",
       "</table>\n",
       "</div>"
      ],
      "text/plain": [
       "   A1_Score  A2_Score  A3_Score  A4_Score  A5_Score  A6_Score  A7_Score  \\\n",
       "0         0         0         0         0         0         0         1   \n",
       "1         1         1         0         0         0         1         1   \n",
       "2         1         0         0         0         0         0         1   \n",
       "3         1         1         1         1         1         1         1   \n",
       "4         1         1         0         1         1         1         1   \n",
       "5         1         1         0         0         1         1         1   \n",
       "6         1         0         0         1         1         1         0   \n",
       "7         0         1         0         0         1         0         1   \n",
       "8         0         0         0         0         0         0         1   \n",
       "9         1         1         1         0         1         1         0   \n",
       "\n",
       "   A8_Score  A9_Score  A10_Score  Age_Mons gender       ethnicity jundice  \\\n",
       "0         1         0          1  0.666667      f  middle eastern     yes   \n",
       "1         0         0          0  1.000000      m  White European     yes   \n",
       "2         1         0          1  1.000000      m  middle eastern     yes   \n",
       "3         1         1          1  0.500000      m        Hispanic      no   \n",
       "4         1         1          1  0.333333      f  White European      no   \n",
       "5         1         1          1  0.375000      m           black      no   \n",
       "6         0         1          0  0.875000      m           asian     yes   \n",
       "7         1         1          1  0.875000      m           asian     yes   \n",
       "8         0         0          1  1.000000      m           asian      no   \n",
       "9         1         1          1  0.416667      m     south asian      no   \n",
       "\n",
       "  austim  result                  relation  \n",
       "0     no     0.3             family member  \n",
       "1     no     0.4             family member  \n",
       "2     no     0.4             family member  \n",
       "3     no     1.0             family member  \n",
       "4    yes     0.9             family member  \n",
       "5     no     0.8             family member  \n",
       "6     no     0.5             family member  \n",
       "7     no     0.6             family member  \n",
       "8     no     0.2             family member  \n",
       "9     no     0.8  Health Care Professional  "
      ]
     },
     "execution_count": 58,
     "metadata": {},
     "output_type": "execute_result"
    }
   ],
   "source": [
    "features_minmax_transform.head(10)"
   ]
  },
  {
   "cell_type": "code",
   "execution_count": 59,
   "id": "33b97296",
   "metadata": {
    "ExecuteTime": {
     "end_time": "2021-12-15T22:52:36.320214Z",
     "start_time": "2021-12-15T22:52:36.308603Z"
    }
   },
   "outputs": [],
   "source": [
    "features = pd.get_dummies(features_minmax_transform)\n",
    "\n",
    "le = LabelEncoder()\n",
    "target = le.fit_transform(raw_target)\n",
    "\n",
    "# model report - precision, recall, accuracy\n",
    "\n",
    "def model_report(y_act, y_pred):\n",
    "    from sklearn.metrics import (\n",
    "        accuracy_score,\n",
    "        f1_score,\n",
    "        precision_score,\n",
    "        recall_score,\n",
    "        cohen_kappa_score,\n",
    "        roc_curve,\n",
    "        auc,\n",
    "    )\n",
    "\n",
    "    print(\"Accuracy = \", accuracy_score(y_act, y_pred))\n",
    "    print(\"Precision = \", precision_score(y_act, y_pred))\n",
    "    print(\"Recall = \", recall_score(y_act, y_pred))\n",
    "    print(\"F1 Score = \", f1_score(y_act, y_pred))\n",
    "    false_positive_rate, true_positive_rate, thresholds = roc_curve(y_act, y_pred)\n",
    "    print(\"AUC Score =\", auc(false_positive_rate, true_positive_rate))\n",
    "    print(\"Kappa score = \", cohen_kappa_score(y_act, y_pred))\n",
    "    print(\"Error rate = \", 1 - accuracy_score(y_act, y_pred), \"\\n\")\n",
    "    pass"
   ]
  },
  {
   "cell_type": "code",
   "execution_count": 60,
   "id": "b395ed47",
   "metadata": {
    "ExecuteTime": {
     "end_time": "2021-12-15T22:52:36.323884Z",
     "start_time": "2021-12-15T22:52:36.321721Z"
    }
   },
   "outputs": [],
   "source": [
    "X_td = features\n",
    "y_td = target"
   ]
  },
  {
   "cell_type": "code",
   "execution_count": 61,
   "id": "1cbe584e",
   "metadata": {
    "ExecuteTime": {
     "end_time": "2021-12-15T22:52:36.344390Z",
     "start_time": "2021-12-15T22:52:36.325367Z"
    }
   },
   "outputs": [],
   "source": [
    "def models(X, y):\n",
    "\n",
    "    from sklearn.model_selection import train_test_split  # train test split - dividing dataset into subsets\n",
    "\n",
    "    X_train, X_test, y_train, y_test = train_test_split(\n",
    "        X, y, test_size=0.20, random_state=50\n",
    "    )\n",
    "\n",
    "    import time  # time - for our training\n",
    "\n",
    "    start_time = time.time()\n",
    "\n",
    "    from sklearn.naive_bayes import GaussianNB  # GaussianNB - Will be using Naive Bayes method\n",
    "\n",
    "    gnb = GaussianNB()\n",
    "    gnb.fit(X_train, y_train)\n",
    "\n",
    "    y_pred = gnb.predict(X_test)        # Examining our results via prediction based approach\n",
    "    predict_probab = gnb.predict_proba(X_test)   # We will use this for prediciting probablity \n",
    "\n",
    "    from sklearn.metrics import log_loss     # Predicted probabilities at each instance through log loss\n",
    "\n",
    "    logloss = log_loss(y_test, predict_probab)\n",
    "    end_time = time.time()\n",
    "    eta = end_time - start_time\n",
    "\n",
    "    from sklearn.model_selection import cross_val_score   # We will be using cross validation method for score\n",
    "\n",
    "    accuracy_gausian = cross_val_score(\n",
    "        estimator=gnb, X=X_train, y=y_train, cv=10)\n",
    "    gnb_mean = accuracy_gausian.mean()\n",
    "    print(\"10 Fold Cross Validation Score Of Gaussian Naive Bayes:\", gnb_mean)\n",
    "    print(\"Time Elapsed:\", eta)\n",
    "    print(\"Log Loss:\", logloss)\n",
    "\n",
    "    model_report(y_test, y_pred)     # Through Model Report function we can get output\n",
    "    start_time = time.time()\n",
    "    from sklearn.naive_bayes import MultinomialNB    # Will be using another Naive Bayes approach\n",
    "\n",
    "    mnb = MultinomialNB()\n",
    "    mnb.fit(X_train, y_train)\n",
    "    \n",
    "    predict_probab = mnb.predict_proba(X_test) # Prediction of probablity\n",
    "\n",
    "    logloss = log_loss(y_test, predict_probab)  # Log loss for model\n",
    "\n",
    "    y_pred = mnb.predict(X_test)   # Predicting the Test set results\n",
    "    end_time = time.time()\n",
    "    eta = end_time - start_time\n",
    "\n",
    "    accuracy_gausian = cross_val_score(\n",
    "        estimator=mnb, X=X_train, y=y_train, cv=10)      # Using cross validation\n",
    "    mnb_mean = accuracy_gausian.mean()\n",
    "    print(\"10 Fold Cross Validation Score Of Multinomial Navie Bayes:\", mnb_mean)\n",
    "    print(\"Time Elapsed:\", eta)\n",
    "    print(\"log loss:\", logloss)\n",
    "\n",
    "    model_report(y_test, y_pred)   # printing the output using the model report function\n",
    "\n",
    "    start_time = time.time()\n",
    "    from sklearn.ensemble import RandomForestClassifier  # combining classifiers\n",
    "\n",
    "    rf = RandomForestClassifier()\n",
    "    rf.fit(X_train, y_train)\n",
    "    y_pred = rf.predict(X_test)    # prediction test results\n",
    "    end_time = time.time()\n",
    "    eta = end_time - start_time\n",
    "\n",
    "    accuracy = cross_val_score(estimator=rf, X=X_train, y=y_train, cv=2)       # checking scores for the CV\n",
    "    rf_cross = accuracy.mean()\n",
    "    print(\n",
    "        \"10-Fold Cross  Validation Score of Random Forest(Without Paramter Tuning):\",\n",
    "        rf_cross,\n",
    "    )\n",
    "    print(\"Time Elapsed:\", eta)\n",
    "\n",
    "\n",
    "    model_report(y_test, y_pred)    # model report func. to print output\n",
    "\n",
    "    start_time = time.time()\n",
    "\n",
    "    from sklearn.ensemble import RandomForestClassifier      # combining of classifers using Random Forest\n",
    "\n",
    "    rf = RandomForestClassifier(\n",
    "        n_estimators=800,\n",
    "        min_samples_split=5,\n",
    "        min_samples_leaf=1,\n",
    "        max_features=\"sqrt\",\n",
    "        max_depth=560,\n",
    "        criterion=\"entropy\",\n",
    "    )\n",
    "    rf.fit(X_train, y_train)\n",
    "\n",
    "    y_pred = rf.predict(X_test)      # Test set rersult prediction\n",
    "    end_time = time.time()\n",
    "    eta = end_time - start_time\n",
    "\n",
    "    from sklearn.model_selection import cross_val_score  # cross validation for score\n",
    "\n",
    "    accuracy = cross_val_score(estimator=rf, X=X_train, y=y_train, cv=10)\n",
    "    rf_cross = accuracy.mean()\n",
    "    print(\n",
    "        \"10-Fold Cross  Validation Score of Random Forest(With Paramter Tuning):\",\n",
    "        rf_cross,\n",
    "    )\n",
    "    print(\"Time Elapsed:\", eta)\n",
    "\n",
    "    model_report(y_test, y_pred) # Model Report Func. for output\n",
    "\n",
    "    start_time = time.time()\n",
    "\n",
    "    from sklearn.svm import SVC    # support vector classifer\n",
    "\n",
    "    svc = SVC()\n",
    "    svc.fit(X_train, y_train)\n",
    "\n",
    "    y_svc = svc.predict(X_test)  # test result prediction\n",
    "    end_time = time.time()\n",
    "    eta = end_time - start_time\n",
    "\n",
    "    from sklearn.model_selection import cross_val_score # cv score\n",
    "\n",
    "    accuracy = cross_val_score(estimator=svc, X=X_train, y=y_train, cv=10)\n",
    "    svc_mean = accuracy.mean()\n",
    "    print(\n",
    "        \"10 Fold Cross Validation Score Of Support Vector Classifier(Without parameter tuning):\",\n",
    "        svc_mean,\n",
    "    )\n",
    "    print(\"Time Elapsed:\", eta)\n",
    "\n",
    "    model_report(y_test, y_svc)   # output using model report func.\n",
    "\n",
    "    start_time = time.time()\n",
    "\n",
    "    from sklearn.svm import SVC\n",
    "\n",
    "    svc = SVC(kernel=\"poly\", degree=2, C=1)\n",
    "    svc.fit(X_train, y_train)\n",
    "\n",
    "    y_svc = svc.predict(X_test)\n",
    "    end_time = time.time()\n",
    "    eta = end_time - start_time\n",
    "\n",
    "    from sklearn.model_selection import cross_val_score\n",
    "\n",
    "    accuracy = cross_val_score(estimator=svc, X=X_train, y=y_train, cv=10)\n",
    "    svc_mean = accuracy.mean()\n",
    "    print(\n",
    "        \"10 Fold Cross Validation Score Of Support Vector Classifier(With parameter tuning):\",\n",
    "        svc_mean,\n",
    "    )\n",
    "    print(\"Time Elapsed:\", eta)\n",
    "\n",
    "    model_report(y_test, y_svc)   # output model using report func.\n",
    "\n",
    "    start_time = time.time()\n",
    "\n",
    "    from sklearn.discriminant_analysis import LinearDiscriminantAnalysis #  svc import\n",
    "\n",
    "    lda = LinearDiscriminantAnalysis()\n",
    "    lda.fit(X_train, y_train)\n",
    "\n",
    "    y_lda = svc.predict(X_test)\n",
    "    end_time = time.time()\n",
    "    eta = end_time - start_time\n",
    "\n",
    "    from sklearn.model_selection import cross_val_score\n",
    "\n",
    "    accuracy = cross_val_score(estimator=lda, X=X_train, y=y_train, cv=10)\n",
    "    lda_mean = accuracy.mean()\n",
    "    print(\"10 Fold Cross Validation Score Of Linear Discriminant Analysis:\", lda_mean)\n",
    "    print(\"Time Elapsed:\", eta)\n",
    "\n",
    "    model_report(y_test, y_lda)   # output using model report func.\n",
    "\n",
    "    start_time = time.time()\n",
    "    from sklearn import neighbors\n",
    "\n",
    "    knn = neighbors.KNeighborsClassifier()\n",
    "    knn.fit(X_train, y_train)\n",
    "    y_knn = knn.predict(X_test)\n",
    "    end_time = time.time()\n",
    "    eta = end_time - start_time\n",
    "\n",
    "    from sklearn.model_selection import cross_val_score\n",
    "\n",
    "    accuracy = cross_val_score(estimator=knn, X=X_train, y=y_train, cv=10)\n",
    "    knn_mean = accuracy.mean()\n",
    "    print(\n",
    "        \"10 Fold Cross Validation Score Of K-Nearest Neighbour Algorithm(Without parameter tuning):\",\n",
    "        knn_mean,\n",
    "    )\n",
    "    print(\"Time Elapsed:\", eta)\n",
    "\n",
    "    model_report(y_test, y_knn)       # output using model report func.\n",
    "\n",
    "    start_time = time.time()\n",
    "    from sklearn import neighbors\n",
    "\n",
    "    knn = neighbors.KNeighborsClassifier(\n",
    "        weights=\"uniform\", n_neighbors=10, leaf_size=445, algorithm=\"brute\"\n",
    "    )\n",
    "    knn.fit(X_train, y_train)\n",
    "\n",
    "    y_knn = knn.predict(X_test)\n",
    "    end_time = time.time()\n",
    "    eta = end_time - start_time\n",
    "\n",
    "    from sklearn.model_selection import cross_val_score\n",
    "\n",
    "    accuracy = cross_val_score(estimator=knn, X=X_train, y=y_train, cv=10)\n",
    "    knn_mean = accuracy.mean()\n",
    "    print(\n",
    "        \"10 Fold Cross Validation Score Of K-Nearest Neighbour Algorithm(With parameter tuning):\",\n",
    "        knn_mean,\n",
    "    )\n",
    "    print(\"Time Elapsed:\", eta)\n",
    "\n",
    "    model_report(y_test, y_knn) # output using model report func."
   ]
  },
  {
   "cell_type": "code",
   "execution_count": 62,
   "id": "221ac74b",
   "metadata": {
    "ExecuteTime": {
     "end_time": "2021-12-15T22:52:47.872681Z",
     "start_time": "2021-12-15T22:52:36.345949Z"
    }
   },
   "outputs": [
    {
     "name": "stdout",
     "output_type": "stream",
     "text": [
      "10 Fold Cross Validation Score Of Gaussian Naive Bayes: 0.7686974789915966\n",
      "Time Elapsed: 0.006353855133056641\n",
      "Log Loss: 2.0758946171250243\n",
      "Accuracy =  0.7962085308056872\n",
      "Precision =  1.0\n",
      "Recall =  0.7034482758620689\n",
      "F1 Score =  0.825910931174089\n",
      "AUC Score = 0.8517241379310345\n",
      "Kappa score =  0.5974175799795891\n",
      "Error rate =  0.2037914691943128 \n",
      "\n",
      "10 Fold Cross Validation Score Of Multinomial Navie Bayes: 0.9228711484593838\n",
      "Time Elapsed: 0.007047414779663086\n",
      "log loss: 0.22825391205987994\n",
      "Accuracy =  0.8767772511848341\n",
      "Precision =  0.8742138364779874\n",
      "Recall =  0.9586206896551724\n",
      "F1 Score =  0.9144736842105264\n",
      "AUC Score = 0.8277951933124348\n",
      "Kappa score =  0.6957968282133747\n",
      "Error rate =  0.12322274881516593 \n",
      "\n",
      "10-Fold Cross  Validation Score of Random Forest(Without Paramter Tuning): 1.0\n",
      "Time Elapsed: 0.14018464088439941\n",
      "Accuracy =  1.0\n",
      "Precision =  1.0\n",
      "Recall =  1.0\n",
      "F1 Score =  1.0\n",
      "AUC Score = 1.0\n",
      "Kappa score =  1.0\n",
      "Error rate =  0.0 \n",
      "\n",
      "10-Fold Cross  Validation Score of Random Forest(With Paramter Tuning): 1.0\n",
      "Time Elapsed: 0.9678597450256348\n",
      "Accuracy =  1.0\n",
      "Precision =  1.0\n",
      "Recall =  1.0\n",
      "F1 Score =  1.0\n",
      "AUC Score = 1.0\n",
      "Kappa score =  1.0\n",
      "Error rate =  0.0 \n",
      "\n",
      "10 Fold Cross Validation Score Of Support Vector Classifier(Without parameter tuning): 0.9822128851540615\n",
      "Time Elapsed: 0.010973930358886719\n",
      "Accuracy =  0.9715639810426541\n",
      "Precision =  0.9793103448275862\n",
      "Recall =  0.9793103448275862\n",
      "F1 Score =  0.9793103448275862\n",
      "AUC Score = 0.9669278996865204\n",
      "Kappa score =  0.9338557993730408\n",
      "Error rate =  0.028436018957345932 \n",
      "\n",
      "10 Fold Cross Validation Score Of Support Vector Classifier(With parameter tuning): 0.9964285714285713\n",
      "Time Elapsed: 0.0075414180755615234\n",
      "Accuracy =  1.0\n",
      "Precision =  1.0\n",
      "Recall =  1.0\n",
      "F1 Score =  1.0\n",
      "AUC Score = 1.0\n",
      "Kappa score =  1.0\n",
      "Error rate =  0.0 \n",
      "\n",
      "10 Fold Cross Validation Score Of Linear Discriminant Analysis: 0.9549579831932771\n",
      "Time Elapsed: 0.00908803939819336\n",
      "Accuracy =  1.0\n",
      "Precision =  1.0\n",
      "Recall =  1.0\n",
      "F1 Score =  1.0\n",
      "AUC Score = 1.0\n",
      "Kappa score =  1.0\n",
      "Error rate =  0.0 \n",
      "\n",
      "10 Fold Cross Validation Score Of K-Nearest Neighbour Algorithm(Without parameter tuning): 0.9442857142857143\n",
      "Time Elapsed: 0.012189626693725586\n",
      "Accuracy =  0.909952606635071\n",
      "Precision =  0.9565217391304348\n",
      "Recall =  0.9103448275862069\n",
      "F1 Score =  0.9328621908127209\n",
      "AUC Score = 0.909717868338558\n",
      "Kappa score =  0.7964251256791753\n",
      "Error rate =  0.09004739336492895 \n",
      "\n",
      "10 Fold Cross Validation Score Of K-Nearest Neighbour Algorithm(With parameter tuning): 0.9502661064425769\n",
      "Time Elapsed: 0.012024641036987305\n",
      "Accuracy =  0.909952606635071\n",
      "Precision =  0.9701492537313433\n",
      "Recall =  0.896551724137931\n",
      "F1 Score =  0.931899641577061\n",
      "AUC Score = 0.9179728317659352\n",
      "Kappa score =  0.7996401619271328\n",
      "Error rate =  0.09004739336492895 \n",
      "\n"
     ]
    }
   ],
   "source": [
    "models(X_td, y_td)"
   ]
  },
  {
   "cell_type": "code",
   "execution_count": 63,
   "id": "38aa0203",
   "metadata": {
    "ExecuteTime": {
     "end_time": "2021-12-15T22:52:47.878331Z",
     "start_time": "2021-12-15T22:52:47.874276Z"
    }
   },
   "outputs": [],
   "source": [
    "# train test split:\n",
    "\n",
    "X_train, X_test, y_train, y_test = train_test_split(\n",
    "    X_td, y_td, test_size=0.20, random_state=50\n",
    ")"
   ]
  },
  {
   "cell_type": "code",
   "execution_count": 64,
   "id": "fca225a3",
   "metadata": {
    "ExecuteTime": {
     "end_time": "2021-12-15T22:52:48.170555Z",
     "start_time": "2021-12-15T22:52:47.879924Z"
    }
   },
   "outputs": [
    {
     "data": {
      "image/png": "[encoded data removed]",
      "text/plain": [
       "<Figure size 432x288 with 1 Axes>"
      ]
     },
     "metadata": {
      "needs_background": "light"
     },
     "output_type": "display_data"
    }
   ],
   "source": [
    "chi2_features = SelectKBest(chi2, k=20)        #using chi squared statistics\n",
    "X = chi2_features.fit_transform(X_td, y_td)\n",
    "y = y_td\n",
    "\n",
    "model = RandomForestClassifier(random_state=0)\n",
    "model.fit(X_train, y_train)\n",
    "\n",
    "# print of plot:\n",
    "\n",
    "plt.bar(range(len(model.feature_importances_)), model.feature_importances_)\n",
    "plt.show()"
   ]
  },
  {
   "cell_type": "code",
   "execution_count": 65,
   "id": "e7b1885e",
   "metadata": {
    "ExecuteTime": {
     "end_time": "2021-12-15T22:52:48.176546Z",
     "start_time": "2021-12-15T22:52:48.171845Z"
    }
   },
   "outputs": [
    {
     "name": "stdout",
     "output_type": "stream",
     "text": [
      "{'n_estimators': [200, 400, 600, 800, 1000, 1200, 1400, 1600, 1800, 2000], 'max_features': ['auto', 'sqrt', 'log2'], 'max_depth': [10, 120, 230, 340, 450, 560, 670, 780, 890, 1000], 'min_samples_split': [2, 5, 10, 14], 'min_samples_leaf': [1, 2, 4, 6, 8], 'criterion': ['entropy', 'gini']}\n"
     ]
    }
   ],
   "source": [
    "from sklearn.model_selection import RandomizedSearchCV\n",
    "\n",
    "n_estimators = [int(x) for x in np.linspace(start = 200, stop = 2000, num = 10)]   # random decision forests\n",
    "\n",
    "max_features = ['auto', 'sqrt','log2']       # Varying features used\n",
    "\n",
    "max_depth = [int(x) for x in np.linspace(10, 1000,10)]        # The max. # of levels in tree\n",
    "\n",
    "min_samples_split = [2, 5, 10,14]                          # The min. # of samples for split\n",
    "\n",
    "min_samples_leaf = [1, 2, 4,6,8]         # The min. of samples at inidividual leaf\n",
    "\n",
    "criterion = ['entropy','gini'] # used for tree \n",
    "\n",
    "\n",
    "# Creation for random grid:\n",
    "\n",
    "random_grid = {'n_estimators': n_estimators,\n",
    "               'max_features': max_features,\n",
    "               'max_depth': max_depth,\n",
    "               'min_samples_split': min_samples_split,\n",
    "               'min_samples_leaf': min_samples_leaf,\n",
    "              'criterion':criterion}\n",
    "              \n",
    "print(random_grid)"
   ]
  },
  {
   "cell_type": "code",
   "execution_count": 71,
   "id": "abbdd9ac",
   "metadata": {
    "ExecuteTime": {
     "end_time": "2021-12-15T22:53:59.277937Z",
     "start_time": "2021-12-15T22:53:59.272050Z"
    }
   },
   "outputs": [
    {
     "data": {
      "text/plain": [
       "KNeighborsClassifier(algorithm='brute', leaf_size=445, n_neighbors=1)"
      ]
     },
     "execution_count": 71,
     "metadata": {},
     "output_type": "execute_result"
    }
   ],
   "source": [
    "from sklearn import neighbors\n",
    "\n",
    "knn = neighbors.KNeighborsClassifier(weights='uniform', n_neighbors= 1, leaf_size=445, algorithm='brute')\n",
    "knn.fit(X_train,y_train)"
   ]
  },
  {
   "cell_type": "code",
   "execution_count": 73,
   "id": "7b010246",
   "metadata": {
    "ExecuteTime": {
     "end_time": "2021-12-15T22:54:16.537268Z",
     "start_time": "2021-12-15T22:54:16.519860Z"
    }
   },
   "outputs": [
    {
     "name": "stdout",
     "output_type": "stream",
     "text": [
      "Accuracy =  0.943127962085308\n",
      "Precision =  0.9854014598540146\n",
      "Recall =  0.9310344827586207\n",
      "F1 Score =  0.9574468085106382\n",
      "AUC Score = 0.9503657262277951\n",
      "Kappa score =  0.8719401173376492\n",
      "Error rate =  0.056872037914691975 \n",
      "\n"
     ]
    }
   ],
   "source": [
    "y_pred = knn.predict(X_test)\n",
    "model_report(y_test, y_pred)"
   ]
  },
  {
   "cell_type": "code",
   "execution_count": 74,
   "id": "2a658ee7",
   "metadata": {
    "ExecuteTime": {
     "end_time": "2021-12-15T22:54:27.501924Z",
     "start_time": "2021-12-15T22:54:27.495896Z"
    }
   },
   "outputs": [
    {
     "name": "stdout",
     "output_type": "stream",
     "text": [
      "{'C': [1, 3, 5, 7, 9, 11, 13, 15, 17, 20], 'kernel': ['linear', 'poly', 'rbf', 'sigmoid'], 'degree': [1, 2, 3, 4, 5, 6, 7, 8, 9, 10]}\n"
     ]
    }
   ],
   "source": [
    "from sklearn.model_selection import RandomizedSearchCV\n",
    "\n",
    "C = [int(x) for x in np.linspace(start = 1, stop = 20, num = 10)]\n",
    "kernel = ['linear', 'poly', 'rbf', 'sigmoid']\n",
    "degree = [int(x) for x in np.linspace(start = 1, stop = 10, num = 10)]\n",
    "\n",
    "random_grid = {'C':C,\n",
    "               'kernel':kernel,\n",
    "               'degree':degree}\n",
    "print(random_grid)"
   ]
  },
  {
   "cell_type": "code",
   "execution_count": 75,
   "id": "bbc17860",
   "metadata": {
    "ExecuteTime": {
     "end_time": "2021-12-15T22:54:38.888880Z",
     "start_time": "2021-12-15T22:54:38.883426Z"
    }
   },
   "outputs": [],
   "source": [
    "from sklearn.model_selection import train_test_split\n",
    "X_train, X_test, y_train, y_test = train_test_split(X, y, test_size = 0.20, random_state = 50)"
   ]
  },
  {
   "cell_type": "code",
   "execution_count": 76,
   "id": "763245bf",
   "metadata": {
    "ExecuteTime": {
     "end_time": "2021-12-15T22:54:48.913400Z",
     "start_time": "2021-12-15T22:54:47.151923Z"
    }
   },
   "outputs": [
    {
     "name": "stdout",
     "output_type": "stream",
     "text": [
      "Fitting 3 folds for each of 100 candidates, totalling 300 fits\n",
      "[CV] END ......................C=13, degree=3, kernel=linear; total time=   0.0s\n",
      "[CV] END ......................C=13, degree=3, kernel=linear; total time=   0.0s\n",
      "[CV] END ......................C=13, degree=3, kernel=linear; total time=   0.0s\n",
      "[CV] END ........................C=15, degree=10, kernel=rbf; total time=   0.0s\n",
      "[CV] END ........................C=15, degree=10, kernel=rbf; total time=   0.0s\n",
      "[CV] END ........................C=15, degree=10, kernel=rbf; total time=   0.0s\n",
      "[CV] END .........................C=9, degree=4, kernel=poly; total time=   0.0s\n",
      "[CV] END .........................C=9, degree=4, kernel=poly; total time=   0.0s\n",
      "[CV] END .........................C=9, degree=4, kernel=poly; total time=   0.0s\n",
      "[CV] END ........................C=15, degree=2, kernel=poly; total time=   0.0s\n",
      "[CV] END ........................C=15, degree=2, kernel=poly; total time=   0.0s\n",
      "[CV] END ........................C=15, degree=2, kernel=poly; total time=   0.0s\n",
      "[CV] END .......................C=9, degree=7, kernel=linear; total time=   0.0s\n",
      "[CV] END .......................C=9, degree=7, kernel=linear; total time=   0.0s\n",
      "[CV] END .......................C=9, degree=7, kernel=linear; total time=   0.0s\n",
      "[CV] END .....................C=11, degree=9, kernel=sigmoid; total time=   0.0s\n",
      "[CV] END .....................C=11, degree=9, kernel=sigmoid; total time=   0.0s\n",
      "[CV] END .....................C=11, degree=9, kernel=sigmoid; total time=   0.0s\n",
      "[CV] END .......................C=7, degree=2, kernel=linear; total time=   0.0s\n",
      "[CV] END .......................C=7, degree=2, kernel=linear; total time=   0.0s\n",
      "[CV] END .......................C=7, degree=2, kernel=linear; total time=   0.0s\n",
      "[CV] END .........................C=15, degree=1, kernel=rbf; total time=   0.0s\n",
      "[CV] END .........................C=15, degree=1, kernel=rbf; total time=   0.0s\n",
      "[CV] END .........................C=15, degree=1, kernel=rbf; total time=   0.0s\n",
      "[CV] END ......................C=7, degree=8, kernel=sigmoid; total time=   0.0s\n",
      "[CV] END ......................C=7, degree=8, kernel=sigmoid; total time=   0.0s\n",
      "[CV] END ......................C=7, degree=8, kernel=sigmoid; total time=   0.0s\n",
      "[CV] END .........................C=9, degree=3, kernel=poly; total time=   0.0s\n",
      "[CV] END .........................C=9, degree=3, kernel=poly; total time=   0.0s\n",
      "[CV] END .........................C=9, degree=3, kernel=poly; total time=   0.0s\n",
      "[CV] END .........................C=7, degree=2, kernel=poly; total time=   0.0s\n",
      "[CV] END .........................C=7, degree=2, kernel=poly; total time=   0.0s\n",
      "[CV] END .........................C=7, degree=2, kernel=poly; total time=   0.0s\n",
      "[CV] END ......................C=15, degree=5, kernel=linear; total time=   0.0s\n",
      "[CV] END ......................C=15, degree=5, kernel=linear; total time=   0.0s\n",
      "[CV] END ......................C=15, degree=5, kernel=linear; total time=   0.0s\n",
      "[CV] END .........................C=17, degree=6, kernel=rbf; total time=   0.0s\n",
      "[CV] END .........................C=17, degree=6, kernel=rbf; total time=   0.0s\n",
      "[CV] END .........................C=17, degree=6, kernel=rbf; total time=   0.0s\n",
      "[CV] END ......................C=5, degree=6, kernel=sigmoid; total time=   0.0s\n",
      "[CV] END ......................C=5, degree=6, kernel=sigmoid; total time=   0.0s\n",
      "[CV] END ......................C=5, degree=6, kernel=sigmoid; total time=   0.0s\n",
      "[CV] END .........................C=20, degree=3, kernel=rbf; total time=   0.0s\n",
      "[CV] END .........................C=20, degree=3, kernel=rbf; total time=   0.0s\n",
      "[CV] END .........................C=20, degree=3, kernel=rbf; total time=   0.0s\n",
      "[CV] END ........................C=13, degree=10, kernel=rbf; total time=   0.0s\n",
      "[CV] END ........................C=13, degree=10, kernel=rbf; total time=   0.0s\n",
      "[CV] END ........................C=13, degree=10, kernel=rbf; total time=   0.0s\n",
      "[CV] END .....................C=11, degree=10, kernel=linear; total time=   0.0s\n",
      "[CV] END .....................C=11, degree=10, kernel=linear; total time=   0.0s\n",
      "[CV] END .....................C=11, degree=10, kernel=linear; total time=   0.0s\n",
      "[CV] END .....................C=15, degree=9, kernel=sigmoid; total time=   0.0s\n",
      "[CV] END .....................C=15, degree=9, kernel=sigmoid; total time=   0.0s\n",
      "[CV] END .....................C=15, degree=9, kernel=sigmoid; total time=   0.0s\n",
      "[CV] END .......................C=5, degree=5, kernel=linear; total time=   0.0s\n",
      "[CV] END .......................C=5, degree=5, kernel=linear; total time=   0.0s\n",
      "[CV] END .......................C=5, degree=5, kernel=linear; total time=   0.0s\n",
      "[CV] END ......................C=3, degree=1, kernel=sigmoid; total time=   0.0s\n",
      "[CV] END ......................C=3, degree=1, kernel=sigmoid; total time=   0.0s\n",
      "[CV] END ......................C=3, degree=1, kernel=sigmoid; total time=   0.0s\n",
      "[CV] END .........................C=15, degree=9, kernel=rbf; total time=   0.0s\n",
      "[CV] END .........................C=15, degree=9, kernel=rbf; total time=   0.0s\n",
      "[CV] END .........................C=15, degree=9, kernel=rbf; total time=   0.0s\n",
      "[CV] END .........................C=5, degree=5, kernel=poly; total time=   0.0s\n",
      "[CV] END .........................C=5, degree=5, kernel=poly; total time=   0.0s\n",
      "[CV] END .........................C=5, degree=5, kernel=poly; total time=   0.0s\n",
      "[CV] END .........................C=3, degree=10, kernel=rbf; total time=   0.0s\n",
      "[CV] END .........................C=3, degree=10, kernel=rbf; total time=   0.0s\n",
      "[CV] END .........................C=3, degree=10, kernel=rbf; total time=   0.0s\n",
      "[CV] END .......................C=7, degree=6, kernel=linear; total time=   0.0s\n",
      "[CV] END .......................C=7, degree=6, kernel=linear; total time=   0.0s\n",
      "[CV] END .......................C=7, degree=6, kernel=linear; total time=   0.0s\n",
      "[CV] END ......................C=13, degree=9, kernel=linear; total time=   0.0s\n",
      "[CV] END ......................C=13, degree=9, kernel=linear; total time=   0.0s\n",
      "[CV] END ......................C=13, degree=9, kernel=linear; total time=   0.0s\n",
      "[CV] END .........................C=7, degree=9, kernel=poly; total time=   0.0s\n",
      "[CV] END .........................C=7, degree=9, kernel=poly; total time=   0.0s\n",
      "[CV] END .........................C=7, degree=9, kernel=poly; total time=   0.0s\n",
      "[CV] END ......................C=7, degree=2, kernel=sigmoid; total time=   0.0s\n",
      "[CV] END ......................C=7, degree=2, kernel=sigmoid; total time=   0.0s\n",
      "[CV] END ......................C=7, degree=2, kernel=sigmoid; total time=   0.0s\n",
      "[CV] END .....................C=13, degree=9, kernel=sigmoid; total time=   0.0s\n",
      "[CV] END .....................C=13, degree=9, kernel=sigmoid; total time=   0.0s\n",
      "[CV] END .....................C=13, degree=9, kernel=sigmoid; total time=   0.0s\n",
      "[CV] END .......................C=3, degree=5, kernel=linear; total time=   0.0s\n",
      "[CV] END .......................C=3, degree=5, kernel=linear; total time=   0.0s\n",
      "[CV] END .......................C=3, degree=5, kernel=linear; total time=   0.0s\n",
      "[CV] END ......................C=1, degree=6, kernel=sigmoid; total time=   0.0s\n",
      "[CV] END ......................C=1, degree=6, kernel=sigmoid; total time=   0.0s\n",
      "[CV] END ......................C=1, degree=6, kernel=sigmoid; total time=   0.0s\n",
      "[CV] END ..........................C=5, degree=5, kernel=rbf; total time=   0.0s\n",
      "[CV] END ..........................C=5, degree=5, kernel=rbf; total time=   0.0s\n",
      "[CV] END ..........................C=5, degree=5, kernel=rbf; total time=   0.0s\n",
      "[CV] END .........................C=13, degree=1, kernel=rbf; total time=   0.0s\n",
      "[CV] END .........................C=13, degree=1, kernel=rbf; total time=   0.0s\n",
      "[CV] END .........................C=13, degree=1, kernel=rbf; total time=   0.0s\n",
      "[CV] END ..........................C=1, degree=5, kernel=rbf; total time=   0.0s\n",
      "[CV] END ..........................C=1, degree=5, kernel=rbf; total time=   0.0s\n",
      "[CV] END ..........................C=1, degree=5, kernel=rbf; total time=   0.0s\n",
      "[CV] END ........................C=11, degree=1, kernel=poly; total time=   0.0s\n",
      "[CV] END ........................C=11, degree=1, kernel=poly; total time=   0.0s\n",
      "[CV] END ........................C=11, degree=1, kernel=poly; total time=   0.0s\n",
      "[CV] END ......................C=15, degree=4, kernel=linear; total time=   0.0s\n",
      "[CV] END ......................C=15, degree=4, kernel=linear; total time=   0.0s\n",
      "[CV] END ......................C=15, degree=4, kernel=linear; total time=   0.0s\n",
      "[CV] END .....................C=13, degree=8, kernel=sigmoid; total time=   0.0s\n",
      "[CV] END .....................C=13, degree=8, kernel=sigmoid; total time=   0.0s\n",
      "[CV] END .....................C=13, degree=8, kernel=sigmoid; total time=   0.0s\n",
      "[CV] END ......................C=1, degree=2, kernel=sigmoid; total time=   0.0s\n",
      "[CV] END ......................C=1, degree=2, kernel=sigmoid; total time=   0.0s\n",
      "[CV] END ......................C=1, degree=2, kernel=sigmoid; total time=   0.0s\n",
      "[CV] END .....................C=13, degree=6, kernel=sigmoid; total time=   0.0s\n",
      "[CV] END .....................C=13, degree=6, kernel=sigmoid; total time=   0.0s\n",
      "[CV] END .....................C=13, degree=6, kernel=sigmoid; total time=   0.0s\n",
      "[CV] END .........................C=7, degree=3, kernel=poly; total time=   0.0s\n",
      "[CV] END .........................C=7, degree=3, kernel=poly; total time=   0.0s\n",
      "[CV] END .........................C=7, degree=3, kernel=poly; total time=   0.0s\n",
      "[CV] END .........................C=5, degree=10, kernel=rbf; total time=   0.0s\n",
      "[CV] END .........................C=5, degree=10, kernel=rbf; total time=   0.0s\n",
      "[CV] END .........................C=5, degree=10, kernel=rbf; total time=   0.0s\n",
      "[CV] END .......................C=7, degree=5, kernel=linear; total time=   0.0s\n",
      "[CV] END .......................C=7, degree=5, kernel=linear; total time=   0.0s\n",
      "[CV] END .......................C=7, degree=5, kernel=linear; total time=   0.0s\n",
      "[CV] END ..........................C=3, degree=4, kernel=rbf; total time=   0.0s\n",
      "[CV] END ..........................C=3, degree=4, kernel=rbf; total time=   0.0s\n",
      "[CV] END ..........................C=3, degree=4, kernel=rbf; total time=   0.0s\n",
      "[CV] END ......................C=3, degree=9, kernel=sigmoid; total time=   0.0s\n",
      "[CV] END ......................C=3, degree=9, kernel=sigmoid; total time=   0.0s\n",
      "[CV] END ......................C=3, degree=9, kernel=sigmoid; total time=   0.0s\n",
      "[CV] END ........................C=20, degree=3, kernel=poly; total time=   0.0s\n",
      "[CV] END ........................C=20, degree=3, kernel=poly; total time=   0.0s\n",
      "[CV] END ........................C=20, degree=3, kernel=poly; total time=   0.0s\n",
      "[CV] END .........................C=13, degree=5, kernel=rbf; total time=   0.0s\n",
      "[CV] END .........................C=13, degree=5, kernel=rbf; total time=   0.0s\n",
      "[CV] END .........................C=13, degree=5, kernel=rbf; total time=   0.0s\n",
      "[CV] END .......................C=1, degree=8, kernel=linear; total time=   0.0s\n",
      "[CV] END .......................C=1, degree=8, kernel=linear; total time=   0.0s\n",
      "[CV] END .......................C=1, degree=8, kernel=linear; total time=   0.0s\n",
      "[CV] END ......................C=11, degree=3, kernel=linear; total time=   0.0s\n",
      "[CV] END ......................C=11, degree=3, kernel=linear; total time=   0.0s\n",
      "[CV] END ......................C=11, degree=3, kernel=linear; total time=   0.0s\n",
      "[CV] END ..........................C=7, degree=4, kernel=rbf; total time=   0.0s\n",
      "[CV] END ..........................C=7, degree=4, kernel=rbf; total time=   0.0s\n",
      "[CV] END ..........................C=7, degree=4, kernel=rbf; total time=   0.0s\n",
      "[CV] END ........................C=11, degree=7, kernel=poly; total time=   0.0s\n",
      "[CV] END ........................C=11, degree=7, kernel=poly; total time=   0.0s\n",
      "[CV] END ........................C=11, degree=7, kernel=poly; total time=   0.0s\n",
      "[CV] END .........................C=11, degree=2, kernel=rbf; total time=   0.0s\n",
      "[CV] END .........................C=11, degree=2, kernel=rbf; total time=   0.0s\n",
      "[CV] END .........................C=11, degree=2, kernel=rbf; total time=   0.0s\n",
      "[CV] END .........................C=1, degree=9, kernel=poly; total time=   0.0s\n",
      "[CV] END .........................C=1, degree=9, kernel=poly; total time=   0.0s\n",
      "[CV] END .........................C=1, degree=9, kernel=poly; total time=   0.0s\n",
      "[CV] END .....................C=11, degree=8, kernel=sigmoid; total time=   0.0s\n",
      "[CV] END .....................C=11, degree=8, kernel=sigmoid; total time=   0.0s\n",
      "[CV] END .....................C=11, degree=8, kernel=sigmoid; total time=   0.0s\n",
      "[CV] END ........................C=11, degree=5, kernel=poly; total time=   0.0s\n",
      "[CV] END ........................C=11, degree=5, kernel=poly; total time=   0.0s\n",
      "[CV] END ........................C=11, degree=5, kernel=poly; total time=   0.0s\n",
      "[CV] END .........................C=1, degree=1, kernel=poly; total time=   0.0s\n",
      "[CV] END .........................C=1, degree=1, kernel=poly; total time=   0.0s\n",
      "[CV] END .........................C=1, degree=1, kernel=poly; total time=   0.0s\n",
      "[CV] END ........................C=20, degree=6, kernel=poly; total time=   0.0s\n",
      "[CV] END ........................C=20, degree=6, kernel=poly; total time=   0.0s\n",
      "[CV] END ........................C=20, degree=6, kernel=poly; total time=   0.0s\n",
      "[CV] END .........................C=20, degree=9, kernel=rbf; total time=   0.0s\n",
      "[CV] END .........................C=20, degree=9, kernel=rbf; total time=   0.0s\n",
      "[CV] END .........................C=20, degree=9, kernel=rbf; total time=   0.0s\n",
      "[CV] END .....................C=17, degree=7, kernel=sigmoid; total time=   0.0s\n",
      "[CV] END .....................C=17, degree=7, kernel=sigmoid; total time=   0.0s\n",
      "[CV] END .....................C=17, degree=7, kernel=sigmoid; total time=   0.0s\n",
      "[CV] END .........................C=1, degree=6, kernel=poly; total time=   0.0s\n",
      "[CV] END .........................C=1, degree=6, kernel=poly; total time=   0.0s\n",
      "[CV] END .........................C=1, degree=6, kernel=poly; total time=   0.0s\n",
      "[CV] END ......................C=15, degree=3, kernel=linear; total time=   0.0s\n",
      "[CV] END ......................C=15, degree=3, kernel=linear; total time=   0.0s\n",
      "[CV] END ......................C=15, degree=3, kernel=linear; total time=   0.0s\n",
      "[CV] END ........................C=20, degree=9, kernel=poly; total time=   0.0s\n",
      "[CV] END ........................C=20, degree=9, kernel=poly; total time=   0.0s\n",
      "[CV] END ........................C=20, degree=9, kernel=poly; total time=   0.0s\n",
      "[CV] END ......................C=13, degree=6, kernel=linear; total time=   0.0s\n",
      "[CV] END ......................C=13, degree=6, kernel=linear; total time=   0.0s\n",
      "[CV] END ......................C=13, degree=6, kernel=linear; total time=   0.0s\n",
      "[CV] END ........................C=11, degree=2, kernel=poly; total time=   0.0s\n",
      "[CV] END ........................C=11, degree=2, kernel=poly; total time=   0.0s\n",
      "[CV] END ........................C=11, degree=2, kernel=poly; total time=   0.0s\n",
      "[CV] END .....................C=20, degree=7, kernel=sigmoid; total time=   0.0s\n",
      "[CV] END .....................C=20, degree=7, kernel=sigmoid; total time=   0.0s\n",
      "[CV] END .....................C=20, degree=7, kernel=sigmoid; total time=   0.0s\n",
      "[CV] END ..........................C=9, degree=4, kernel=rbf; total time=   0.0s\n",
      "[CV] END ..........................C=9, degree=4, kernel=rbf; total time=   0.0s\n",
      "[CV] END ..........................C=9, degree=4, kernel=rbf; total time=   0.0s\n",
      "[CV] END .........................C=7, degree=10, kernel=rbf; total time=   0.0s\n",
      "[CV] END .........................C=7, degree=10, kernel=rbf; total time=   0.0s\n",
      "[CV] END .........................C=7, degree=10, kernel=rbf; total time=   0.0s\n",
      "[CV] END ........................C=17, degree=4, kernel=poly; total time=   0.0s\n",
      "[CV] END ........................C=17, degree=4, kernel=poly; total time=   0.0s\n",
      "[CV] END ........................C=17, degree=4, kernel=poly; total time=   0.0s\n",
      "[CV] END .....................C=15, degree=7, kernel=sigmoid; total time=   0.0s\n",
      "[CV] END .....................C=15, degree=7, kernel=sigmoid; total time=   0.0s\n",
      "[CV] END .....................C=15, degree=7, kernel=sigmoid; total time=   0.0s\n",
      "[CV] END ......................C=13, degree=2, kernel=linear; total time=   0.0s\n",
      "[CV] END ......................C=13, degree=2, kernel=linear; total time=   0.0s\n",
      "[CV] END ......................C=13, degree=2, kernel=linear; total time=   0.0s\n",
      "[CV] END ..........................C=9, degree=5, kernel=rbf; total time=   0.0s\n",
      "[CV] END ..........................C=9, degree=5, kernel=rbf; total time=   0.0s\n",
      "[CV] END ..........................C=9, degree=5, kernel=rbf; total time=   0.0s\n",
      "[CV] END .........................C=15, degree=6, kernel=rbf; total time=   0.0s\n",
      "[CV] END .........................C=15, degree=6, kernel=rbf; total time=   0.0s\n",
      "[CV] END .........................C=15, degree=6, kernel=rbf; total time=   0.0s\n",
      "[CV] END ......................C=9, degree=7, kernel=sigmoid; total time=   0.0s\n",
      "[CV] END ......................C=9, degree=7, kernel=sigmoid; total time=   0.0s\n",
      "[CV] END ......................C=9, degree=7, kernel=sigmoid; total time=   0.0s\n",
      "[CV] END ......................C=17, degree=2, kernel=linear; total time=   0.0s\n",
      "[CV] END ......................C=17, degree=2, kernel=linear; total time=   0.0s\n",
      "[CV] END ......................C=17, degree=2, kernel=linear; total time=   0.0s\n",
      "[CV] END .......................C=3, degree=7, kernel=linear; total time=   0.0s\n",
      "[CV] END .......................C=3, degree=7, kernel=linear; total time=   0.0s\n",
      "[CV] END .......................C=3, degree=7, kernel=linear; total time=   0.0s\n",
      "[CV] END .........................C=7, degree=8, kernel=poly; total time=   0.0s\n",
      "[CV] END .........................C=7, degree=8, kernel=poly; total time=   0.0s\n",
      "[CV] END .........................C=7, degree=8, kernel=poly; total time=   0.0s\n",
      "[CV] END .........................C=1, degree=2, kernel=poly; total time=   0.0s\n",
      "[CV] END .........................C=1, degree=2, kernel=poly; total time=   0.0s\n",
      "[CV] END .........................C=1, degree=2, kernel=poly; total time=   0.0s\n",
      "[CV] END ........................C=17, degree=10, kernel=rbf; total time=   0.0s\n",
      "[CV] END ........................C=17, degree=10, kernel=rbf; total time=   0.0s\n",
      "[CV] END ........................C=17, degree=10, kernel=rbf; total time=   0.0s\n",
      "[CV] END ..........................C=9, degree=2, kernel=rbf; total time=   0.0s\n",
      "[CV] END ..........................C=9, degree=2, kernel=rbf; total time=   0.0s\n",
      "[CV] END ..........................C=9, degree=2, kernel=rbf; total time=   0.0s\n",
      "[CV] END .........................C=9, degree=10, kernel=rbf; total time=   0.0s\n",
      "[CV] END .........................C=9, degree=10, kernel=rbf; total time=   0.0s\n",
      "[CV] END .........................C=9, degree=10, kernel=rbf; total time=   0.0s\n",
      "[CV] END .....................C=13, degree=7, kernel=sigmoid; total time=   0.0s\n",
      "[CV] END .....................C=13, degree=7, kernel=sigmoid; total time=   0.0s\n",
      "[CV] END .....................C=13, degree=7, kernel=sigmoid; total time=   0.0s\n",
      "[CV] END .........................C=3, degree=8, kernel=poly; total time=   0.0s\n",
      "[CV] END .........................C=3, degree=8, kernel=poly; total time=   0.0s\n",
      "[CV] END .........................C=3, degree=8, kernel=poly; total time=   0.0s\n",
      "[CV] END ..........................C=9, degree=8, kernel=rbf; total time=   0.0s\n",
      "[CV] END ..........................C=9, degree=8, kernel=rbf; total time=   0.0s\n",
      "[CV] END ..........................C=9, degree=8, kernel=rbf; total time=   0.0s\n",
      "[CV] END ..........................C=3, degree=2, kernel=rbf; total time=   0.0s\n",
      "[CV] END ..........................C=3, degree=2, kernel=rbf; total time=   0.0s\n",
      "[CV] END ..........................C=3, degree=2, kernel=rbf; total time=   0.0s\n",
      "[CV] END ..........................C=3, degree=3, kernel=rbf; total time=   0.0s\n",
      "[CV] END ..........................C=3, degree=3, kernel=rbf; total time=   0.0s\n",
      "[CV] END ..........................C=3, degree=3, kernel=rbf; total time=   0.0s\n",
      "[CV] END ........................C=20, degree=5, kernel=poly; total time=   0.0s\n",
      "[CV] END ........................C=20, degree=5, kernel=poly; total time=   0.0s\n",
      "[CV] END ........................C=20, degree=5, kernel=poly; total time=   0.0s\n",
      "[CV] END .........................C=7, degree=1, kernel=poly; total time=   0.0s\n",
      "[CV] END .........................C=7, degree=1, kernel=poly; total time=   0.0s\n",
      "[CV] END .........................C=7, degree=1, kernel=poly; total time=   0.0s\n",
      "[CV] END ......................C=9, degree=9, kernel=sigmoid; total time=   0.0s\n",
      "[CV] END ......................C=9, degree=9, kernel=sigmoid; total time=   0.0s\n",
      "[CV] END ......................C=9, degree=9, kernel=sigmoid; total time=   0.0s\n",
      "[CV] END .........................C=7, degree=4, kernel=poly; total time=   0.0s\n",
      "[CV] END .........................C=7, degree=4, kernel=poly; total time=   0.0s\n",
      "[CV] END .........................C=7, degree=4, kernel=poly; total time=   0.0s\n",
      "[CV] END ......................C=9, degree=8, kernel=sigmoid; total time=   0.0s\n",
      "[CV] END ......................C=9, degree=8, kernel=sigmoid; total time=   0.0s\n",
      "[CV] END ......................C=9, degree=8, kernel=sigmoid; total time=   0.0s\n",
      "[CV] END ........................C=9, degree=10, kernel=poly; total time=   0.0s\n",
      "[CV] END ........................C=9, degree=10, kernel=poly; total time=   0.0s\n",
      "[CV] END ........................C=9, degree=10, kernel=poly; total time=   0.0s\n",
      "[CV] END ......................C=1, degree=7, kernel=sigmoid; total time=   0.0s\n",
      "[CV] END ......................C=1, degree=7, kernel=sigmoid; total time=   0.0s\n",
      "[CV] END ......................C=1, degree=7, kernel=sigmoid; total time=   0.0s\n",
      "[CV] END ........................C=13, degree=1, kernel=poly; total time=   0.0s\n",
      "[CV] END ........................C=13, degree=1, kernel=poly; total time=   0.0s\n",
      "[CV] END ........................C=13, degree=1, kernel=poly; total time=   0.0s\n",
      "[CV] END ......................C=17, degree=8, kernel=linear; total time=   0.0s\n",
      "[CV] END ......................C=17, degree=8, kernel=linear; total time=   0.0s\n",
      "[CV] END ......................C=17, degree=8, kernel=linear; total time=   0.0s\n",
      "[CV] END ....................C=13, degree=10, kernel=sigmoid; total time=   0.0s\n",
      "[CV] END ....................C=13, degree=10, kernel=sigmoid; total time=   0.0s\n",
      "[CV] END ....................C=13, degree=10, kernel=sigmoid; total time=   0.0s\n",
      "[CV] END .....................C=17, degree=4, kernel=sigmoid; total time=   0.0s\n",
      "[CV] END .....................C=17, degree=4, kernel=sigmoid; total time=   0.0s\n",
      "[CV] END .....................C=17, degree=4, kernel=sigmoid; total time=   0.0s\n",
      "[CV] END ......................C=17, degree=7, kernel=linear; total time=   0.0s\n",
      "[CV] END ......................C=17, degree=7, kernel=linear; total time=   0.0s\n",
      "[CV] END ......................C=17, degree=7, kernel=linear; total time=   0.0s\n",
      "[CV] END ......................C=20, degree=6, kernel=linear; total time=   0.0s\n",
      "[CV] END ......................C=20, degree=6, kernel=linear; total time=   0.0s\n",
      "[CV] END ......................C=20, degree=6, kernel=linear; total time=   0.0s\n",
      "[CV] END .....................C=15, degree=8, kernel=sigmoid; total time=   0.0s\n",
      "[CV] END .....................C=15, degree=8, kernel=sigmoid; total time=   0.0s\n",
      "[CV] END .....................C=15, degree=8, kernel=sigmoid; total time=   0.0s\n",
      "[CV] END ..........................C=5, degree=8, kernel=rbf; total time=   0.0s\n",
      "[CV] END ..........................C=5, degree=8, kernel=rbf; total time=   0.0s\n",
      "[CV] END ..........................C=5, degree=8, kernel=rbf; total time=   0.0s\n",
      "[CV] END ..........................C=5, degree=3, kernel=rbf; total time=   0.0s\n",
      "[CV] END ..........................C=5, degree=3, kernel=rbf; total time=   0.0s\n",
      "[CV] END ..........................C=5, degree=3, kernel=rbf; total time=   0.0s\n",
      "[CV] END ..........................C=1, degree=2, kernel=rbf; total time=   0.0s\n",
      "[CV] END ..........................C=1, degree=2, kernel=rbf; total time=   0.0s\n",
      "[CV] END ..........................C=1, degree=2, kernel=rbf; total time=   0.0s\n"
     ]
    },
    {
     "data": {
      "text/plain": [
       "RandomizedSearchCV(cv=3, estimator=SVC(), n_iter=100, n_jobs=-1,\n",
       "                   param_distributions={'C': [1, 3, 5, 7, 9, 11, 13, 15, 17,\n",
       "                                              20],\n",
       "                                        'degree': [1, 2, 3, 4, 5, 6, 7, 8, 9,\n",
       "                                                   10],\n",
       "                                        'kernel': ['linear', 'poly', 'rbf',\n",
       "                                                   'sigmoid']},\n",
       "                   random_state=100, verbose=2)"
      ]
     },
     "execution_count": 76,
     "metadata": {},
     "output_type": "execute_result"
    }
   ],
   "source": [
    "from sklearn.svm import SVC\n",
    "svc = SVC()\n",
    "svc_randomcv=RandomizedSearchCV(estimator= svc,param_distributions=random_grid,n_iter=100,cv=3,verbose=2,\n",
    "                               random_state=100,n_jobs=-1)\n",
    "\n",
    "svc_randomcv.fit(X_train,y_train)       # random fit for model"
   ]
  },
  {
   "cell_type": "code",
   "execution_count": 77,
   "id": "c0f7d147",
   "metadata": {
    "ExecuteTime": {
     "end_time": "2021-12-15T22:55:09.161090Z",
     "start_time": "2021-12-15T22:55:09.140257Z"
    }
   },
   "outputs": [
    {
     "name": "stdout",
     "output_type": "stream",
     "text": [
      "\n",
      " All results:\n",
      "{'mean_fit_time': array([0.00467229, 0.00712697, 0.00629886, 0.0037864 , 0.0023098 ,\n",
      "       0.00552813, 0.00232307, 0.00404549, 0.00521104, 0.00318472,\n",
      "       0.00380158, 0.00237425, 0.00420968, 0.00614667, 0.00397984,\n",
      "       0.00401958, 0.00323232, 0.00426284, 0.00198825, 0.00640066,\n",
      "       0.00381732, 0.00367483, 0.0041403 , 0.00228373, 0.00235597,\n",
      "       0.00442187, 0.00524163, 0.00437713, 0.00232887, 0.00679739,\n",
      "       0.00396919, 0.00397809, 0.00450651, 0.00250944, 0.00228182,\n",
      "       0.00442584, 0.00748213, 0.00421786, 0.0034217 , 0.00401497,\n",
      "       0.00232983, 0.0036447 , 0.00595919, 0.00343434, 0.00416621,\n",
      "       0.00254448, 0.00230861, 0.0040973 , 0.0040195 , 0.00406599,\n",
      "       0.004071  , 0.00529059, 0.00327317, 0.00334589, 0.00333627,\n",
      "       0.00371655, 0.00428152, 0.00386469, 0.00210134, 0.00367212,\n",
      "       0.00221999, 0.00296211, 0.00496674, 0.00384053, 0.00386341,\n",
      "       0.00345095, 0.00379928, 0.00205127, 0.00322874, 0.00379427,\n",
      "       0.00408387, 0.00229375, 0.00255911, 0.00422549, 0.00290799,\n",
      "       0.0031201 , 0.00359122, 0.00309245, 0.00372744, 0.0033884 ,\n",
      "       0.00358772, 0.00332284, 0.00389759, 0.00367117, 0.00251182,\n",
      "       0.00446971, 0.00332133, 0.00439684, 0.00446828, 0.0066057 ,\n",
      "       0.00253216, 0.00229867, 0.00411598, 0.00398978, 0.00211962,\n",
      "       0.00179315, 0.00375215, 0.00315022, 0.00324853, 0.00426435]), 'std_fit_time': array([1.55345028e-04, 6.62366243e-04, 8.63217886e-04, 2.63139115e-04,\n",
      "       3.74557535e-05, 1.44703528e-03, 4.58046431e-05, 1.43743008e-04,\n",
      "       1.00959614e-03, 4.82978780e-04, 1.52736830e-04, 6.67402647e-05,\n",
      "       1.33206423e-04, 3.79170152e-04, 7.75605439e-05, 4.15680284e-05,\n",
      "       6.38461668e-04, 1.05705033e-03, 2.86333820e-04, 1.57229043e-03,\n",
      "       4.12046951e-04, 2.21037755e-04, 8.24219001e-05, 2.05301640e-05,\n",
      "       4.77886370e-05, 1.30307235e-04, 1.12799518e-03, 1.11500766e-03,\n",
      "       9.03647304e-05, 3.99129570e-04, 9.42796017e-05, 1.30443557e-04,\n",
      "       1.09731329e-04, 3.77627400e-05, 7.45057954e-05, 1.05027694e-03,\n",
      "       1.34134179e-04, 6.72952478e-04, 2.91458324e-04, 1.63236596e-04,\n",
      "       4.27565462e-05, 3.19130608e-04, 8.85570701e-04, 2.50209012e-04,\n",
      "       3.50224495e-04, 1.86338759e-04, 4.92740703e-05, 1.96530999e-04,\n",
      "       1.31394525e-04, 1.77221305e-04, 5.16847526e-04, 1.60632515e-03,\n",
      "       5.69688289e-04, 2.98227325e-04, 3.75346589e-04, 3.76686986e-04,\n",
      "       9.36889098e-04, 1.08907341e-04, 1.70599151e-04, 3.35185376e-04,\n",
      "       1.71783339e-04, 1.16234376e-04, 9.58467656e-04, 3.13444505e-04,\n",
      "       3.05346745e-04, 3.05889602e-04, 6.60591824e-04, 2.19619132e-04,\n",
      "       2.05224746e-04, 5.54116933e-04, 4.79501236e-04, 2.50474676e-04,\n",
      "       9.86892295e-05, 1.61557163e-04, 5.81955512e-04, 1.07624857e-04,\n",
      "       5.17697469e-04, 9.56484178e-05, 1.04182148e-03, 1.15460746e-04,\n",
      "       4.69065434e-04, 1.39442600e-05, 4.34066864e-04, 1.82063875e-04,\n",
      "       5.04400874e-04, 7.02742967e-04, 5.03569740e-04, 6.16166402e-04,\n",
      "       6.61474043e-04, 3.72569970e-04, 6.23285124e-05, 3.87014060e-05,\n",
      "       6.02968217e-04, 1.19328192e-03, 2.65311522e-04, 7.33438484e-05,\n",
      "       1.23498936e-03, 6.46394350e-05, 1.18107044e-04, 3.24493029e-04]), 'mean_score_time': array([0.00196783, 0.00320562, 0.0020624 , 0.00096313, 0.00093269,\n",
      "       0.00194955, 0.00094223, 0.00199286, 0.00203355, 0.00102043,\n",
      "       0.00100954, 0.00102131, 0.00196282, 0.00242607, 0.00189233,\n",
      "       0.00187421, 0.00127927, 0.00146707, 0.00084201, 0.0024817 ,\n",
      "       0.00200478, 0.00138895, 0.00204674, 0.00093778, 0.00099874,\n",
      "       0.00172408, 0.00199246, 0.00179108, 0.00093619, 0.00265034,\n",
      "       0.00195456, 0.00202394, 0.00266472, 0.00106541, 0.00093087,\n",
      "       0.00172798, 0.00293366, 0.00178202, 0.00106827, 0.00197903,\n",
      "       0.00094827, 0.00167569, 0.00226219, 0.00102576, 0.00175214,\n",
      "       0.00098276, 0.00093619, 0.0019865 , 0.00153136, 0.00196894,\n",
      "       0.00175834, 0.00196195, 0.00117524, 0.00122579, 0.00131249,\n",
      "       0.00178385, 0.00171463, 0.00145245, 0.00085767, 0.00169126,\n",
      "       0.0009017 , 0.00088771, 0.00187826, 0.00181476, 0.00162967,\n",
      "       0.00116658, 0.00138704, 0.00098165, 0.00154456, 0.0018065 ,\n",
      "       0.00150522, 0.00089947, 0.00098793, 0.00165455, 0.00096869,\n",
      "       0.00142797, 0.00152167, 0.00144418, 0.00140635, 0.00137798,\n",
      "       0.0017972 , 0.00168808, 0.00203641, 0.00122833, 0.00105413,\n",
      "       0.00159987, 0.00110698, 0.00185577, 0.00168022, 0.00266417,\n",
      "       0.00105858, 0.00093762, 0.00158882, 0.00162117, 0.00075293,\n",
      "       0.00072527, 0.0015773 , 0.00148352, 0.00173211, 0.00251881]), 'std_score_time': array([7.89366754e-05, 4.03964165e-04, 3.11445995e-04, 6.85082787e-05,\n",
      "       2.06540773e-05, 4.09711489e-04, 4.48053577e-05, 1.43495285e-04,\n",
      "       4.42654312e-04, 8.51720689e-05, 8.53983120e-05, 6.28045807e-05,\n",
      "       7.21155664e-05, 3.21519415e-04, 5.44308450e-05, 2.49539717e-05,\n",
      "       2.43730369e-04, 2.73308008e-04, 2.06407740e-04, 8.88966002e-04,\n",
      "       4.88834969e-05, 7.37671690e-05, 1.44478949e-05, 2.35035524e-05,\n",
      "       5.59225842e-05, 6.16118182e-05, 3.33194208e-04, 6.07945695e-04,\n",
      "       1.98964871e-05, 2.73708567e-04, 8.06103993e-05, 1.39764678e-04,\n",
      "       7.34711867e-05, 1.56042284e-05, 2.97404813e-05, 3.61171981e-04,\n",
      "       1.36257325e-04, 5.49072081e-04, 5.16711730e-05, 3.95134391e-05,\n",
      "       2.33555578e-05, 8.40042037e-05, 3.84291619e-04, 1.65594400e-04,\n",
      "       2.85181777e-04, 6.78830354e-05, 1.28397253e-05, 6.74874802e-05,\n",
      "       5.43542073e-05, 1.08901773e-04, 7.28495241e-05, 5.64435429e-04,\n",
      "       9.81594381e-05, 4.18428946e-05, 9.94753248e-05, 2.42367545e-04,\n",
      "       5.91747047e-04, 2.40720130e-05, 7.57866958e-05, 1.23146575e-04,\n",
      "       9.25131677e-05, 9.56454463e-05, 4.92293820e-04, 1.35249312e-04,\n",
      "       2.45640518e-04, 1.21146828e-04, 3.54895022e-04, 2.43476646e-04,\n",
      "       1.52681532e-04, 2.98138088e-04, 3.17688579e-04, 1.21698511e-04,\n",
      "       4.99581593e-05, 1.37706126e-04, 8.39289840e-05, 2.45098732e-05,\n",
      "       1.39249695e-04, 1.91145032e-05, 4.46652899e-04, 9.46409316e-05,\n",
      "       3.05976475e-04, 1.50501160e-04, 3.61161383e-04, 1.08758079e-04,\n",
      "       2.51436128e-04, 2.12627880e-04, 1.55016819e-04, 6.19909712e-04,\n",
      "       8.52361889e-05, 2.28516659e-04, 5.11154458e-05, 1.50592157e-05,\n",
      "       3.68375505e-04, 8.13414972e-04, 1.75471323e-05, 1.63555840e-05,\n",
      "       7.92387877e-04, 2.66981499e-05, 3.32474858e-04, 7.37216908e-05]), 'param_kernel': masked_array(data=['linear', 'rbf', 'poly', 'poly', 'linear', 'sigmoid',\n",
      "                   'linear', 'rbf', 'sigmoid', 'poly', 'poly', 'linear',\n",
      "                   'rbf', 'sigmoid', 'rbf', 'rbf', 'linear', 'sigmoid',\n",
      "                   'linear', 'sigmoid', 'rbf', 'poly', 'rbf', 'linear',\n",
      "                   'linear', 'poly', 'sigmoid', 'sigmoid', 'linear',\n",
      "                   'sigmoid', 'rbf', 'rbf', 'rbf', 'poly', 'linear',\n",
      "                   'sigmoid', 'sigmoid', 'sigmoid', 'poly', 'rbf',\n",
      "                   'linear', 'rbf', 'sigmoid', 'poly', 'rbf', 'linear',\n",
      "                   'linear', 'rbf', 'poly', 'rbf', 'poly', 'sigmoid',\n",
      "                   'poly', 'poly', 'poly', 'rbf', 'sigmoid', 'poly',\n",
      "                   'linear', 'poly', 'linear', 'poly', 'sigmoid', 'rbf',\n",
      "                   'rbf', 'poly', 'sigmoid', 'linear', 'rbf', 'rbf',\n",
      "                   'sigmoid', 'linear', 'linear', 'poly', 'poly', 'rbf',\n",
      "                   'rbf', 'rbf', 'sigmoid', 'poly', 'rbf', 'rbf', 'rbf',\n",
      "                   'poly', 'poly', 'sigmoid', 'poly', 'sigmoid', 'poly',\n",
      "                   'sigmoid', 'poly', 'linear', 'sigmoid', 'sigmoid',\n",
      "                   'linear', 'linear', 'sigmoid', 'rbf', 'rbf', 'rbf'],\n",
      "             mask=[False, False, False, False, False, False, False, False,\n",
      "                   False, False, False, False, False, False, False, False,\n",
      "                   False, False, False, False, False, False, False, False,\n",
      "                   False, False, False, False, False, False, False, False,\n",
      "                   False, False, False, False, False, False, False, False,\n",
      "                   False, False, False, False, False, False, False, False,\n",
      "                   False, False, False, False, False, False, False, False,\n",
      "                   False, False, False, False, False, False, False, False,\n",
      "                   False, False, False, False, False, False, False, False,\n",
      "                   False, False, False, False, False, False, False, False,\n",
      "                   False, False, False, False, False, False, False, False,\n",
      "                   False, False, False, False, False, False, False, False,\n",
      "                   False, False, False, False],\n",
      "       fill_value='?',\n",
      "            dtype=object), 'param_degree': masked_array(data=[3, 10, 4, 2, 7, 9, 2, 1, 8, 3, 2, 5, 6, 6, 3, 10, 10,\n",
      "                   9, 5, 1, 9, 5, 10, 6, 9, 9, 2, 9, 5, 6, 5, 1, 5, 1, 4,\n",
      "                   8, 2, 6, 3, 10, 5, 4, 9, 3, 5, 8, 3, 4, 7, 2, 9, 8, 5,\n",
      "                   1, 6, 9, 7, 6, 3, 9, 6, 2, 7, 4, 10, 4, 7, 2, 5, 6, 7,\n",
      "                   2, 7, 8, 2, 10, 2, 10, 7, 8, 8, 2, 3, 5, 1, 9, 4, 8,\n",
      "                   10, 7, 1, 8, 10, 4, 7, 6, 8, 8, 3, 2],\n",
      "             mask=[False, False, False, False, False, False, False, False,\n",
      "                   False, False, False, False, False, False, False, False,\n",
      "                   False, False, False, False, False, False, False, False,\n",
      "                   False, False, False, False, False, False, False, False,\n",
      "                   False, False, False, False, False, False, False, False,\n",
      "                   False, False, False, False, False, False, False, False,\n",
      "                   False, False, False, False, False, False, False, False,\n",
      "                   False, False, False, False, False, False, False, False,\n",
      "                   False, False, False, False, False, False, False, False,\n",
      "                   False, False, False, False, False, False, False, False,\n",
      "                   False, False, False, False, False, False, False, False,\n",
      "                   False, False, False, False, False, False, False, False,\n",
      "                   False, False, False, False],\n",
      "       fill_value='?',\n",
      "            dtype=object), 'param_C': masked_array(data=[13, 15, 9, 15, 9, 11, 7, 15, 7, 9, 7, 15, 17, 5, 20,\n",
      "                   13, 11, 15, 5, 3, 15, 5, 3, 7, 13, 7, 7, 13, 3, 1, 5,\n",
      "                   13, 1, 11, 15, 13, 1, 13, 7, 5, 7, 3, 3, 20, 13, 1, 11,\n",
      "                   7, 11, 11, 1, 11, 11, 1, 20, 20, 17, 1, 15, 20, 13, 11,\n",
      "                   20, 9, 7, 17, 15, 13, 9, 15, 9, 17, 3, 7, 1, 17, 9, 9,\n",
      "                   13, 3, 9, 3, 3, 20, 7, 9, 7, 9, 9, 1, 13, 17, 13, 17,\n",
      "                   17, 20, 15, 5, 5, 1],\n",
      "             mask=[False, False, False, False, False, False, False, False,\n",
      "                   False, False, False, False, False, False, False, False,\n",
      "                   False, False, False, False, False, False, False, False,\n",
      "                   False, False, False, False, False, False, False, False,\n",
      "                   False, False, False, False, False, False, False, False,\n",
      "                   False, False, False, False, False, False, False, False,\n",
      "                   False, False, False, False, False, False, False, False,\n",
      "                   False, False, False, False, False, False, False, False,\n",
      "                   False, False, False, False, False, False, False, False,\n",
      "                   False, False, False, False, False, False, False, False,\n",
      "                   False, False, False, False, False, False, False, False,\n",
      "                   False, False, False, False, False, False, False, False,\n",
      "                   False, False, False, False],\n",
      "       fill_value='?',\n",
      "            dtype=object), 'params': [{'kernel': 'linear', 'degree': 3, 'C': 13}, {'kernel': 'rbf', 'degree': 10, 'C': 15}, {'kernel': 'poly', 'degree': 4, 'C': 9}, {'kernel': 'poly', 'degree': 2, 'C': 15}, {'kernel': 'linear', 'degree': 7, 'C': 9}, {'kernel': 'sigmoid', 'degree': 9, 'C': 11}, {'kernel': 'linear', 'degree': 2, 'C': 7}, {'kernel': 'rbf', 'degree': 1, 'C': 15}, {'kernel': 'sigmoid', 'degree': 8, 'C': 7}, {'kernel': 'poly', 'degree': 3, 'C': 9}, {'kernel': 'poly', 'degree': 2, 'C': 7}, {'kernel': 'linear', 'degree': 5, 'C': 15}, {'kernel': 'rbf', 'degree': 6, 'C': 17}, {'kernel': 'sigmoid', 'degree': 6, 'C': 5}, {'kernel': 'rbf', 'degree': 3, 'C': 20}, {'kernel': 'rbf', 'degree': 10, 'C': 13}, {'kernel': 'linear', 'degree': 10, 'C': 11}, {'kernel': 'sigmoid', 'degree': 9, 'C': 15}, {'kernel': 'linear', 'degree': 5, 'C': 5}, {'kernel': 'sigmoid', 'degree': 1, 'C': 3}, {'kernel': 'rbf', 'degree': 9, 'C': 15}, {'kernel': 'poly', 'degree': 5, 'C': 5}, {'kernel': 'rbf', 'degree': 10, 'C': 3}, {'kernel': 'linear', 'degree': 6, 'C': 7}, {'kernel': 'linear', 'degree': 9, 'C': 13}, {'kernel': 'poly', 'degree': 9, 'C': 7}, {'kernel': 'sigmoid', 'degree': 2, 'C': 7}, {'kernel': 'sigmoid', 'degree': 9, 'C': 13}, {'kernel': 'linear', 'degree': 5, 'C': 3}, {'kernel': 'sigmoid', 'degree': 6, 'C': 1}, {'kernel': 'rbf', 'degree': 5, 'C': 5}, {'kernel': 'rbf', 'degree': 1, 'C': 13}, {'kernel': 'rbf', 'degree': 5, 'C': 1}, {'kernel': 'poly', 'degree': 1, 'C': 11}, {'kernel': 'linear', 'degree': 4, 'C': 15}, {'kernel': 'sigmoid', 'degree': 8, 'C': 13}, {'kernel': 'sigmoid', 'degree': 2, 'C': 1}, {'kernel': 'sigmoid', 'degree': 6, 'C': 13}, {'kernel': 'poly', 'degree': 3, 'C': 7}, {'kernel': 'rbf', 'degree': 10, 'C': 5}, {'kernel': 'linear', 'degree': 5, 'C': 7}, {'kernel': 'rbf', 'degree': 4, 'C': 3}, {'kernel': 'sigmoid', 'degree': 9, 'C': 3}, {'kernel': 'poly', 'degree': 3, 'C': 20}, {'kernel': 'rbf', 'degree': 5, 'C': 13}, {'kernel': 'linear', 'degree': 8, 'C': 1}, {'kernel': 'linear', 'degree': 3, 'C': 11}, {'kernel': 'rbf', 'degree': 4, 'C': 7}, {'kernel': 'poly', 'degree': 7, 'C': 11}, {'kernel': 'rbf', 'degree': 2, 'C': 11}, {'kernel': 'poly', 'degree': 9, 'C': 1}, {'kernel': 'sigmoid', 'degree': 8, 'C': 11}, {'kernel': 'poly', 'degree': 5, 'C': 11}, {'kernel': 'poly', 'degree': 1, 'C': 1}, {'kernel': 'poly', 'degree': 6, 'C': 20}, {'kernel': 'rbf', 'degree': 9, 'C': 20}, {'kernel': 'sigmoid', 'degree': 7, 'C': 17}, {'kernel': 'poly', 'degree': 6, 'C': 1}, {'kernel': 'linear', 'degree': 3, 'C': 15}, {'kernel': 'poly', 'degree': 9, 'C': 20}, {'kernel': 'linear', 'degree': 6, 'C': 13}, {'kernel': 'poly', 'degree': 2, 'C': 11}, {'kernel': 'sigmoid', 'degree': 7, 'C': 20}, {'kernel': 'rbf', 'degree': 4, 'C': 9}, {'kernel': 'rbf', 'degree': 10, 'C': 7}, {'kernel': 'poly', 'degree': 4, 'C': 17}, {'kernel': 'sigmoid', 'degree': 7, 'C': 15}, {'kernel': 'linear', 'degree': 2, 'C': 13}, {'kernel': 'rbf', 'degree': 5, 'C': 9}, {'kernel': 'rbf', 'degree': 6, 'C': 15}, {'kernel': 'sigmoid', 'degree': 7, 'C': 9}, {'kernel': 'linear', 'degree': 2, 'C': 17}, {'kernel': 'linear', 'degree': 7, 'C': 3}, {'kernel': 'poly', 'degree': 8, 'C': 7}, {'kernel': 'poly', 'degree': 2, 'C': 1}, {'kernel': 'rbf', 'degree': 10, 'C': 17}, {'kernel': 'rbf', 'degree': 2, 'C': 9}, {'kernel': 'rbf', 'degree': 10, 'C': 9}, {'kernel': 'sigmoid', 'degree': 7, 'C': 13}, {'kernel': 'poly', 'degree': 8, 'C': 3}, {'kernel': 'rbf', 'degree': 8, 'C': 9}, {'kernel': 'rbf', 'degree': 2, 'C': 3}, {'kernel': 'rbf', 'degree': 3, 'C': 3}, {'kernel': 'poly', 'degree': 5, 'C': 20}, {'kernel': 'poly', 'degree': 1, 'C': 7}, {'kernel': 'sigmoid', 'degree': 9, 'C': 9}, {'kernel': 'poly', 'degree': 4, 'C': 7}, {'kernel': 'sigmoid', 'degree': 8, 'C': 9}, {'kernel': 'poly', 'degree': 10, 'C': 9}, {'kernel': 'sigmoid', 'degree': 7, 'C': 1}, {'kernel': 'poly', 'degree': 1, 'C': 13}, {'kernel': 'linear', 'degree': 8, 'C': 17}, {'kernel': 'sigmoid', 'degree': 10, 'C': 13}, {'kernel': 'sigmoid', 'degree': 4, 'C': 17}, {'kernel': 'linear', 'degree': 7, 'C': 17}, {'kernel': 'linear', 'degree': 6, 'C': 20}, {'kernel': 'sigmoid', 'degree': 8, 'C': 15}, {'kernel': 'rbf', 'degree': 8, 'C': 5}, {'kernel': 'rbf', 'degree': 3, 'C': 5}, {'kernel': 'rbf', 'degree': 2, 'C': 1}], 'split0_test_score': array([1.        , 0.99288256, 0.97864769, 0.99644128, 1.        ,\n",
      "       0.84697509, 1.        , 0.99288256, 0.9252669 , 0.98220641,\n",
      "       0.99644128, 1.        , 0.99288256, 0.84697509, 0.99288256,\n",
      "       0.99288256, 1.        , 0.92882562, 1.        , 0.86120996,\n",
      "       0.99288256, 0.96797153, 0.98576512, 1.        , 1.        ,\n",
      "       0.91814947, 0.9252669 , 0.92882562, 1.        , 0.87188612,\n",
      "       0.98932384, 0.99288256, 0.98220641, 1.        , 1.        ,\n",
      "       0.92882562, 0.87188612, 0.92882562, 0.98220641, 0.98932384,\n",
      "       1.        , 0.98576512, 0.86120996, 0.98220641, 0.99288256,\n",
      "       1.        , 1.        , 0.98932384, 0.94661922, 0.99288256,\n",
      "       0.91814947, 0.84697509, 0.96797153, 0.98576512, 0.95729537,\n",
      "       0.99288256, 0.9252669 , 0.95373665, 1.        , 0.91814947,\n",
      "       1.        , 0.99644128, 0.92882562, 0.99288256, 0.98932384,\n",
      "       0.97864769, 0.92882562, 1.        , 0.99288256, 0.99288256,\n",
      "       0.93238434, 1.        , 1.        , 0.93238434, 0.99288256,\n",
      "       0.99288256, 0.99288256, 0.99288256, 0.92882562, 0.93238434,\n",
      "       0.99288256, 0.98576512, 0.98576512, 0.96797153, 1.        ,\n",
      "       0.93238434, 0.97864769, 0.93238434, 0.91459075, 0.87188612,\n",
      "       1.        , 1.        , 0.92882562, 0.9252669 , 1.        ,\n",
      "       1.        , 0.92882562, 0.98932384, 0.98932384, 0.98220641]), 'split1_test_score': array([1.        , 0.98576512, 0.98220641, 1.        , 1.        ,\n",
      "       0.92882562, 1.        , 0.98576512, 0.81494662, 0.98220641,\n",
      "       1.        , 1.        , 0.98576512, 0.80071174, 0.98576512,\n",
      "       0.98576512, 1.        , 0.90747331, 1.        , 0.92882562,\n",
      "       0.98576512, 0.98220641, 0.98576512, 1.        , 1.        ,\n",
      "       0.93594306, 0.81494662, 0.9252669 , 1.        , 0.83274021,\n",
      "       0.98576512, 0.98576512, 0.98932384, 1.        , 1.        ,\n",
      "       0.9252669 , 0.83274021, 0.9252669 , 0.98220641, 0.98576512,\n",
      "       1.        , 0.98576512, 0.92882562, 0.98220641, 0.98576512,\n",
      "       1.        , 1.        , 0.98576512, 0.95373665, 0.98576512,\n",
      "       0.93594306, 0.92882562, 0.98220641, 0.98932384, 0.96797153,\n",
      "       0.98576512, 0.91103203, 0.96797153, 1.        , 0.93594306,\n",
      "       1.        , 1.        , 0.78647687, 0.98576512, 0.98576512,\n",
      "       0.98220641, 0.90747331, 1.        , 0.98576512, 0.98576512,\n",
      "       0.9252669 , 1.        , 1.        , 0.95373665, 0.99288256,\n",
      "       0.98576512, 0.98576512, 0.98576512, 0.9252669 , 0.95373665,\n",
      "       0.98576512, 0.98576512, 0.98576512, 0.98220641, 1.        ,\n",
      "       0.9252669 , 0.98220641, 0.9252669 , 0.9252669 , 0.83274021,\n",
      "       1.        , 1.        , 0.9252669 , 0.91103203, 1.        ,\n",
      "       1.        , 0.90747331, 0.98576512, 0.98576512, 0.98932384]), 'split2_test_score': array([1.        , 0.99288256, 0.97864769, 1.        , 1.        ,\n",
      "       0.82206406, 1.        , 0.99288256, 0.82206406, 0.98576512,\n",
      "       1.        , 1.        , 0.99288256, 0.82206406, 0.99288256,\n",
      "       0.99288256, 1.        , 0.81494662, 1.        , 0.82206406,\n",
      "       0.99288256, 0.96441281, 0.98932384, 1.        , 1.        ,\n",
      "       0.90391459, 0.82206406, 0.82206406, 1.        , 0.85409253,\n",
      "       0.98932384, 0.99288256, 0.98220641, 1.        , 1.        ,\n",
      "       0.82206406, 0.85409253, 0.82206406, 0.98576512, 0.98932384,\n",
      "       1.        , 0.98932384, 0.82206406, 0.98576512, 0.99288256,\n",
      "       1.        , 1.        , 0.99288256, 0.94661922, 0.99288256,\n",
      "       0.90391459, 0.82206406, 0.96441281, 0.98932384, 0.95729537,\n",
      "       0.99288256, 0.81494662, 0.95729537, 1.        , 0.90391459,\n",
      "       1.        , 1.        , 0.82206406, 0.99288256, 0.99288256,\n",
      "       0.97864769, 0.81494662, 1.        , 0.99288256, 0.99288256,\n",
      "       0.82206406, 1.        , 1.        , 0.91814947, 0.99644128,\n",
      "       0.99288256, 0.99288256, 0.99288256, 0.82206406, 0.91814947,\n",
      "       0.99288256, 0.98932384, 0.98932384, 0.96441281, 1.        ,\n",
      "       0.82206406, 0.97864769, 0.82206406, 0.90035587, 0.85409253,\n",
      "       1.        , 1.        , 0.82206406, 0.81494662, 1.        ,\n",
      "       1.        , 0.81494662, 0.98932384, 0.98932384, 0.98220641]), 'mean_test_score': array([1.        , 0.99051008, 0.97983393, 0.99881376, 1.        ,\n",
      "       0.86595492, 1.        , 0.99051008, 0.85409253, 0.98339265,\n",
      "       0.99881376, 1.        , 0.99051008, 0.8232503 , 0.99051008,\n",
      "       0.99051008, 1.        , 0.88374852, 1.        , 0.87069988,\n",
      "       0.99051008, 0.97153025, 0.98695136, 1.        , 1.        ,\n",
      "       0.91933571, 0.85409253, 0.89205219, 1.        , 0.85290629,\n",
      "       0.9881376 , 0.99051008, 0.98457888, 1.        , 1.        ,\n",
      "       0.89205219, 0.85290629, 0.89205219, 0.98339265, 0.9881376 ,\n",
      "       1.        , 0.98695136, 0.87069988, 0.98339265, 0.99051008,\n",
      "       1.        , 1.        , 0.98932384, 0.9489917 , 0.99051008,\n",
      "       0.91933571, 0.86595492, 0.97153025, 0.9881376 , 0.96085409,\n",
      "       0.99051008, 0.88374852, 0.95966785, 1.        , 0.91933571,\n",
      "       1.        , 0.99881376, 0.84578885, 0.99051008, 0.98932384,\n",
      "       0.97983393, 0.88374852, 1.        , 0.99051008, 0.99051008,\n",
      "       0.89323843, 1.        , 1.        , 0.93475682, 0.9940688 ,\n",
      "       0.99051008, 0.99051008, 0.99051008, 0.89205219, 0.93475682,\n",
      "       0.99051008, 0.98695136, 0.98695136, 0.97153025, 1.        ,\n",
      "       0.89323843, 0.97983393, 0.89323843, 0.91340451, 0.85290629,\n",
      "       1.        , 1.        , 0.89205219, 0.88374852, 1.        ,\n",
      "       1.        , 0.88374852, 0.9881376 , 0.9881376 , 0.98457888]), 'std_test_score': array([0.        , 0.00335519, 0.0016776 , 0.0016776 , 0.        ,\n",
      "       0.0456047 , 0.        , 0.00335519, 0.05041169, 0.0016776 ,\n",
      "       0.0016776 , 0.        , 0.00335519, 0.01890555, 0.00335519,\n",
      "       0.00335519, 0.        , 0.04942507, 0.        , 0.04409877,\n",
      "       0.00335519, 0.00768771, 0.0016776 , 0.        , 0.        ,\n",
      "       0.01310244, 0.05041169, 0.04951041, 0.        , 0.01600325,\n",
      "       0.0016776 , 0.00335519, 0.00335519, 0.        , 0.        ,\n",
      "       0.04951041, 0.01600325, 0.04951041, 0.0016776 , 0.0016776 ,\n",
      "       0.        , 0.0016776 , 0.04409877, 0.0016776 , 0.00335519,\n",
      "       0.        , 0.        , 0.00290568, 0.00335519, 0.00335519,\n",
      "       0.01310244, 0.0456047 , 0.00768771, 0.0016776 , 0.00503279,\n",
      "       0.00335519, 0.04899615, 0.00604866, 0.        , 0.01310244,\n",
      "       0.        , 0.0016776 , 0.06048659, 0.00335519, 0.00290568,\n",
      "       0.0016776 , 0.04942507, 0.        , 0.00335519, 0.00335519,\n",
      "       0.05041169, 0.        , 0.        , 0.01462494, 0.0016776 ,\n",
      "       0.00335519, 0.00335519, 0.00335519, 0.04951041, 0.01462494,\n",
      "       0.00335519, 0.0016776 , 0.0016776 , 0.00768771, 0.        ,\n",
      "       0.05041169, 0.0016776 , 0.05041169, 0.01020442, 0.01600325,\n",
      "       0.        , 0.        , 0.04951041, 0.04899615, 0.        ,\n",
      "       0.        , 0.04942507, 0.0016776 , 0.0016776 , 0.00335519]), 'rank_test_score': array([  1,  29,  62,  25,   1,  92,   1,  29,  94,  59,  25,   1,  29,\n",
      "       100,  29,  29,   1,  85,   1,  90,  29,  65,  53,   1,   1,  73,\n",
      "        94,  80,   1,  96,  48,  29,  57,   1,   1,  80,  96,  80,  59,\n",
      "        48,   1,  53,  90,  59,  29,   1,   1,  46,  70,  29,  73,  92,\n",
      "        65,  48,  68,  29,  85,  69,   1,  73,   1,  25,  99,  29,  46,\n",
      "        62,  85,   1,  29,  29,  77,   1,   1,  71,  28,  29,  29,  29,\n",
      "        80,  71,  29,  53,  53,  65,   1,  77,  62,  77,  76,  96,   1,\n",
      "         1,  80,  85,   1,   1,  85,  48,  48,  57], dtype=int32)}\n"
     ]
    }
   ],
   "source": [
    "print('\\n All results:')\n",
    "print(svc_randomcv.cv_results_)"
   ]
  },
  {
   "cell_type": "code",
   "execution_count": 78,
   "id": "b434df63",
   "metadata": {
    "ExecuteTime": {
     "end_time": "2021-12-15T22:55:34.533135Z",
     "start_time": "2021-12-15T22:55:34.527972Z"
    }
   },
   "outputs": [
    {
     "name": "stdout",
     "output_type": "stream",
     "text": [
      "\n",
      " Best estimator:\n",
      "SVC(C=13, kernel='linear')\n"
     ]
    }
   ],
   "source": [
    "print('\\n Best estimator:')\n",
    "print(svc_randomcv.best_estimator_)"
   ]
  },
  {
   "cell_type": "code",
   "execution_count": 79,
   "id": "99db94a5",
   "metadata": {
    "ExecuteTime": {
     "end_time": "2021-12-15T22:55:48.914608Z",
     "start_time": "2021-12-15T22:55:48.910603Z"
    }
   },
   "outputs": [
    {
     "name": "stdout",
     "output_type": "stream",
     "text": [
      "\n",
      " Best hyperparameters:\n",
      "{'kernel': 'linear', 'degree': 3, 'C': 13}\n"
     ]
    }
   ],
   "source": [
    "print('\\n Best hyperparameters:')\n",
    "print(svc_randomcv.best_params_)"
   ]
  },
  {
   "cell_type": "code",
   "execution_count": 85,
   "id": "9f51a41b",
   "metadata": {
    "ExecuteTime": {
     "end_time": "2021-12-15T23:03:24.552130Z",
     "start_time": "2021-12-15T23:03:24.542905Z"
    }
   },
   "outputs": [
    {
     "data": {
      "text/plain": [
       "SVC(C=13, degree=1, kernel='poly')"
      ]
     },
     "execution_count": 85,
     "metadata": {},
     "output_type": "execute_result"
    }
   ],
   "source": [
    "svc = SVC(kernel='poly',degree=2,C=1)\n",
    "svc.fit(X_train,y_train)"
   ]
  },
  {
   "cell_type": "code",
   "execution_count": 81,
   "id": "aa776947",
   "metadata": {
    "ExecuteTime": {
     "end_time": "2021-12-15T22:56:07.271901Z",
     "start_time": "2021-12-15T22:56:07.258732Z"
    }
   },
   "outputs": [
    {
     "name": "stdout",
     "output_type": "stream",
     "text": [
      "Accuracy =  1.0\n",
      "Precision =  1.0\n",
      "Recall =  1.0\n",
      "F1 Score =  1.0\n",
      "AUC Score = 1.0\n",
      "Kappa score =  1.0\n",
      "Error rate =  0.0 \n",
      "\n"
     ]
    }
   ],
   "source": [
    "y_pred = svc.predict(X_test)\n",
    "model_report(y_test, y_pred)"
   ]
  },
  {
   "cell_type": "code",
   "execution_count": 82,
   "id": "dd06f8e6",
   "metadata": {
    "ExecuteTime": {
     "end_time": "2021-12-15T22:56:31.135678Z",
     "start_time": "2021-12-15T22:56:31.130660Z"
    }
   },
   "outputs": [
    {
     "name": "stdout",
     "output_type": "stream",
     "text": [
      "{'n_estimators': [200, 400, 600, 800, 1000, 1200, 1400, 1600, 1800, 2000], 'max_features': ['auto', 'sqrt', 'log2'], 'max_depth': [10, 120, 230, 340, 450, 560, 670, 780, 890, 1000], 'min_samples_split': [2, 5, 10, 14], 'min_samples_leaf': [1, 2, 4, 6, 8], 'criterion': ['entropy', 'gini']}\n"
     ]
    }
   ],
   "source": [
    "from sklearn.model_selection import RandomizedSearchCV\n",
    "\n",
    "\n",
    "n_estimators = [int(x) for x in np.linspace(start=200, stop=2000, num=10)]      # random decision forests\n",
    "\n",
    "max_features = [\"auto\", \"sqrt\", \"log2\"]    # Varying features used\n",
    "\n",
    "max_depth = [int(x) for x in np.linspace(10, 1000, 10)]   # The max. # of levels in tree\n",
    "\n",
    "min_samples_split = [2, 5, 10, 14]   # The min. # of samples for split\n",
    "\n",
    "min_samples_leaf = [1, 2, 4, 6, 8]   # The min. of samples at inidividual leaf\n",
    "\n",
    "criterion = [\"entropy\", \"gini\"]  # used for tree \n",
    "\n",
    "# Creation for random grid:\n",
    "\n",
    "random_grid = {\n",
    "    \"n_estimators\": n_estimators,\n",
    "    \"max_features\": max_features,\n",
    "    \"max_depth\": max_depth,\n",
    "    \"min_samples_split\": min_samples_split,\n",
    "    \"min_samples_leaf\": min_samples_leaf,\n",
    "    \"criterion\": criterion,\n",
    "}\n",
    "\n",
    "print(random_grid)"
   ]
  },
  {
   "cell_type": "code",
   "execution_count": 83,
   "id": "304fece0",
   "metadata": {
    "ExecuteTime": {
     "end_time": "2021-12-15T22:56:40.567742Z",
     "start_time": "2021-12-15T22:56:40.563219Z"
    }
   },
   "outputs": [],
   "source": [
    "from sklearn.model_selection import train_test_split\n",
    "X_train, X_test, y_train, y_test = train_test_split(X, y, test_size = 0.20, random_state = 50)"
   ]
  },
  {
   "cell_type": "code",
   "execution_count": 84,
   "id": "ac093fd0",
   "metadata": {
    "ExecuteTime": {
     "end_time": "2021-12-15T23:03:24.541335Z",
     "start_time": "2021-12-15T22:56:49.193468Z"
    }
   },
   "outputs": [
    {
     "name": "stdout",
     "output_type": "stream",
     "text": [
      "Fitting 3 folds for each of 100 candidates, totalling 300 fits\n",
      "[CV] END criterion=entropy, max_depth=1000, max_features=sqrt, min_samples_leaf=2, min_samples_split=2, n_estimators=200; total time=   0.3s\n",
      "[CV] END criterion=entropy, max_depth=1000, max_features=sqrt, min_samples_leaf=2, min_samples_split=2, n_estimators=200; total time=   0.2s\n",
      "[CV] END criterion=entropy, max_depth=1000, max_features=sqrt, min_samples_leaf=2, min_samples_split=2, n_estimators=200; total time=   0.2s\n",
      "[CV] END criterion=gini, max_depth=120, max_features=sqrt, min_samples_leaf=6, min_samples_split=5, n_estimators=1400; total time=   1.7s\n",
      "[CV] END criterion=gini, max_depth=120, max_features=sqrt, min_samples_leaf=6, min_samples_split=5, n_estimators=1400; total time=   1.6s\n",
      "[CV] END criterion=gini, max_depth=120, max_features=sqrt, min_samples_leaf=6, min_samples_split=5, n_estimators=1400; total time=   1.5s\n",
      "[CV] END criterion=gini, max_depth=340, max_features=sqrt, min_samples_leaf=1, min_samples_split=14, n_estimators=2000; total time=   2.2s\n",
      "[CV] END criterion=gini, max_depth=340, max_features=sqrt, min_samples_leaf=1, min_samples_split=14, n_estimators=2000; total time=   2.3s\n",
      "[CV] END criterion=gini, max_depth=340, max_features=sqrt, min_samples_leaf=1, min_samples_split=14, n_estimators=2000; total time=   2.4s\n",
      "[CV] END criterion=entropy, max_depth=10, max_features=auto, min_samples_leaf=2, min_samples_split=14, n_estimators=2000; total time=   2.3s\n",
      "[CV] END criterion=entropy, max_depth=10, max_features=auto, min_samples_leaf=2, min_samples_split=14, n_estimators=2000; total time=   2.3s\n",
      "[CV] END criterion=entropy, max_depth=10, max_features=auto, min_samples_leaf=2, min_samples_split=14, n_estimators=2000; total time=   2.3s\n",
      "[CV] END criterion=entropy, max_depth=10, max_features=sqrt, min_samples_leaf=6, min_samples_split=14, n_estimators=200; total time=   0.2s\n",
      "[CV] END criterion=entropy, max_depth=10, max_features=sqrt, min_samples_leaf=6, min_samples_split=14, n_estimators=200; total time=   0.2s\n",
      "[CV] END criterion=entropy, max_depth=10, max_features=sqrt, min_samples_leaf=6, min_samples_split=14, n_estimators=200; total time=   0.2s\n",
      "[CV] END criterion=gini, max_depth=670, max_features=log2, min_samples_leaf=4, min_samples_split=2, n_estimators=600; total time=   0.7s\n",
      "[CV] END criterion=gini, max_depth=670, max_features=log2, min_samples_leaf=4, min_samples_split=2, n_estimators=600; total time=   0.7s\n",
      "[CV] END criterion=gini, max_depth=670, max_features=log2, min_samples_leaf=4, min_samples_split=2, n_estimators=600; total time=   0.7s\n",
      "[CV] END criterion=entropy, max_depth=670, max_features=log2, min_samples_leaf=6, min_samples_split=10, n_estimators=2000; total time=   2.4s\n",
      "[CV] END criterion=entropy, max_depth=670, max_features=log2, min_samples_leaf=6, min_samples_split=10, n_estimators=2000; total time=   2.3s\n",
      "[CV] END criterion=entropy, max_depth=670, max_features=log2, min_samples_leaf=6, min_samples_split=10, n_estimators=2000; total time=   2.4s\n",
      "[CV] END criterion=gini, max_depth=340, max_features=auto, min_samples_leaf=4, min_samples_split=10, n_estimators=1400; total time=   1.7s\n",
      "[CV] END criterion=gini, max_depth=340, max_features=auto, min_samples_leaf=4, min_samples_split=10, n_estimators=1400; total time=   1.7s\n",
      "[CV] END criterion=gini, max_depth=340, max_features=auto, min_samples_leaf=4, min_samples_split=10, n_estimators=1400; total time=   1.6s\n",
      "[CV] END criterion=entropy, max_depth=1000, max_features=sqrt, min_samples_leaf=2, min_samples_split=2, n_estimators=1400; total time=   1.6s\n",
      "[CV] END criterion=entropy, max_depth=1000, max_features=sqrt, min_samples_leaf=2, min_samples_split=2, n_estimators=1400; total time=   1.6s\n",
      "[CV] END criterion=entropy, max_depth=1000, max_features=sqrt, min_samples_leaf=2, min_samples_split=2, n_estimators=1400; total time=   1.6s\n",
      "[CV] END criterion=entropy, max_depth=120, max_features=sqrt, min_samples_leaf=1, min_samples_split=2, n_estimators=600; total time=   0.7s\n",
      "[CV] END criterion=entropy, max_depth=120, max_features=sqrt, min_samples_leaf=1, min_samples_split=2, n_estimators=600; total time=   0.7s\n",
      "[CV] END criterion=entropy, max_depth=120, max_features=sqrt, min_samples_leaf=1, min_samples_split=2, n_estimators=600; total time=   0.7s\n",
      "[CV] END criterion=gini, max_depth=890, max_features=auto, min_samples_leaf=8, min_samples_split=14, n_estimators=600; total time=   0.7s\n",
      "[CV] END criterion=gini, max_depth=890, max_features=auto, min_samples_leaf=8, min_samples_split=14, n_estimators=600; total time=   0.7s\n",
      "[CV] END criterion=gini, max_depth=890, max_features=auto, min_samples_leaf=8, min_samples_split=14, n_estimators=600; total time=   0.7s\n",
      "[CV] END criterion=entropy, max_depth=780, max_features=auto, min_samples_leaf=8, min_samples_split=5, n_estimators=1400; total time=   1.6s\n",
      "[CV] END criterion=entropy, max_depth=780, max_features=auto, min_samples_leaf=8, min_samples_split=5, n_estimators=1400; total time=   1.7s\n",
      "[CV] END criterion=entropy, max_depth=780, max_features=auto, min_samples_leaf=8, min_samples_split=5, n_estimators=1400; total time=   1.6s\n",
      "[CV] END criterion=gini, max_depth=670, max_features=sqrt, min_samples_leaf=2, min_samples_split=14, n_estimators=400; total time=   0.5s\n",
      "[CV] END criterion=gini, max_depth=670, max_features=sqrt, min_samples_leaf=2, min_samples_split=14, n_estimators=400; total time=   0.4s\n",
      "[CV] END criterion=gini, max_depth=670, max_features=sqrt, min_samples_leaf=2, min_samples_split=14, n_estimators=400; total time=   0.5s\n",
      "[CV] END criterion=gini, max_depth=1000, max_features=auto, min_samples_leaf=4, min_samples_split=5, n_estimators=600; total time=   0.7s\n",
      "[CV] END criterion=gini, max_depth=1000, max_features=auto, min_samples_leaf=4, min_samples_split=5, n_estimators=600; total time=   0.7s\n",
      "[CV] END criterion=gini, max_depth=1000, max_features=auto, min_samples_leaf=4, min_samples_split=5, n_estimators=600; total time=   0.7s\n",
      "[CV] END criterion=gini, max_depth=670, max_features=log2, min_samples_leaf=4, min_samples_split=5, n_estimators=400; total time=   0.5s\n",
      "[CV] END criterion=gini, max_depth=670, max_features=log2, min_samples_leaf=4, min_samples_split=5, n_estimators=400; total time=   0.5s\n",
      "[CV] END criterion=gini, max_depth=670, max_features=log2, min_samples_leaf=4, min_samples_split=5, n_estimators=400; total time=   0.5s\n",
      "[CV] END criterion=entropy, max_depth=230, max_features=auto, min_samples_leaf=6, min_samples_split=10, n_estimators=200; total time=   0.2s\n",
      "[CV] END criterion=entropy, max_depth=230, max_features=auto, min_samples_leaf=6, min_samples_split=10, n_estimators=200; total time=   0.2s\n",
      "[CV] END criterion=entropy, max_depth=230, max_features=auto, min_samples_leaf=6, min_samples_split=10, n_estimators=200; total time=   0.2s\n",
      "[CV] END criterion=gini, max_depth=230, max_features=log2, min_samples_leaf=6, min_samples_split=5, n_estimators=1800; total time=   2.1s\n",
      "[CV] END criterion=gini, max_depth=230, max_features=log2, min_samples_leaf=6, min_samples_split=5, n_estimators=1800; total time=   2.1s\n",
      "[CV] END criterion=gini, max_depth=230, max_features=log2, min_samples_leaf=6, min_samples_split=5, n_estimators=1800; total time=   2.1s\n",
      "[CV] END criterion=gini, max_depth=890, max_features=sqrt, min_samples_leaf=6, min_samples_split=14, n_estimators=600; total time=   0.7s\n",
      "[CV] END criterion=gini, max_depth=890, max_features=sqrt, min_samples_leaf=6, min_samples_split=14, n_estimators=600; total time=   0.7s\n",
      "[CV] END criterion=gini, max_depth=890, max_features=sqrt, min_samples_leaf=6, min_samples_split=14, n_estimators=600; total time=   0.7s\n",
      "[CV] END criterion=gini, max_depth=670, max_features=auto, min_samples_leaf=6, min_samples_split=2, n_estimators=800; total time=   0.9s\n",
      "[CV] END criterion=gini, max_depth=670, max_features=auto, min_samples_leaf=6, min_samples_split=2, n_estimators=800; total time=   0.9s\n",
      "[CV] END criterion=gini, max_depth=670, max_features=auto, min_samples_leaf=6, min_samples_split=2, n_estimators=800; total time=   0.9s\n",
      "[CV] END criterion=entropy, max_depth=1000, max_features=sqrt, min_samples_leaf=8, min_samples_split=2, n_estimators=2000; total time=   2.4s\n",
      "[CV] END criterion=entropy, max_depth=1000, max_features=sqrt, min_samples_leaf=8, min_samples_split=2, n_estimators=2000; total time=   2.3s\n",
      "[CV] END criterion=entropy, max_depth=1000, max_features=sqrt, min_samples_leaf=8, min_samples_split=2, n_estimators=2000; total time=   2.3s\n",
      "[CV] END criterion=gini, max_depth=10, max_features=sqrt, min_samples_leaf=1, min_samples_split=14, n_estimators=200; total time=   0.2s\n",
      "[CV] END criterion=gini, max_depth=10, max_features=sqrt, min_samples_leaf=1, min_samples_split=14, n_estimators=200; total time=   0.2s\n",
      "[CV] END criterion=gini, max_depth=10, max_features=sqrt, min_samples_leaf=1, min_samples_split=14, n_estimators=200; total time=   0.2s\n",
      "[CV] END criterion=entropy, max_depth=450, max_features=auto, min_samples_leaf=1, min_samples_split=14, n_estimators=1000; total time=   1.2s\n",
      "[CV] END criterion=entropy, max_depth=450, max_features=auto, min_samples_leaf=1, min_samples_split=14, n_estimators=1000; total time=   1.2s\n",
      "[CV] END criterion=entropy, max_depth=450, max_features=auto, min_samples_leaf=1, min_samples_split=14, n_estimators=1000; total time=   1.2s\n",
      "[CV] END criterion=entropy, max_depth=1000, max_features=sqrt, min_samples_leaf=8, min_samples_split=10, n_estimators=1600; total time=   1.9s\n",
      "[CV] END criterion=entropy, max_depth=1000, max_features=sqrt, min_samples_leaf=8, min_samples_split=10, n_estimators=1600; total time=   1.8s\n",
      "[CV] END criterion=entropy, max_depth=1000, max_features=sqrt, min_samples_leaf=8, min_samples_split=10, n_estimators=1600; total time=   1.8s\n",
      "[CV] END criterion=entropy, max_depth=340, max_features=auto, min_samples_leaf=4, min_samples_split=10, n_estimators=200; total time=   0.2s\n",
      "[CV] END criterion=entropy, max_depth=340, max_features=auto, min_samples_leaf=4, min_samples_split=10, n_estimators=200; total time=   0.2s\n",
      "[CV] END criterion=entropy, max_depth=340, max_features=auto, min_samples_leaf=4, min_samples_split=10, n_estimators=200; total time=   0.2s\n",
      "[CV] END criterion=gini, max_depth=780, max_features=log2, min_samples_leaf=2, min_samples_split=5, n_estimators=1200; total time=   1.4s\n",
      "[CV] END criterion=gini, max_depth=780, max_features=log2, min_samples_leaf=2, min_samples_split=5, n_estimators=1200; total time=   1.4s\n",
      "[CV] END criterion=gini, max_depth=780, max_features=log2, min_samples_leaf=2, min_samples_split=5, n_estimators=1200; total time=   1.3s\n",
      "[CV] END criterion=entropy, max_depth=890, max_features=auto, min_samples_leaf=8, min_samples_split=14, n_estimators=800; total time=   0.9s\n",
      "[CV] END criterion=entropy, max_depth=890, max_features=auto, min_samples_leaf=8, min_samples_split=14, n_estimators=800; total time=   0.9s\n",
      "[CV] END criterion=entropy, max_depth=890, max_features=auto, min_samples_leaf=8, min_samples_split=14, n_estimators=800; total time=   0.9s\n",
      "[CV] END criterion=entropy, max_depth=560, max_features=sqrt, min_samples_leaf=1, min_samples_split=5, n_estimators=800; total time=   0.9s\n",
      "[CV] END criterion=entropy, max_depth=560, max_features=sqrt, min_samples_leaf=1, min_samples_split=5, n_estimators=800; total time=   0.9s\n",
      "[CV] END criterion=entropy, max_depth=560, max_features=sqrt, min_samples_leaf=1, min_samples_split=5, n_estimators=800; total time=   0.9s\n",
      "[CV] END criterion=gini, max_depth=120, max_features=sqrt, min_samples_leaf=4, min_samples_split=10, n_estimators=400; total time=   0.5s\n",
      "[CV] END criterion=gini, max_depth=120, max_features=sqrt, min_samples_leaf=4, min_samples_split=10, n_estimators=400; total time=   0.5s\n",
      "[CV] END criterion=gini, max_depth=120, max_features=sqrt, min_samples_leaf=4, min_samples_split=10, n_estimators=400; total time=   0.5s\n",
      "[CV] END criterion=entropy, max_depth=1000, max_features=log2, min_samples_leaf=2, min_samples_split=2, n_estimators=800; total time=   0.9s\n",
      "[CV] END criterion=entropy, max_depth=1000, max_features=log2, min_samples_leaf=2, min_samples_split=2, n_estimators=800; total time=   0.9s\n",
      "[CV] END criterion=entropy, max_depth=1000, max_features=log2, min_samples_leaf=2, min_samples_split=2, n_estimators=800; total time=   1.0s\n",
      "[CV] END criterion=gini, max_depth=560, max_features=sqrt, min_samples_leaf=1, min_samples_split=10, n_estimators=200; total time=   0.2s\n",
      "[CV] END criterion=gini, max_depth=560, max_features=sqrt, min_samples_leaf=1, min_samples_split=10, n_estimators=200; total time=   0.2s\n",
      "[CV] END criterion=gini, max_depth=560, max_features=sqrt, min_samples_leaf=1, min_samples_split=10, n_estimators=200; total time=   0.2s\n",
      "[CV] END criterion=gini, max_depth=890, max_features=auto, min_samples_leaf=2, min_samples_split=2, n_estimators=800; total time=   0.9s\n",
      "[CV] END criterion=gini, max_depth=890, max_features=auto, min_samples_leaf=2, min_samples_split=2, n_estimators=800; total time=   0.9s\n",
      "[CV] END criterion=gini, max_depth=890, max_features=auto, min_samples_leaf=2, min_samples_split=2, n_estimators=800; total time=   0.9s\n",
      "[CV] END criterion=entropy, max_depth=450, max_features=log2, min_samples_leaf=4, min_samples_split=2, n_estimators=800; total time=   0.9s\n",
      "[CV] END criterion=entropy, max_depth=450, max_features=log2, min_samples_leaf=4, min_samples_split=2, n_estimators=800; total time=   0.9s\n",
      "[CV] END criterion=entropy, max_depth=450, max_features=log2, min_samples_leaf=4, min_samples_split=2, n_estimators=800; total time=   0.9s\n",
      "[CV] END criterion=entropy, max_depth=780, max_features=auto, min_samples_leaf=1, min_samples_split=14, n_estimators=400; total time=   0.5s\n",
      "[CV] END criterion=entropy, max_depth=780, max_features=auto, min_samples_leaf=1, min_samples_split=14, n_estimators=400; total time=   0.5s\n",
      "[CV] END criterion=entropy, max_depth=780, max_features=auto, min_samples_leaf=1, min_samples_split=14, n_estimators=400; total time=   0.5s\n",
      "[CV] END criterion=gini, max_depth=1000, max_features=sqrt, min_samples_leaf=4, min_samples_split=5, n_estimators=1200; total time=   1.4s\n",
      "[CV] END criterion=gini, max_depth=1000, max_features=sqrt, min_samples_leaf=4, min_samples_split=5, n_estimators=1200; total time=   1.3s\n",
      "[CV] END criterion=gini, max_depth=1000, max_features=sqrt, min_samples_leaf=4, min_samples_split=5, n_estimators=1200; total time=   1.4s\n",
      "[CV] END criterion=gini, max_depth=1000, max_features=log2, min_samples_leaf=8, min_samples_split=2, n_estimators=2000; total time=   2.3s\n",
      "[CV] END criterion=gini, max_depth=1000, max_features=log2, min_samples_leaf=8, min_samples_split=2, n_estimators=2000; total time=   2.3s\n",
      "[CV] END criterion=gini, max_depth=1000, max_features=log2, min_samples_leaf=8, min_samples_split=2, n_estimators=2000; total time=   2.3s\n",
      "[CV] END criterion=gini, max_depth=780, max_features=sqrt, min_samples_leaf=6, min_samples_split=14, n_estimators=1600; total time=   1.9s\n",
      "[CV] END criterion=gini, max_depth=780, max_features=sqrt, min_samples_leaf=6, min_samples_split=14, n_estimators=1600; total time=   1.8s\n",
      "[CV] END criterion=gini, max_depth=780, max_features=sqrt, min_samples_leaf=6, min_samples_split=14, n_estimators=1600; total time=   1.8s\n",
      "[CV] END criterion=entropy, max_depth=670, max_features=auto, min_samples_leaf=8, min_samples_split=2, n_estimators=1600; total time=   1.8s\n",
      "[CV] END criterion=entropy, max_depth=670, max_features=auto, min_samples_leaf=8, min_samples_split=2, n_estimators=1600; total time=   1.9s\n",
      "[CV] END criterion=entropy, max_depth=670, max_features=auto, min_samples_leaf=8, min_samples_split=2, n_estimators=1600; total time=   1.8s\n",
      "[CV] END criterion=gini, max_depth=890, max_features=log2, min_samples_leaf=1, min_samples_split=2, n_estimators=1600; total time=   1.8s\n",
      "[CV] END criterion=gini, max_depth=890, max_features=log2, min_samples_leaf=1, min_samples_split=2, n_estimators=1600; total time=   1.9s\n",
      "[CV] END criterion=gini, max_depth=890, max_features=log2, min_samples_leaf=1, min_samples_split=2, n_estimators=1600; total time=   1.9s\n",
      "[CV] END criterion=entropy, max_depth=890, max_features=auto, min_samples_leaf=2, min_samples_split=5, n_estimators=2000; total time=   2.4s\n",
      "[CV] END criterion=entropy, max_depth=890, max_features=auto, min_samples_leaf=2, min_samples_split=5, n_estimators=2000; total time=   2.3s\n",
      "[CV] END criterion=entropy, max_depth=890, max_features=auto, min_samples_leaf=2, min_samples_split=5, n_estimators=2000; total time=   2.3s\n",
      "[CV] END criterion=entropy, max_depth=560, max_features=log2, min_samples_leaf=1, min_samples_split=2, n_estimators=1800; total time=   2.1s\n",
      "[CV] END criterion=entropy, max_depth=560, max_features=log2, min_samples_leaf=1, min_samples_split=2, n_estimators=1800; total time=   2.0s\n",
      "[CV] END criterion=entropy, max_depth=560, max_features=log2, min_samples_leaf=1, min_samples_split=2, n_estimators=1800; total time=   2.1s\n",
      "[CV] END criterion=entropy, max_depth=10, max_features=auto, min_samples_leaf=1, min_samples_split=2, n_estimators=600; total time=   0.7s\n",
      "[CV] END criterion=entropy, max_depth=10, max_features=auto, min_samples_leaf=1, min_samples_split=2, n_estimators=600; total time=   0.7s\n",
      "[CV] END criterion=entropy, max_depth=10, max_features=auto, min_samples_leaf=1, min_samples_split=2, n_estimators=600; total time=   0.7s\n",
      "[CV] END criterion=entropy, max_depth=120, max_features=sqrt, min_samples_leaf=4, min_samples_split=2, n_estimators=2000; total time=   2.3s\n",
      "[CV] END criterion=entropy, max_depth=120, max_features=sqrt, min_samples_leaf=4, min_samples_split=2, n_estimators=2000; total time=   2.3s\n",
      "[CV] END criterion=entropy, max_depth=120, max_features=sqrt, min_samples_leaf=4, min_samples_split=2, n_estimators=2000; total time=   2.3s\n",
      "[CV] END criterion=entropy, max_depth=780, max_features=log2, min_samples_leaf=4, min_samples_split=14, n_estimators=800; total time=   0.9s\n",
      "[CV] END criterion=entropy, max_depth=780, max_features=log2, min_samples_leaf=4, min_samples_split=14, n_estimators=800; total time=   0.9s\n",
      "[CV] END criterion=entropy, max_depth=780, max_features=log2, min_samples_leaf=4, min_samples_split=14, n_estimators=800; total time=   0.9s\n",
      "[CV] END criterion=entropy, max_depth=450, max_features=auto, min_samples_leaf=6, min_samples_split=2, n_estimators=1400; total time=   1.6s\n",
      "[CV] END criterion=entropy, max_depth=450, max_features=auto, min_samples_leaf=6, min_samples_split=2, n_estimators=1400; total time=   1.7s\n",
      "[CV] END criterion=entropy, max_depth=450, max_features=auto, min_samples_leaf=6, min_samples_split=2, n_estimators=1400; total time=   1.7s\n",
      "[CV] END criterion=gini, max_depth=670, max_features=auto, min_samples_leaf=1, min_samples_split=5, n_estimators=2000; total time=   2.4s\n",
      "[CV] END criterion=gini, max_depth=670, max_features=auto, min_samples_leaf=1, min_samples_split=5, n_estimators=2000; total time=   2.4s\n",
      "[CV] END criterion=gini, max_depth=670, max_features=auto, min_samples_leaf=1, min_samples_split=5, n_estimators=2000; total time=   2.3s\n",
      "[CV] END criterion=gini, max_depth=780, max_features=auto, min_samples_leaf=4, min_samples_split=10, n_estimators=800; total time=   0.9s\n",
      "[CV] END criterion=gini, max_depth=780, max_features=auto, min_samples_leaf=4, min_samples_split=10, n_estimators=800; total time=   0.9s\n",
      "[CV] END criterion=gini, max_depth=780, max_features=auto, min_samples_leaf=4, min_samples_split=10, n_estimators=800; total time=   0.9s\n",
      "[CV] END criterion=entropy, max_depth=560, max_features=sqrt, min_samples_leaf=2, min_samples_split=5, n_estimators=800; total time=   0.9s\n",
      "[CV] END criterion=entropy, max_depth=560, max_features=sqrt, min_samples_leaf=2, min_samples_split=5, n_estimators=800; total time=   0.9s\n",
      "[CV] END criterion=entropy, max_depth=560, max_features=sqrt, min_samples_leaf=2, min_samples_split=5, n_estimators=800; total time=   0.9s\n",
      "[CV] END criterion=gini, max_depth=230, max_features=sqrt, min_samples_leaf=1, min_samples_split=2, n_estimators=1400; total time=   1.6s\n",
      "[CV] END criterion=gini, max_depth=230, max_features=sqrt, min_samples_leaf=1, min_samples_split=2, n_estimators=1400; total time=   1.6s\n",
      "[CV] END criterion=gini, max_depth=230, max_features=sqrt, min_samples_leaf=1, min_samples_split=2, n_estimators=1400; total time=   1.6s\n",
      "[CV] END criterion=entropy, max_depth=670, max_features=sqrt, min_samples_leaf=8, min_samples_split=14, n_estimators=1800; total time=   2.1s\n",
      "[CV] END criterion=entropy, max_depth=670, max_features=sqrt, min_samples_leaf=8, min_samples_split=14, n_estimators=1800; total time=   2.1s\n",
      "[CV] END criterion=entropy, max_depth=670, max_features=sqrt, min_samples_leaf=8, min_samples_split=14, n_estimators=1800; total time=   2.1s\n",
      "[CV] END criterion=entropy, max_depth=450, max_features=log2, min_samples_leaf=8, min_samples_split=14, n_estimators=600; total time=   0.7s\n",
      "[CV] END criterion=entropy, max_depth=450, max_features=log2, min_samples_leaf=8, min_samples_split=14, n_estimators=600; total time=   0.7s\n",
      "[CV] END criterion=entropy, max_depth=450, max_features=log2, min_samples_leaf=8, min_samples_split=14, n_estimators=600; total time=   0.8s\n",
      "[CV] END criterion=gini, max_depth=1000, max_features=auto, min_samples_leaf=8, min_samples_split=2, n_estimators=1600; total time=   1.8s\n",
      "[CV] END criterion=gini, max_depth=1000, max_features=auto, min_samples_leaf=8, min_samples_split=2, n_estimators=1600; total time=   1.8s\n",
      "[CV] END criterion=gini, max_depth=1000, max_features=auto, min_samples_leaf=8, min_samples_split=2, n_estimators=1600; total time=   1.9s\n",
      "[CV] END criterion=entropy, max_depth=670, max_features=sqrt, min_samples_leaf=6, min_samples_split=10, n_estimators=2000; total time=   2.2s\n",
      "[CV] END criterion=entropy, max_depth=670, max_features=sqrt, min_samples_leaf=6, min_samples_split=10, n_estimators=2000; total time=   2.3s\n",
      "[CV] END criterion=entropy, max_depth=670, max_features=sqrt, min_samples_leaf=6, min_samples_split=10, n_estimators=2000; total time=   2.3s\n",
      "[CV] END criterion=entropy, max_depth=120, max_features=sqrt, min_samples_leaf=1, min_samples_split=2, n_estimators=1400; total time=   1.7s\n",
      "[CV] END criterion=entropy, max_depth=120, max_features=sqrt, min_samples_leaf=1, min_samples_split=2, n_estimators=1400; total time=   1.6s\n",
      "[CV] END criterion=entropy, max_depth=120, max_features=sqrt, min_samples_leaf=1, min_samples_split=2, n_estimators=1400; total time=   1.6s\n",
      "[CV] END criterion=gini, max_depth=780, max_features=sqrt, min_samples_leaf=1, min_samples_split=5, n_estimators=600; total time=   0.7s\n",
      "[CV] END criterion=gini, max_depth=780, max_features=sqrt, min_samples_leaf=1, min_samples_split=5, n_estimators=600; total time=   0.7s\n",
      "[CV] END criterion=gini, max_depth=780, max_features=sqrt, min_samples_leaf=1, min_samples_split=5, n_estimators=600; total time=   0.7s\n",
      "[CV] END criterion=gini, max_depth=450, max_features=auto, min_samples_leaf=2, min_samples_split=10, n_estimators=1400; total time=   1.6s\n",
      "[CV] END criterion=gini, max_depth=450, max_features=auto, min_samples_leaf=2, min_samples_split=10, n_estimators=1400; total time=   1.5s\n",
      "[CV] END criterion=gini, max_depth=450, max_features=auto, min_samples_leaf=2, min_samples_split=10, n_estimators=1400; total time=   1.6s\n",
      "[CV] END criterion=entropy, max_depth=340, max_features=log2, min_samples_leaf=2, min_samples_split=2, n_estimators=200; total time=   0.2s\n",
      "[CV] END criterion=entropy, max_depth=340, max_features=log2, min_samples_leaf=2, min_samples_split=2, n_estimators=200; total time=   0.2s\n",
      "[CV] END criterion=entropy, max_depth=340, max_features=log2, min_samples_leaf=2, min_samples_split=2, n_estimators=200; total time=   0.2s\n",
      "[CV] END criterion=gini, max_depth=120, max_features=log2, min_samples_leaf=4, min_samples_split=5, n_estimators=1400; total time=   1.7s\n",
      "[CV] END criterion=gini, max_depth=120, max_features=log2, min_samples_leaf=4, min_samples_split=5, n_estimators=1400; total time=   1.6s\n",
      "[CV] END criterion=gini, max_depth=120, max_features=log2, min_samples_leaf=4, min_samples_split=5, n_estimators=1400; total time=   1.6s\n",
      "[CV] END criterion=gini, max_depth=120, max_features=log2, min_samples_leaf=2, min_samples_split=14, n_estimators=1000; total time=   1.1s\n",
      "[CV] END criterion=gini, max_depth=120, max_features=log2, min_samples_leaf=2, min_samples_split=14, n_estimators=1000; total time=   1.2s\n",
      "[CV] END criterion=gini, max_depth=120, max_features=log2, min_samples_leaf=2, min_samples_split=14, n_estimators=1000; total time=   1.2s\n",
      "[CV] END criterion=entropy, max_depth=780, max_features=sqrt, min_samples_leaf=6, min_samples_split=5, n_estimators=800; total time=   0.9s\n",
      "[CV] END criterion=entropy, max_depth=780, max_features=sqrt, min_samples_leaf=6, min_samples_split=5, n_estimators=800; total time=   0.9s\n",
      "[CV] END criterion=entropy, max_depth=780, max_features=sqrt, min_samples_leaf=6, min_samples_split=5, n_estimators=800; total time=   0.9s\n",
      "[CV] END criterion=entropy, max_depth=230, max_features=log2, min_samples_leaf=6, min_samples_split=5, n_estimators=1800; total time=   2.1s\n",
      "[CV] END criterion=entropy, max_depth=230, max_features=log2, min_samples_leaf=6, min_samples_split=5, n_estimators=1800; total time=   2.1s\n",
      "[CV] END criterion=entropy, max_depth=230, max_features=log2, min_samples_leaf=6, min_samples_split=5, n_estimators=1800; total time=   2.0s\n",
      "[CV] END criterion=entropy, max_depth=780, max_features=auto, min_samples_leaf=8, min_samples_split=2, n_estimators=2000; total time=   2.3s\n",
      "[CV] END criterion=entropy, max_depth=780, max_features=auto, min_samples_leaf=8, min_samples_split=2, n_estimators=2000; total time=   2.3s\n",
      "[CV] END criterion=entropy, max_depth=780, max_features=auto, min_samples_leaf=8, min_samples_split=2, n_estimators=2000; total time=   2.4s\n",
      "[CV] END criterion=gini, max_depth=670, max_features=auto, min_samples_leaf=6, min_samples_split=10, n_estimators=400; total time=   0.4s\n",
      "[CV] END criterion=gini, max_depth=670, max_features=auto, min_samples_leaf=6, min_samples_split=10, n_estimators=400; total time=   0.5s\n",
      "[CV] END criterion=gini, max_depth=670, max_features=auto, min_samples_leaf=6, min_samples_split=10, n_estimators=400; total time=   0.5s\n",
      "[CV] END criterion=gini, max_depth=450, max_features=log2, min_samples_leaf=1, min_samples_split=5, n_estimators=200; total time=   0.2s\n",
      "[CV] END criterion=gini, max_depth=450, max_features=log2, min_samples_leaf=1, min_samples_split=5, n_estimators=200; total time=   0.2s\n",
      "[CV] END criterion=gini, max_depth=450, max_features=log2, min_samples_leaf=1, min_samples_split=5, n_estimators=200; total time=   0.2s\n",
      "[CV] END criterion=gini, max_depth=340, max_features=log2, min_samples_leaf=1, min_samples_split=2, n_estimators=2000; total time=   2.4s\n",
      "[CV] END criterion=gini, max_depth=340, max_features=log2, min_samples_leaf=1, min_samples_split=2, n_estimators=2000; total time=   2.3s\n",
      "[CV] END criterion=gini, max_depth=340, max_features=log2, min_samples_leaf=1, min_samples_split=2, n_estimators=2000; total time=   2.3s\n",
      "[CV] END criterion=gini, max_depth=230, max_features=auto, min_samples_leaf=1, min_samples_split=10, n_estimators=400; total time=   0.5s\n",
      "[CV] END criterion=gini, max_depth=230, max_features=auto, min_samples_leaf=1, min_samples_split=10, n_estimators=400; total time=   0.5s\n",
      "[CV] END criterion=gini, max_depth=230, max_features=auto, min_samples_leaf=1, min_samples_split=10, n_estimators=400; total time=   0.5s\n",
      "[CV] END criterion=gini, max_depth=10, max_features=sqrt, min_samples_leaf=1, min_samples_split=5, n_estimators=600; total time=   0.7s\n",
      "[CV] END criterion=gini, max_depth=10, max_features=sqrt, min_samples_leaf=1, min_samples_split=5, n_estimators=600; total time=   0.7s\n",
      "[CV] END criterion=gini, max_depth=10, max_features=sqrt, min_samples_leaf=1, min_samples_split=5, n_estimators=600; total time=   0.7s\n",
      "[CV] END criterion=entropy, max_depth=10, max_features=log2, min_samples_leaf=4, min_samples_split=2, n_estimators=1800; total time=   2.1s\n",
      "[CV] END criterion=entropy, max_depth=10, max_features=log2, min_samples_leaf=4, min_samples_split=2, n_estimators=1800; total time=   2.0s\n",
      "[CV] END criterion=entropy, max_depth=10, max_features=log2, min_samples_leaf=4, min_samples_split=2, n_estimators=1800; total time=   2.0s\n",
      "[CV] END criterion=entropy, max_depth=560, max_features=log2, min_samples_leaf=1, min_samples_split=5, n_estimators=2000; total time=   2.3s\n",
      "[CV] END criterion=entropy, max_depth=560, max_features=log2, min_samples_leaf=1, min_samples_split=5, n_estimators=2000; total time=   2.3s\n",
      "[CV] END criterion=entropy, max_depth=560, max_features=log2, min_samples_leaf=1, min_samples_split=5, n_estimators=2000; total time=   2.2s\n",
      "[CV] END criterion=gini, max_depth=890, max_features=auto, min_samples_leaf=6, min_samples_split=5, n_estimators=800; total time=   0.9s\n",
      "[CV] END criterion=gini, max_depth=890, max_features=auto, min_samples_leaf=6, min_samples_split=5, n_estimators=800; total time=   1.0s\n",
      "[CV] END criterion=gini, max_depth=890, max_features=auto, min_samples_leaf=6, min_samples_split=5, n_estimators=800; total time=   0.9s\n",
      "[CV] END criterion=entropy, max_depth=670, max_features=log2, min_samples_leaf=4, min_samples_split=10, n_estimators=2000; total time=   2.3s\n",
      "[CV] END criterion=entropy, max_depth=670, max_features=log2, min_samples_leaf=4, min_samples_split=10, n_estimators=2000; total time=   2.3s\n",
      "[CV] END criterion=entropy, max_depth=670, max_features=log2, min_samples_leaf=4, min_samples_split=10, n_estimators=2000; total time=   2.3s\n",
      "[CV] END criterion=entropy, max_depth=890, max_features=log2, min_samples_leaf=4, min_samples_split=10, n_estimators=1200; total time=   1.4s\n",
      "[CV] END criterion=entropy, max_depth=890, max_features=log2, min_samples_leaf=4, min_samples_split=10, n_estimators=1200; total time=   1.4s\n",
      "[CV] END criterion=entropy, max_depth=890, max_features=log2, min_samples_leaf=4, min_samples_split=10, n_estimators=1200; total time=   1.4s\n",
      "[CV] END criterion=gini, max_depth=780, max_features=log2, min_samples_leaf=1, min_samples_split=2, n_estimators=600; total time=   0.7s\n",
      "[CV] END criterion=gini, max_depth=780, max_features=log2, min_samples_leaf=1, min_samples_split=2, n_estimators=600; total time=   0.7s\n",
      "[CV] END criterion=gini, max_depth=780, max_features=log2, min_samples_leaf=1, min_samples_split=2, n_estimators=600; total time=   0.7s\n",
      "[CV] END criterion=entropy, max_depth=780, max_features=auto, min_samples_leaf=1, min_samples_split=10, n_estimators=1600; total time=   1.8s\n",
      "[CV] END criterion=entropy, max_depth=780, max_features=auto, min_samples_leaf=1, min_samples_split=10, n_estimators=1600; total time=   1.9s\n",
      "[CV] END criterion=entropy, max_depth=780, max_features=auto, min_samples_leaf=1, min_samples_split=10, n_estimators=1600; total time=   1.9s\n",
      "[CV] END criterion=entropy, max_depth=450, max_features=sqrt, min_samples_leaf=1, min_samples_split=14, n_estimators=200; total time=   0.2s\n",
      "[CV] END criterion=entropy, max_depth=450, max_features=sqrt, min_samples_leaf=1, min_samples_split=14, n_estimators=200; total time=   0.2s\n",
      "[CV] END criterion=entropy, max_depth=450, max_features=sqrt, min_samples_leaf=1, min_samples_split=14, n_estimators=200; total time=   0.2s\n",
      "[CV] END criterion=entropy, max_depth=230, max_features=log2, min_samples_leaf=2, min_samples_split=10, n_estimators=1600; total time=   1.8s\n",
      "[CV] END criterion=entropy, max_depth=230, max_features=log2, min_samples_leaf=2, min_samples_split=10, n_estimators=1600; total time=   1.9s\n",
      "[CV] END criterion=entropy, max_depth=230, max_features=log2, min_samples_leaf=2, min_samples_split=10, n_estimators=1600; total time=   1.9s\n",
      "[CV] END criterion=gini, max_depth=560, max_features=log2, min_samples_leaf=1, min_samples_split=10, n_estimators=1800; total time=   2.2s\n",
      "[CV] END criterion=gini, max_depth=560, max_features=log2, min_samples_leaf=1, min_samples_split=10, n_estimators=1800; total time=   2.1s\n",
      "[CV] END criterion=gini, max_depth=560, max_features=log2, min_samples_leaf=1, min_samples_split=10, n_estimators=1800; total time=   2.1s\n",
      "[CV] END criterion=gini, max_depth=450, max_features=auto, min_samples_leaf=8, min_samples_split=10, n_estimators=1400; total time=   1.6s\n",
      "[CV] END criterion=gini, max_depth=450, max_features=auto, min_samples_leaf=8, min_samples_split=10, n_estimators=1400; total time=   1.5s\n",
      "[CV] END criterion=gini, max_depth=450, max_features=auto, min_samples_leaf=8, min_samples_split=10, n_estimators=1400; total time=   1.6s\n",
      "[CV] END criterion=gini, max_depth=1000, max_features=sqrt, min_samples_leaf=8, min_samples_split=2, n_estimators=1400; total time=   1.6s\n",
      "[CV] END criterion=gini, max_depth=1000, max_features=sqrt, min_samples_leaf=8, min_samples_split=2, n_estimators=1400; total time=   1.7s\n",
      "[CV] END criterion=gini, max_depth=1000, max_features=sqrt, min_samples_leaf=8, min_samples_split=2, n_estimators=1400; total time=   1.7s\n",
      "[CV] END criterion=entropy, max_depth=780, max_features=sqrt, min_samples_leaf=8, min_samples_split=14, n_estimators=400; total time=   0.5s\n",
      "[CV] END criterion=entropy, max_depth=780, max_features=sqrt, min_samples_leaf=8, min_samples_split=14, n_estimators=400; total time=   0.5s\n",
      "[CV] END criterion=entropy, max_depth=780, max_features=sqrt, min_samples_leaf=8, min_samples_split=14, n_estimators=400; total time=   0.5s\n",
      "[CV] END criterion=gini, max_depth=450, max_features=log2, min_samples_leaf=1, min_samples_split=14, n_estimators=1200; total time=   1.4s\n",
      "[CV] END criterion=gini, max_depth=450, max_features=log2, min_samples_leaf=1, min_samples_split=14, n_estimators=1200; total time=   1.4s\n",
      "[CV] END criterion=gini, max_depth=450, max_features=log2, min_samples_leaf=1, min_samples_split=14, n_estimators=1200; total time=   1.4s\n",
      "[CV] END criterion=entropy, max_depth=450, max_features=log2, min_samples_leaf=6, min_samples_split=2, n_estimators=400; total time=   0.5s\n",
      "[CV] END criterion=entropy, max_depth=450, max_features=log2, min_samples_leaf=6, min_samples_split=2, n_estimators=400; total time=   0.5s\n",
      "[CV] END criterion=entropy, max_depth=450, max_features=log2, min_samples_leaf=6, min_samples_split=2, n_estimators=400; total time=   0.5s\n",
      "[CV] END criterion=gini, max_depth=1000, max_features=auto, min_samples_leaf=2, min_samples_split=2, n_estimators=1000; total time=   1.2s\n",
      "[CV] END criterion=gini, max_depth=1000, max_features=auto, min_samples_leaf=2, min_samples_split=2, n_estimators=1000; total time=   1.2s\n",
      "[CV] END criterion=gini, max_depth=1000, max_features=auto, min_samples_leaf=2, min_samples_split=2, n_estimators=1000; total time=   1.2s\n",
      "[CV] END criterion=gini, max_depth=780, max_features=auto, min_samples_leaf=2, min_samples_split=14, n_estimators=1400; total time=   1.7s\n",
      "[CV] END criterion=gini, max_depth=780, max_features=auto, min_samples_leaf=2, min_samples_split=14, n_estimators=1400; total time=   1.6s\n",
      "[CV] END criterion=gini, max_depth=780, max_features=auto, min_samples_leaf=2, min_samples_split=14, n_estimators=1400; total time=   1.6s\n",
      "[CV] END criterion=entropy, max_depth=230, max_features=log2, min_samples_leaf=8, min_samples_split=14, n_estimators=1600; total time=   1.8s\n",
      "[CV] END criterion=entropy, max_depth=230, max_features=log2, min_samples_leaf=8, min_samples_split=14, n_estimators=1600; total time=   1.9s\n",
      "[CV] END criterion=entropy, max_depth=230, max_features=log2, min_samples_leaf=8, min_samples_split=14, n_estimators=1600; total time=   1.9s\n",
      "[CV] END criterion=entropy, max_depth=120, max_features=sqrt, min_samples_leaf=1, min_samples_split=14, n_estimators=2000; total time=   2.5s\n",
      "[CV] END criterion=entropy, max_depth=120, max_features=sqrt, min_samples_leaf=1, min_samples_split=14, n_estimators=2000; total time=   2.4s\n",
      "[CV] END criterion=entropy, max_depth=120, max_features=sqrt, min_samples_leaf=1, min_samples_split=14, n_estimators=2000; total time=   2.3s\n",
      "[CV] END criterion=gini, max_depth=10, max_features=auto, min_samples_leaf=8, min_samples_split=10, n_estimators=600; total time=   0.7s\n",
      "[CV] END criterion=gini, max_depth=10, max_features=auto, min_samples_leaf=8, min_samples_split=10, n_estimators=600; total time=   0.7s\n",
      "[CV] END criterion=gini, max_depth=10, max_features=auto, min_samples_leaf=8, min_samples_split=10, n_estimators=600; total time=   0.7s\n",
      "[CV] END criterion=entropy, max_depth=560, max_features=sqrt, min_samples_leaf=4, min_samples_split=2, n_estimators=1400; total time=   1.6s\n",
      "[CV] END criterion=entropy, max_depth=560, max_features=sqrt, min_samples_leaf=4, min_samples_split=2, n_estimators=1400; total time=   1.6s\n",
      "[CV] END criterion=entropy, max_depth=560, max_features=sqrt, min_samples_leaf=4, min_samples_split=2, n_estimators=1400; total time=   1.6s\n",
      "[CV] END criterion=entropy, max_depth=890, max_features=log2, min_samples_leaf=4, min_samples_split=5, n_estimators=200; total time=   0.2s\n",
      "[CV] END criterion=entropy, max_depth=890, max_features=log2, min_samples_leaf=4, min_samples_split=5, n_estimators=200; total time=   0.2s\n",
      "[CV] END criterion=entropy, max_depth=890, max_features=log2, min_samples_leaf=4, min_samples_split=5, n_estimators=200; total time=   0.2s\n",
      "[CV] END criterion=gini, max_depth=890, max_features=sqrt, min_samples_leaf=4, min_samples_split=5, n_estimators=600; total time=   0.7s\n",
      "[CV] END criterion=gini, max_depth=890, max_features=sqrt, min_samples_leaf=4, min_samples_split=5, n_estimators=600; total time=   0.7s\n",
      "[CV] END criterion=gini, max_depth=890, max_features=sqrt, min_samples_leaf=4, min_samples_split=5, n_estimators=600; total time=   0.8s\n",
      "[CV] END criterion=gini, max_depth=10, max_features=sqrt, min_samples_leaf=1, min_samples_split=14, n_estimators=2000; total time=   2.3s\n",
      "[CV] END criterion=gini, max_depth=10, max_features=sqrt, min_samples_leaf=1, min_samples_split=14, n_estimators=2000; total time=   2.2s\n",
      "[CV] END criterion=gini, max_depth=10, max_features=sqrt, min_samples_leaf=1, min_samples_split=14, n_estimators=2000; total time=   2.3s\n",
      "[CV] END criterion=gini, max_depth=340, max_features=auto, min_samples_leaf=4, min_samples_split=14, n_estimators=1600; total time=   1.8s\n",
      "[CV] END criterion=gini, max_depth=340, max_features=auto, min_samples_leaf=4, min_samples_split=14, n_estimators=1600; total time=   1.9s\n",
      "[CV] END criterion=gini, max_depth=340, max_features=auto, min_samples_leaf=4, min_samples_split=14, n_estimators=1600; total time=   1.9s\n",
      "[CV] END criterion=entropy, max_depth=670, max_features=auto, min_samples_leaf=4, min_samples_split=10, n_estimators=800; total time=   0.9s\n",
      "[CV] END criterion=entropy, max_depth=670, max_features=auto, min_samples_leaf=4, min_samples_split=10, n_estimators=800; total time=   0.9s\n",
      "[CV] END criterion=entropy, max_depth=670, max_features=auto, min_samples_leaf=4, min_samples_split=10, n_estimators=800; total time=   0.9s\n",
      "[CV] END criterion=gini, max_depth=340, max_features=auto, min_samples_leaf=8, min_samples_split=2, n_estimators=2000; total time=   2.3s\n",
      "[CV] END criterion=gini, max_depth=340, max_features=auto, min_samples_leaf=8, min_samples_split=2, n_estimators=2000; total time=   2.3s\n",
      "[CV] END criterion=gini, max_depth=340, max_features=auto, min_samples_leaf=8, min_samples_split=2, n_estimators=2000; total time=   2.5s\n",
      "[CV] END criterion=gini, max_depth=230, max_features=sqrt, min_samples_leaf=1, min_samples_split=10, n_estimators=1000; total time=   1.2s\n",
      "[CV] END criterion=gini, max_depth=230, max_features=sqrt, min_samples_leaf=1, min_samples_split=10, n_estimators=1000; total time=   1.2s\n",
      "[CV] END criterion=gini, max_depth=230, max_features=sqrt, min_samples_leaf=1, min_samples_split=10, n_estimators=1000; total time=   1.2s\n",
      "[CV] END criterion=gini, max_depth=890, max_features=sqrt, min_samples_leaf=1, min_samples_split=2, n_estimators=600; total time=   0.7s\n",
      "[CV] END criterion=gini, max_depth=890, max_features=sqrt, min_samples_leaf=1, min_samples_split=2, n_estimators=600; total time=   0.8s\n",
      "[CV] END criterion=gini, max_depth=890, max_features=sqrt, min_samples_leaf=1, min_samples_split=2, n_estimators=600; total time=   0.7s\n",
      "[CV] END criterion=gini, max_depth=670, max_features=sqrt, min_samples_leaf=4, min_samples_split=14, n_estimators=400; total time=   0.5s\n",
      "[CV] END criterion=gini, max_depth=670, max_features=sqrt, min_samples_leaf=4, min_samples_split=14, n_estimators=400; total time=   0.5s\n",
      "[CV] END criterion=gini, max_depth=670, max_features=sqrt, min_samples_leaf=4, min_samples_split=14, n_estimators=400; total time=   0.5s\n",
      "[CV] END criterion=gini, max_depth=450, max_features=auto, min_samples_leaf=1, min_samples_split=5, n_estimators=1800; total time=   2.1s\n",
      "[CV] END criterion=gini, max_depth=450, max_features=auto, min_samples_leaf=1, min_samples_split=5, n_estimators=1800; total time=   2.1s\n",
      "[CV] END criterion=gini, max_depth=450, max_features=auto, min_samples_leaf=1, min_samples_split=5, n_estimators=1800; total time=   2.0s\n",
      "[CV] END criterion=gini, max_depth=560, max_features=auto, min_samples_leaf=4, min_samples_split=10, n_estimators=1600; total time=   1.8s\n",
      "[CV] END criterion=gini, max_depth=560, max_features=auto, min_samples_leaf=4, min_samples_split=10, n_estimators=1600; total time=   2.0s\n",
      "[CV] END criterion=gini, max_depth=560, max_features=auto, min_samples_leaf=4, min_samples_split=10, n_estimators=1600; total time=   2.0s\n",
      "[CV] END criterion=gini, max_depth=670, max_features=log2, min_samples_leaf=1, min_samples_split=14, n_estimators=1600; total time=   2.0s\n",
      "[CV] END criterion=gini, max_depth=670, max_features=log2, min_samples_leaf=1, min_samples_split=14, n_estimators=1600; total time=   2.1s\n",
      "[CV] END criterion=gini, max_depth=670, max_features=log2, min_samples_leaf=1, min_samples_split=14, n_estimators=1600; total time=   1.9s\n",
      "[CV] END criterion=entropy, max_depth=890, max_features=auto, min_samples_leaf=4, min_samples_split=14, n_estimators=1000; total time=   1.2s\n",
      "[CV] END criterion=entropy, max_depth=890, max_features=auto, min_samples_leaf=4, min_samples_split=14, n_estimators=1000; total time=   1.2s\n",
      "[CV] END criterion=entropy, max_depth=890, max_features=auto, min_samples_leaf=4, min_samples_split=14, n_estimators=1000; total time=   1.2s\n"
     ]
    },
    {
     "data": {
      "text/plain": [
       "RandomizedSearchCV(cv=3, estimator=RandomForestClassifier(), n_iter=100,\n",
       "                   n_jobs=-1,\n",
       "                   param_distributions={'criterion': ['entropy', 'gini'],\n",
       "                                        'max_depth': [10, 120, 230, 340, 450,\n",
       "                                                      560, 670, 780, 890,\n",
       "                                                      1000],\n",
       "                                        'max_features': ['auto', 'sqrt',\n",
       "                                                         'log2'],\n",
       "                                        'min_samples_leaf': [1, 2, 4, 6, 8],\n",
       "                                        'min_samples_split': [2, 5, 10, 14],\n",
       "                                        'n_estimators': [200, 400, 600, 800,\n",
       "                                                         1000, 1200, 1400, 1600,\n",
       "                                                         1800, 2000]},\n",
       "                   random_state=100, verbose=2)"
      ]
     },
     "execution_count": 84,
     "metadata": {},
     "output_type": "execute_result"
    }
   ],
   "source": [
    "from sklearn.ensemble import RandomForestClassifier\n",
    "\n",
    "rf = RandomForestClassifier()\n",
    "rf_randomcv = RandomizedSearchCV(\n",
    "    estimator=rf,\n",
    "    param_distributions=random_grid,\n",
    "    n_iter=100,\n",
    "    cv=3,\n",
    "    verbose=2,\n",
    "    random_state=100,\n",
    "    n_jobs=-1,\n",
    ")\n",
    "\n",
    "rf_randomcv.fit(X_train, y_train)  # random fit for model"
   ]
  },
  {
   "cell_type": "code",
   "execution_count": 86,
   "id": "1e9e0cdc",
   "metadata": {
    "ExecuteTime": {
     "end_time": "2021-12-15T23:08:23.768120Z",
     "start_time": "2021-12-15T23:08:23.751635Z"
    }
   },
   "outputs": [
    {
     "name": "stdout",
     "output_type": "stream",
     "text": [
      "\n",
      " All results:\n",
      "{'mean_fit_time': array([0.22783383, 1.49044204, 2.1106801 , 2.11123681, 0.21840135,\n",
      "       0.63065473, 2.19258261, 1.5211885 , 1.4514571 , 0.63838291,\n",
      "       0.6239353 , 1.47473447, 0.42421929, 0.64187113, 0.43831317,\n",
      "       0.21695749, 1.94063409, 0.63589311, 0.85466123, 2.1301256 ,\n",
      "       0.21756728, 1.08341281, 1.7038238 , 0.21489596, 1.25049551,\n",
      "       0.85553424, 0.85468896, 0.43615556, 0.86339498, 0.21765542,\n",
      "       0.85661697, 0.85290146, 0.43513282, 1.24289815, 2.11531266,\n",
      "       1.71394038, 1.69160326, 1.70335722, 2.11779579, 1.89693014,\n",
      "       0.63215001, 2.15150396, 0.84957735, 1.54062168, 2.16626891,\n",
      "       0.85663247, 0.83839329, 1.47748295, 1.91558305, 0.64254642,\n",
      "       1.69172343, 2.11128155, 1.51477567, 0.62582954, 1.45285384,\n",
      "       0.2148486 , 1.50354664, 1.06957515, 0.83805728, 1.90167061,\n",
      "       2.11987789, 0.43657565, 0.21303789, 2.1292491 , 0.42360934,\n",
      "       0.61899694, 1.87658803, 2.07828434, 0.82165257, 2.10034815,\n",
      "       1.26699591, 0.64380232, 1.700459  , 0.22183156, 1.71269902,\n",
      "       1.93533333, 1.45675778, 1.50839146, 0.44053316, 1.2989916 ,\n",
      "       0.43500074, 1.07610949, 1.53179852, 1.71807146, 2.18447026,\n",
      "       0.62170323, 1.49126474, 0.21361192, 0.635022  , 2.08734043,\n",
      "       1.72033072, 0.84511892, 2.16901271, 1.09087292, 0.62816453,\n",
      "       0.42211858, 1.90006804, 1.80131976, 1.85206834, 1.10428039]), 'std_fit_time': array([0.0235744 , 0.06322251, 0.06026416, 0.00827552, 0.00294353,\n",
      "       0.00781162, 0.03398646, 0.01347602, 0.01781385, 0.00566802,\n",
      "       0.00296579, 0.01028951, 0.00786388, 0.00614355, 0.00318863,\n",
      "       0.00339754, 0.0073222 , 0.00437238, 0.01250128, 0.02752046,\n",
      "       0.00156715, 0.00742324, 0.02513351, 0.00726459, 0.01531534,\n",
      "       0.00398889, 0.01194857, 0.00352622, 0.01363683, 0.00511111,\n",
      "       0.01061688, 0.00891496, 0.00683506, 0.00928574, 0.03949344,\n",
      "       0.02296888, 0.01260623, 0.01334435, 0.02813627, 0.01403769,\n",
      "       0.01099122, 0.01511709, 0.01953938, 0.05229932, 0.03228058,\n",
      "       0.0128394 , 0.00717724, 0.02015174, 0.01126603, 0.00517458,\n",
      "       0.03862263, 0.03339986, 0.0157187 , 0.00543853, 0.03460547,\n",
      "       0.00783144, 0.02663713, 0.01433475, 0.01794217, 0.02877489,\n",
      "       0.02033829, 0.02887251, 0.00807735, 0.03969925, 0.00736309,\n",
      "       0.00521543, 0.01631883, 0.02269372, 0.00819984, 0.02748519,\n",
      "       0.01760776, 0.01475292, 0.02329093, 0.00129695, 0.03490823,\n",
      "       0.0360681 , 0.04324337, 0.03900239, 0.00778824, 0.01759216,\n",
      "       0.00529277, 0.02254241, 0.03918348, 0.05421541, 0.06612032,\n",
      "       0.00931901, 0.01324882, 0.0036925 , 0.01892671, 0.05547088,\n",
      "       0.01912601, 0.02009085, 0.0774444 , 0.02039338, 0.0166268 ,\n",
      "       0.00745394, 0.02727934, 0.07701398, 0.10416169, 0.02844377]), 'mean_score_time': array([0.01884103, 0.1266791 , 0.18978755, 0.18397069, 0.01907309,\n",
      "       0.05443025, 0.1839273 , 0.13004168, 0.12855681, 0.0568192 ,\n",
      "       0.0554239 , 0.16063333, 0.03633769, 0.05467558, 0.03779976,\n",
      "       0.01883777, 0.16628671, 0.05660375, 0.07391707, 0.18641893,\n",
      "       0.01839407, 0.093606  , 0.1455183 , 0.01870227, 0.11071324,\n",
      "       0.0753986 , 0.07430673, 0.03712241, 0.07433542, 0.01925993,\n",
      "       0.0741837 , 0.07452305, 0.03762794, 0.109917  , 0.21785967,\n",
      "       0.14510274, 0.14817437, 0.14739211, 0.21420924, 0.16224305,\n",
      "       0.05587331, 0.18178368, 0.07308555, 0.12894845, 0.18600663,\n",
      "       0.07508723, 0.07233596, 0.12652556, 0.1688381 , 0.08881831,\n",
      "       0.1457119 , 0.18030516, 0.12904946, 0.0528206 , 0.12729963,\n",
      "       0.018694  , 0.12925593, 0.09240683, 0.07363192, 0.1634376 ,\n",
      "       0.20854465, 0.03677845, 0.01884143, 0.18669152, 0.03743561,\n",
      "       0.05433035, 0.16366903, 0.18007223, 0.10318987, 0.18156743,\n",
      "       0.10852655, 0.05650791, 0.15088256, 0.0188911 , 0.14889034,\n",
      "       0.19207271, 0.1262695 , 0.13202826, 0.03794018, 0.10952409,\n",
      "       0.03764709, 0.09427643, 0.12790831, 0.14723945, 0.19491982,\n",
      "       0.05465913, 0.12917105, 0.01889364, 0.08904489, 0.18102423,\n",
      "       0.14972917, 0.07380589, 0.18027838, 0.0999949 , 0.08909734,\n",
      "       0.03787883, 0.16149648, 0.14696113, 0.14791846, 0.09320458]), 'std_score_time': array([3.05311910e-04, 2.81340147e-03, 8.92234376e-03, 7.79275809e-04,\n",
      "       1.44581599e-04, 1.43013498e-03, 2.69879105e-03, 4.89724736e-04,\n",
      "       8.46550400e-04, 9.05441904e-04, 6.78645585e-04, 4.45007278e-02,\n",
      "       1.19602905e-03, 1.02074968e-03, 3.64192182e-04, 4.78116003e-04,\n",
      "       9.87349418e-04, 2.55873196e-03, 6.32075827e-04, 4.03448582e-03,\n",
      "       4.14469258e-04, 4.92971680e-04, 1.21569636e-03, 5.17739472e-04,\n",
      "       1.15891415e-03, 1.33042917e-03, 9.51955200e-04, 6.43914553e-04,\n",
      "       4.61563522e-04, 1.03103471e-04, 8.15299886e-04, 4.05100708e-04,\n",
      "       5.93880948e-04, 1.65078059e-03, 4.73669883e-02, 5.79246398e-03,\n",
      "       1.83092370e-03, 2.45340042e-04, 4.44472872e-02, 1.69649121e-03,\n",
      "       1.25535751e-03, 1.98621235e-03, 8.36195740e-05, 4.06519688e-04,\n",
      "       2.60268114e-03, 8.86051235e-04, 2.01981638e-03, 3.39135567e-03,\n",
      "       2.06923145e-03, 4.63367904e-02, 2.03629659e-04, 1.30566224e-03,\n",
      "       1.62313625e-03, 8.27196443e-04, 2.48522739e-03, 6.27450553e-04,\n",
      "       1.52690223e-03, 8.00056503e-04, 9.90831632e-04, 5.78828103e-03,\n",
      "       3.73458263e-02, 3.04849085e-04, 6.69867405e-04, 4.15192059e-03,\n",
      "       9.98869338e-04, 1.41479718e-03, 2.12310965e-03, 3.33587299e-03,\n",
      "       4.04451970e-02, 1.70316858e-03, 4.24444017e-04, 4.92189016e-04,\n",
      "       4.54244360e-03, 2.06714637e-04, 5.93135186e-03, 4.27059021e-02,\n",
      "       2.30660786e-03, 2.21751757e-03, 1.72556267e-03, 3.05830321e-03,\n",
      "       3.43720568e-04, 1.46600501e-03, 1.17052726e-03, 8.05613027e-04,\n",
      "       1.62469770e-02, 1.10016327e-03, 1.13718617e-03, 1.18362652e-04,\n",
      "       4.86287904e-02, 5.76709689e-03, 3.67146906e-03, 4.56774214e-04,\n",
      "       6.46735298e-04, 8.24104770e-03, 4.91704908e-02, 2.00059574e-03,\n",
      "       5.12787136e-03, 1.86251785e-03, 3.77066196e-03, 1.18589434e-03]), 'param_n_estimators': masked_array(data=[200, 1400, 2000, 2000, 200, 600, 2000, 1400, 1400, 600,\n",
      "                   600, 1400, 400, 600, 400, 200, 1800, 600, 800, 2000,\n",
      "                   200, 1000, 1600, 200, 1200, 800, 800, 400, 800, 200,\n",
      "                   800, 800, 400, 1200, 2000, 1600, 1600, 1600, 2000,\n",
      "                   1800, 600, 2000, 800, 1400, 2000, 800, 800, 1400, 1800,\n",
      "                   600, 1600, 2000, 1400, 600, 1400, 200, 1400, 1000, 800,\n",
      "                   1800, 2000, 400, 200, 2000, 400, 600, 1800, 2000, 800,\n",
      "                   2000, 1200, 600, 1600, 200, 1600, 1800, 1400, 1400,\n",
      "                   400, 1200, 400, 1000, 1400, 1600, 2000, 600, 1400, 200,\n",
      "                   600, 2000, 1600, 800, 2000, 1000, 600, 400, 1800, 1600,\n",
      "                   1600, 1000],\n",
      "             mask=[False, False, False, False, False, False, False, False,\n",
      "                   False, False, False, False, False, False, False, False,\n",
      "                   False, False, False, False, False, False, False, False,\n",
      "                   False, False, False, False, False, False, False, False,\n",
      "                   False, False, False, False, False, False, False, False,\n",
      "                   False, False, False, False, False, False, False, False,\n",
      "                   False, False, False, False, False, False, False, False,\n",
      "                   False, False, False, False, False, False, False, False,\n",
      "                   False, False, False, False, False, False, False, False,\n",
      "                   False, False, False, False, False, False, False, False,\n",
      "                   False, False, False, False, False, False, False, False,\n",
      "                   False, False, False, False, False, False, False, False,\n",
      "                   False, False, False, False],\n",
      "       fill_value='?',\n",
      "            dtype=object), 'param_min_samples_split': masked_array(data=[2, 5, 14, 14, 14, 2, 10, 10, 2, 2, 14, 5, 14, 5, 5, 10,\n",
      "                   5, 14, 2, 2, 14, 14, 10, 10, 5, 14, 5, 10, 2, 10, 2, 2,\n",
      "                   14, 5, 2, 14, 2, 2, 5, 2, 2, 2, 14, 2, 5, 10, 5, 2, 14,\n",
      "                   14, 2, 10, 2, 5, 10, 2, 5, 14, 5, 5, 2, 10, 5, 2, 10,\n",
      "                   5, 2, 5, 5, 10, 10, 2, 10, 14, 10, 10, 10, 2, 14, 14,\n",
      "                   2, 2, 14, 14, 14, 10, 2, 5, 5, 14, 14, 10, 2, 10, 2,\n",
      "                   14, 5, 10, 14, 14],\n",
      "             mask=[False, False, False, False, False, False, False, False,\n",
      "                   False, False, False, False, False, False, False, False,\n",
      "                   False, False, False, False, False, False, False, False,\n",
      "                   False, False, False, False, False, False, False, False,\n",
      "                   False, False, False, False, False, False, False, False,\n",
      "                   False, False, False, False, False, False, False, False,\n",
      "                   False, False, False, False, False, False, False, False,\n",
      "                   False, False, False, False, False, False, False, False,\n",
      "                   False, False, False, False, False, False, False, False,\n",
      "                   False, False, False, False, False, False, False, False,\n",
      "                   False, False, False, False, False, False, False, False,\n",
      "                   False, False, False, False, False, False, False, False,\n",
      "                   False, False, False, False],\n",
      "       fill_value='?',\n",
      "            dtype=object), 'param_min_samples_leaf': masked_array(data=[2, 6, 1, 2, 6, 4, 6, 4, 2, 1, 8, 8, 2, 4, 4, 6, 6, 6,\n",
      "                   6, 8, 1, 1, 8, 4, 2, 8, 1, 4, 2, 1, 2, 4, 1, 4, 8, 6,\n",
      "                   8, 1, 2, 1, 1, 4, 4, 6, 1, 4, 2, 1, 8, 8, 8, 6, 1, 1,\n",
      "                   2, 2, 4, 2, 6, 6, 8, 6, 1, 1, 1, 1, 4, 1, 6, 4, 4, 1,\n",
      "                   1, 1, 2, 1, 8, 8, 8, 1, 6, 2, 2, 8, 1, 8, 4, 4, 4, 1,\n",
      "                   4, 4, 8, 1, 1, 4, 1, 4, 1, 4],\n",
      "             mask=[False, False, False, False, False, False, False, False,\n",
      "                   False, False, False, False, False, False, False, False,\n",
      "                   False, False, False, False, False, False, False, False,\n",
      "                   False, False, False, False, False, False, False, False,\n",
      "                   False, False, False, False, False, False, False, False,\n",
      "                   False, False, False, False, False, False, False, False,\n",
      "                   False, False, False, False, False, False, False, False,\n",
      "                   False, False, False, False, False, False, False, False,\n",
      "                   False, False, False, False, False, False, False, False,\n",
      "                   False, False, False, False, False, False, False, False,\n",
      "                   False, False, False, False, False, False, False, False,\n",
      "                   False, False, False, False, False, False, False, False,\n",
      "                   False, False, False, False],\n",
      "       fill_value='?',\n",
      "            dtype=object), 'param_max_features': masked_array(data=['sqrt', 'sqrt', 'sqrt', 'auto', 'sqrt', 'log2', 'log2',\n",
      "                   'auto', 'sqrt', 'sqrt', 'auto', 'auto', 'sqrt', 'auto',\n",
      "                   'log2', 'auto', 'log2', 'sqrt', 'auto', 'sqrt', 'sqrt',\n",
      "                   'auto', 'sqrt', 'auto', 'log2', 'auto', 'sqrt', 'sqrt',\n",
      "                   'log2', 'sqrt', 'auto', 'log2', 'auto', 'sqrt', 'log2',\n",
      "                   'sqrt', 'auto', 'log2', 'auto', 'log2', 'auto', 'sqrt',\n",
      "                   'log2', 'auto', 'auto', 'auto', 'sqrt', 'sqrt', 'sqrt',\n",
      "                   'log2', 'auto', 'sqrt', 'sqrt', 'sqrt', 'auto', 'log2',\n",
      "                   'log2', 'log2', 'sqrt', 'log2', 'auto', 'auto', 'log2',\n",
      "                   'log2', 'auto', 'sqrt', 'log2', 'log2', 'auto', 'log2',\n",
      "                   'log2', 'log2', 'auto', 'sqrt', 'log2', 'log2', 'auto',\n",
      "                   'sqrt', 'sqrt', 'log2', 'log2', 'auto', 'auto', 'log2',\n",
      "                   'sqrt', 'auto', 'sqrt', 'log2', 'sqrt', 'sqrt', 'auto',\n",
      "                   'auto', 'auto', 'sqrt', 'sqrt', 'sqrt', 'auto', 'auto',\n",
      "                   'log2', 'auto'],\n",
      "             mask=[False, False, False, False, False, False, False, False,\n",
      "                   False, False, False, False, False, False, False, False,\n",
      "                   False, False, False, False, False, False, False, False,\n",
      "                   False, False, False, False, False, False, False, False,\n",
      "                   False, False, False, False, False, False, False, False,\n",
      "                   False, False, False, False, False, False, False, False,\n",
      "                   False, False, False, False, False, False, False, False,\n",
      "                   False, False, False, False, False, False, False, False,\n",
      "                   False, False, False, False, False, False, False, False,\n",
      "                   False, False, False, False, False, False, False, False,\n",
      "                   False, False, False, False, False, False, False, False,\n",
      "                   False, False, False, False, False, False, False, False,\n",
      "                   False, False, False, False],\n",
      "       fill_value='?',\n",
      "            dtype=object), 'param_max_depth': masked_array(data=[1000, 120, 340, 10, 10, 670, 670, 340, 1000, 120, 890,\n",
      "                   780, 670, 1000, 670, 230, 230, 890, 670, 1000, 10, 450,\n",
      "                   1000, 340, 780, 890, 560, 120, 1000, 560, 890, 450,\n",
      "                   780, 1000, 1000, 780, 670, 890, 890, 560, 10, 120, 780,\n",
      "                   450, 670, 780, 560, 230, 670, 450, 1000, 670, 120, 780,\n",
      "                   450, 340, 120, 120, 780, 230, 780, 670, 450, 340, 230,\n",
      "                   10, 10, 560, 890, 670, 890, 780, 780, 450, 230, 560,\n",
      "                   450, 1000, 780, 450, 450, 1000, 780, 230, 120, 10, 560,\n",
      "                   890, 890, 10, 340, 670, 340, 230, 890, 670, 450, 560,\n",
      "                   670, 890],\n",
      "             mask=[False, False, False, False, False, False, False, False,\n",
      "                   False, False, False, False, False, False, False, False,\n",
      "                   False, False, False, False, False, False, False, False,\n",
      "                   False, False, False, False, False, False, False, False,\n",
      "                   False, False, False, False, False, False, False, False,\n",
      "                   False, False, False, False, False, False, False, False,\n",
      "                   False, False, False, False, False, False, False, False,\n",
      "                   False, False, False, False, False, False, False, False,\n",
      "                   False, False, False, False, False, False, False, False,\n",
      "                   False, False, False, False, False, False, False, False,\n",
      "                   False, False, False, False, False, False, False, False,\n",
      "                   False, False, False, False, False, False, False, False,\n",
      "                   False, False, False, False],\n",
      "       fill_value='?',\n",
      "            dtype=object), 'param_criterion': masked_array(data=['entropy', 'gini', 'gini', 'entropy', 'entropy',\n",
      "                   'gini', 'entropy', 'gini', 'entropy', 'entropy',\n",
      "                   'gini', 'entropy', 'gini', 'gini', 'gini', 'entropy',\n",
      "                   'gini', 'gini', 'gini', 'entropy', 'gini', 'entropy',\n",
      "                   'entropy', 'entropy', 'gini', 'entropy', 'entropy',\n",
      "                   'gini', 'entropy', 'gini', 'gini', 'entropy',\n",
      "                   'entropy', 'gini', 'gini', 'gini', 'entropy', 'gini',\n",
      "                   'entropy', 'entropy', 'entropy', 'entropy', 'entropy',\n",
      "                   'entropy', 'gini', 'gini', 'entropy', 'gini',\n",
      "                   'entropy', 'entropy', 'gini', 'entropy', 'entropy',\n",
      "                   'gini', 'gini', 'entropy', 'gini', 'gini', 'entropy',\n",
      "                   'entropy', 'entropy', 'gini', 'gini', 'gini', 'gini',\n",
      "                   'gini', 'entropy', 'entropy', 'gini', 'entropy',\n",
      "                   'entropy', 'gini', 'entropy', 'entropy', 'entropy',\n",
      "                   'gini', 'gini', 'gini', 'entropy', 'gini', 'entropy',\n",
      "                   'gini', 'gini', 'entropy', 'entropy', 'gini',\n",
      "                   'entropy', 'entropy', 'gini', 'gini', 'gini',\n",
      "                   'entropy', 'gini', 'gini', 'gini', 'gini', 'gini',\n",
      "                   'gini', 'gini', 'entropy'],\n",
      "             mask=[False, False, False, False, False, False, False, False,\n",
      "                   False, False, False, False, False, False, False, False,\n",
      "                   False, False, False, False, False, False, False, False,\n",
      "                   False, False, False, False, False, False, False, False,\n",
      "                   False, False, False, False, False, False, False, False,\n",
      "                   False, False, False, False, False, False, False, False,\n",
      "                   False, False, False, False, False, False, False, False,\n",
      "                   False, False, False, False, False, False, False, False,\n",
      "                   False, False, False, False, False, False, False, False,\n",
      "                   False, False, False, False, False, False, False, False,\n",
      "                   False, False, False, False, False, False, False, False,\n",
      "                   False, False, False, False, False, False, False, False,\n",
      "                   False, False, False, False],\n",
      "       fill_value='?',\n",
      "            dtype=object), 'params': [{'n_estimators': 200, 'min_samples_split': 2, 'min_samples_leaf': 2, 'max_features': 'sqrt', 'max_depth': 1000, 'criterion': 'entropy'}, {'n_estimators': 1400, 'min_samples_split': 5, 'min_samples_leaf': 6, 'max_features': 'sqrt', 'max_depth': 120, 'criterion': 'gini'}, {'n_estimators': 2000, 'min_samples_split': 14, 'min_samples_leaf': 1, 'max_features': 'sqrt', 'max_depth': 340, 'criterion': 'gini'}, {'n_estimators': 2000, 'min_samples_split': 14, 'min_samples_leaf': 2, 'max_features': 'auto', 'max_depth': 10, 'criterion': 'entropy'}, {'n_estimators': 200, 'min_samples_split': 14, 'min_samples_leaf': 6, 'max_features': 'sqrt', 'max_depth': 10, 'criterion': 'entropy'}, {'n_estimators': 600, 'min_samples_split': 2, 'min_samples_leaf': 4, 'max_features': 'log2', 'max_depth': 670, 'criterion': 'gini'}, {'n_estimators': 2000, 'min_samples_split': 10, 'min_samples_leaf': 6, 'max_features': 'log2', 'max_depth': 670, 'criterion': 'entropy'}, {'n_estimators': 1400, 'min_samples_split': 10, 'min_samples_leaf': 4, 'max_features': 'auto', 'max_depth': 340, 'criterion': 'gini'}, {'n_estimators': 1400, 'min_samples_split': 2, 'min_samples_leaf': 2, 'max_features': 'sqrt', 'max_depth': 1000, 'criterion': 'entropy'}, {'n_estimators': 600, 'min_samples_split': 2, 'min_samples_leaf': 1, 'max_features': 'sqrt', 'max_depth': 120, 'criterion': 'entropy'}, {'n_estimators': 600, 'min_samples_split': 14, 'min_samples_leaf': 8, 'max_features': 'auto', 'max_depth': 890, 'criterion': 'gini'}, {'n_estimators': 1400, 'min_samples_split': 5, 'min_samples_leaf': 8, 'max_features': 'auto', 'max_depth': 780, 'criterion': 'entropy'}, {'n_estimators': 400, 'min_samples_split': 14, 'min_samples_leaf': 2, 'max_features': 'sqrt', 'max_depth': 670, 'criterion': 'gini'}, {'n_estimators': 600, 'min_samples_split': 5, 'min_samples_leaf': 4, 'max_features': 'auto', 'max_depth': 1000, 'criterion': 'gini'}, {'n_estimators': 400, 'min_samples_split': 5, 'min_samples_leaf': 4, 'max_features': 'log2', 'max_depth': 670, 'criterion': 'gini'}, {'n_estimators': 200, 'min_samples_split': 10, 'min_samples_leaf': 6, 'max_features': 'auto', 'max_depth': 230, 'criterion': 'entropy'}, {'n_estimators': 1800, 'min_samples_split': 5, 'min_samples_leaf': 6, 'max_features': 'log2', 'max_depth': 230, 'criterion': 'gini'}, {'n_estimators': 600, 'min_samples_split': 14, 'min_samples_leaf': 6, 'max_features': 'sqrt', 'max_depth': 890, 'criterion': 'gini'}, {'n_estimators': 800, 'min_samples_split': 2, 'min_samples_leaf': 6, 'max_features': 'auto', 'max_depth': 670, 'criterion': 'gini'}, {'n_estimators': 2000, 'min_samples_split': 2, 'min_samples_leaf': 8, 'max_features': 'sqrt', 'max_depth': 1000, 'criterion': 'entropy'}, {'n_estimators': 200, 'min_samples_split': 14, 'min_samples_leaf': 1, 'max_features': 'sqrt', 'max_depth': 10, 'criterion': 'gini'}, {'n_estimators': 1000, 'min_samples_split': 14, 'min_samples_leaf': 1, 'max_features': 'auto', 'max_depth': 450, 'criterion': 'entropy'}, {'n_estimators': 1600, 'min_samples_split': 10, 'min_samples_leaf': 8, 'max_features': 'sqrt', 'max_depth': 1000, 'criterion': 'entropy'}, {'n_estimators': 200, 'min_samples_split': 10, 'min_samples_leaf': 4, 'max_features': 'auto', 'max_depth': 340, 'criterion': 'entropy'}, {'n_estimators': 1200, 'min_samples_split': 5, 'min_samples_leaf': 2, 'max_features': 'log2', 'max_depth': 780, 'criterion': 'gini'}, {'n_estimators': 800, 'min_samples_split': 14, 'min_samples_leaf': 8, 'max_features': 'auto', 'max_depth': 890, 'criterion': 'entropy'}, {'n_estimators': 800, 'min_samples_split': 5, 'min_samples_leaf': 1, 'max_features': 'sqrt', 'max_depth': 560, 'criterion': 'entropy'}, {'n_estimators': 400, 'min_samples_split': 10, 'min_samples_leaf': 4, 'max_features': 'sqrt', 'max_depth': 120, 'criterion': 'gini'}, {'n_estimators': 800, 'min_samples_split': 2, 'min_samples_leaf': 2, 'max_features': 'log2', 'max_depth': 1000, 'criterion': 'entropy'}, {'n_estimators': 200, 'min_samples_split': 10, 'min_samples_leaf': 1, 'max_features': 'sqrt', 'max_depth': 560, 'criterion': 'gini'}, {'n_estimators': 800, 'min_samples_split': 2, 'min_samples_leaf': 2, 'max_features': 'auto', 'max_depth': 890, 'criterion': 'gini'}, {'n_estimators': 800, 'min_samples_split': 2, 'min_samples_leaf': 4, 'max_features': 'log2', 'max_depth': 450, 'criterion': 'entropy'}, {'n_estimators': 400, 'min_samples_split': 14, 'min_samples_leaf': 1, 'max_features': 'auto', 'max_depth': 780, 'criterion': 'entropy'}, {'n_estimators': 1200, 'min_samples_split': 5, 'min_samples_leaf': 4, 'max_features': 'sqrt', 'max_depth': 1000, 'criterion': 'gini'}, {'n_estimators': 2000, 'min_samples_split': 2, 'min_samples_leaf': 8, 'max_features': 'log2', 'max_depth': 1000, 'criterion': 'gini'}, {'n_estimators': 1600, 'min_samples_split': 14, 'min_samples_leaf': 6, 'max_features': 'sqrt', 'max_depth': 780, 'criterion': 'gini'}, {'n_estimators': 1600, 'min_samples_split': 2, 'min_samples_leaf': 8, 'max_features': 'auto', 'max_depth': 670, 'criterion': 'entropy'}, {'n_estimators': 1600, 'min_samples_split': 2, 'min_samples_leaf': 1, 'max_features': 'log2', 'max_depth': 890, 'criterion': 'gini'}, {'n_estimators': 2000, 'min_samples_split': 5, 'min_samples_leaf': 2, 'max_features': 'auto', 'max_depth': 890, 'criterion': 'entropy'}, {'n_estimators': 1800, 'min_samples_split': 2, 'min_samples_leaf': 1, 'max_features': 'log2', 'max_depth': 560, 'criterion': 'entropy'}, {'n_estimators': 600, 'min_samples_split': 2, 'min_samples_leaf': 1, 'max_features': 'auto', 'max_depth': 10, 'criterion': 'entropy'}, {'n_estimators': 2000, 'min_samples_split': 2, 'min_samples_leaf': 4, 'max_features': 'sqrt', 'max_depth': 120, 'criterion': 'entropy'}, {'n_estimators': 800, 'min_samples_split': 14, 'min_samples_leaf': 4, 'max_features': 'log2', 'max_depth': 780, 'criterion': 'entropy'}, {'n_estimators': 1400, 'min_samples_split': 2, 'min_samples_leaf': 6, 'max_features': 'auto', 'max_depth': 450, 'criterion': 'entropy'}, {'n_estimators': 2000, 'min_samples_split': 5, 'min_samples_leaf': 1, 'max_features': 'auto', 'max_depth': 670, 'criterion': 'gini'}, {'n_estimators': 800, 'min_samples_split': 10, 'min_samples_leaf': 4, 'max_features': 'auto', 'max_depth': 780, 'criterion': 'gini'}, {'n_estimators': 800, 'min_samples_split': 5, 'min_samples_leaf': 2, 'max_features': 'sqrt', 'max_depth': 560, 'criterion': 'entropy'}, {'n_estimators': 1400, 'min_samples_split': 2, 'min_samples_leaf': 1, 'max_features': 'sqrt', 'max_depth': 230, 'criterion': 'gini'}, {'n_estimators': 1800, 'min_samples_split': 14, 'min_samples_leaf': 8, 'max_features': 'sqrt', 'max_depth': 670, 'criterion': 'entropy'}, {'n_estimators': 600, 'min_samples_split': 14, 'min_samples_leaf': 8, 'max_features': 'log2', 'max_depth': 450, 'criterion': 'entropy'}, {'n_estimators': 1600, 'min_samples_split': 2, 'min_samples_leaf': 8, 'max_features': 'auto', 'max_depth': 1000, 'criterion': 'gini'}, {'n_estimators': 2000, 'min_samples_split': 10, 'min_samples_leaf': 6, 'max_features': 'sqrt', 'max_depth': 670, 'criterion': 'entropy'}, {'n_estimators': 1400, 'min_samples_split': 2, 'min_samples_leaf': 1, 'max_features': 'sqrt', 'max_depth': 120, 'criterion': 'entropy'}, {'n_estimators': 600, 'min_samples_split': 5, 'min_samples_leaf': 1, 'max_features': 'sqrt', 'max_depth': 780, 'criterion': 'gini'}, {'n_estimators': 1400, 'min_samples_split': 10, 'min_samples_leaf': 2, 'max_features': 'auto', 'max_depth': 450, 'criterion': 'gini'}, {'n_estimators': 200, 'min_samples_split': 2, 'min_samples_leaf': 2, 'max_features': 'log2', 'max_depth': 340, 'criterion': 'entropy'}, {'n_estimators': 1400, 'min_samples_split': 5, 'min_samples_leaf': 4, 'max_features': 'log2', 'max_depth': 120, 'criterion': 'gini'}, {'n_estimators': 1000, 'min_samples_split': 14, 'min_samples_leaf': 2, 'max_features': 'log2', 'max_depth': 120, 'criterion': 'gini'}, {'n_estimators': 800, 'min_samples_split': 5, 'min_samples_leaf': 6, 'max_features': 'sqrt', 'max_depth': 780, 'criterion': 'entropy'}, {'n_estimators': 1800, 'min_samples_split': 5, 'min_samples_leaf': 6, 'max_features': 'log2', 'max_depth': 230, 'criterion': 'entropy'}, {'n_estimators': 2000, 'min_samples_split': 2, 'min_samples_leaf': 8, 'max_features': 'auto', 'max_depth': 780, 'criterion': 'entropy'}, {'n_estimators': 400, 'min_samples_split': 10, 'min_samples_leaf': 6, 'max_features': 'auto', 'max_depth': 670, 'criterion': 'gini'}, {'n_estimators': 200, 'min_samples_split': 5, 'min_samples_leaf': 1, 'max_features': 'log2', 'max_depth': 450, 'criterion': 'gini'}, {'n_estimators': 2000, 'min_samples_split': 2, 'min_samples_leaf': 1, 'max_features': 'log2', 'max_depth': 340, 'criterion': 'gini'}, {'n_estimators': 400, 'min_samples_split': 10, 'min_samples_leaf': 1, 'max_features': 'auto', 'max_depth': 230, 'criterion': 'gini'}, {'n_estimators': 600, 'min_samples_split': 5, 'min_samples_leaf': 1, 'max_features': 'sqrt', 'max_depth': 10, 'criterion': 'gini'}, {'n_estimators': 1800, 'min_samples_split': 2, 'min_samples_leaf': 4, 'max_features': 'log2', 'max_depth': 10, 'criterion': 'entropy'}, {'n_estimators': 2000, 'min_samples_split': 5, 'min_samples_leaf': 1, 'max_features': 'log2', 'max_depth': 560, 'criterion': 'entropy'}, {'n_estimators': 800, 'min_samples_split': 5, 'min_samples_leaf': 6, 'max_features': 'auto', 'max_depth': 890, 'criterion': 'gini'}, {'n_estimators': 2000, 'min_samples_split': 10, 'min_samples_leaf': 4, 'max_features': 'log2', 'max_depth': 670, 'criterion': 'entropy'}, {'n_estimators': 1200, 'min_samples_split': 10, 'min_samples_leaf': 4, 'max_features': 'log2', 'max_depth': 890, 'criterion': 'entropy'}, {'n_estimators': 600, 'min_samples_split': 2, 'min_samples_leaf': 1, 'max_features': 'log2', 'max_depth': 780, 'criterion': 'gini'}, {'n_estimators': 1600, 'min_samples_split': 10, 'min_samples_leaf': 1, 'max_features': 'auto', 'max_depth': 780, 'criterion': 'entropy'}, {'n_estimators': 200, 'min_samples_split': 14, 'min_samples_leaf': 1, 'max_features': 'sqrt', 'max_depth': 450, 'criterion': 'entropy'}, {'n_estimators': 1600, 'min_samples_split': 10, 'min_samples_leaf': 2, 'max_features': 'log2', 'max_depth': 230, 'criterion': 'entropy'}, {'n_estimators': 1800, 'min_samples_split': 10, 'min_samples_leaf': 1, 'max_features': 'log2', 'max_depth': 560, 'criterion': 'gini'}, {'n_estimators': 1400, 'min_samples_split': 10, 'min_samples_leaf': 8, 'max_features': 'auto', 'max_depth': 450, 'criterion': 'gini'}, {'n_estimators': 1400, 'min_samples_split': 2, 'min_samples_leaf': 8, 'max_features': 'sqrt', 'max_depth': 1000, 'criterion': 'gini'}, {'n_estimators': 400, 'min_samples_split': 14, 'min_samples_leaf': 8, 'max_features': 'sqrt', 'max_depth': 780, 'criterion': 'entropy'}, {'n_estimators': 1200, 'min_samples_split': 14, 'min_samples_leaf': 1, 'max_features': 'log2', 'max_depth': 450, 'criterion': 'gini'}, {'n_estimators': 400, 'min_samples_split': 2, 'min_samples_leaf': 6, 'max_features': 'log2', 'max_depth': 450, 'criterion': 'entropy'}, {'n_estimators': 1000, 'min_samples_split': 2, 'min_samples_leaf': 2, 'max_features': 'auto', 'max_depth': 1000, 'criterion': 'gini'}, {'n_estimators': 1400, 'min_samples_split': 14, 'min_samples_leaf': 2, 'max_features': 'auto', 'max_depth': 780, 'criterion': 'gini'}, {'n_estimators': 1600, 'min_samples_split': 14, 'min_samples_leaf': 8, 'max_features': 'log2', 'max_depth': 230, 'criterion': 'entropy'}, {'n_estimators': 2000, 'min_samples_split': 14, 'min_samples_leaf': 1, 'max_features': 'sqrt', 'max_depth': 120, 'criterion': 'entropy'}, {'n_estimators': 600, 'min_samples_split': 10, 'min_samples_leaf': 8, 'max_features': 'auto', 'max_depth': 10, 'criterion': 'gini'}, {'n_estimators': 1400, 'min_samples_split': 2, 'min_samples_leaf': 4, 'max_features': 'sqrt', 'max_depth': 560, 'criterion': 'entropy'}, {'n_estimators': 200, 'min_samples_split': 5, 'min_samples_leaf': 4, 'max_features': 'log2', 'max_depth': 890, 'criterion': 'entropy'}, {'n_estimators': 600, 'min_samples_split': 5, 'min_samples_leaf': 4, 'max_features': 'sqrt', 'max_depth': 890, 'criterion': 'gini'}, {'n_estimators': 2000, 'min_samples_split': 14, 'min_samples_leaf': 1, 'max_features': 'sqrt', 'max_depth': 10, 'criterion': 'gini'}, {'n_estimators': 1600, 'min_samples_split': 14, 'min_samples_leaf': 4, 'max_features': 'auto', 'max_depth': 340, 'criterion': 'gini'}, {'n_estimators': 800, 'min_samples_split': 10, 'min_samples_leaf': 4, 'max_features': 'auto', 'max_depth': 670, 'criterion': 'entropy'}, {'n_estimators': 2000, 'min_samples_split': 2, 'min_samples_leaf': 8, 'max_features': 'auto', 'max_depth': 340, 'criterion': 'gini'}, {'n_estimators': 1000, 'min_samples_split': 10, 'min_samples_leaf': 1, 'max_features': 'sqrt', 'max_depth': 230, 'criterion': 'gini'}, {'n_estimators': 600, 'min_samples_split': 2, 'min_samples_leaf': 1, 'max_features': 'sqrt', 'max_depth': 890, 'criterion': 'gini'}, {'n_estimators': 400, 'min_samples_split': 14, 'min_samples_leaf': 4, 'max_features': 'sqrt', 'max_depth': 670, 'criterion': 'gini'}, {'n_estimators': 1800, 'min_samples_split': 5, 'min_samples_leaf': 1, 'max_features': 'auto', 'max_depth': 450, 'criterion': 'gini'}, {'n_estimators': 1600, 'min_samples_split': 10, 'min_samples_leaf': 4, 'max_features': 'auto', 'max_depth': 560, 'criterion': 'gini'}, {'n_estimators': 1600, 'min_samples_split': 14, 'min_samples_leaf': 1, 'max_features': 'log2', 'max_depth': 670, 'criterion': 'gini'}, {'n_estimators': 1000, 'min_samples_split': 14, 'min_samples_leaf': 4, 'max_features': 'auto', 'max_depth': 890, 'criterion': 'entropy'}], 'split0_test_score': array([1., 1., 1., 1., 1., 1., 1., 1., 1., 1., 1., 1., 1., 1., 1., 1., 1.,\n",
      "       1., 1., 1., 1., 1., 1., 1., 1., 1., 1., 1., 1., 1., 1., 1., 1., 1.,\n",
      "       1., 1., 1., 1., 1., 1., 1., 1., 1., 1., 1., 1., 1., 1., 1., 1., 1.,\n",
      "       1., 1., 1., 1., 1., 1., 1., 1., 1., 1., 1., 1., 1., 1., 1., 1., 1.,\n",
      "       1., 1., 1., 1., 1., 1., 1., 1., 1., 1., 1., 1., 1., 1., 1., 1., 1.,\n",
      "       1., 1., 1., 1., 1., 1., 1., 1., 1., 1., 1., 1., 1., 1., 1.]), 'split1_test_score': array([1., 1., 1., 1., 1., 1., 1., 1., 1., 1., 1., 1., 1., 1., 1., 1., 1.,\n",
      "       1., 1., 1., 1., 1., 1., 1., 1., 1., 1., 1., 1., 1., 1., 1., 1., 1.,\n",
      "       1., 1., 1., 1., 1., 1., 1., 1., 1., 1., 1., 1., 1., 1., 1., 1., 1.,\n",
      "       1., 1., 1., 1., 1., 1., 1., 1., 1., 1., 1., 1., 1., 1., 1., 1., 1.,\n",
      "       1., 1., 1., 1., 1., 1., 1., 1., 1., 1., 1., 1., 1., 1., 1., 1., 1.,\n",
      "       1., 1., 1., 1., 1., 1., 1., 1., 1., 1., 1., 1., 1., 1., 1.]), 'split2_test_score': array([1., 1., 1., 1., 1., 1., 1., 1., 1., 1., 1., 1., 1., 1., 1., 1., 1.,\n",
      "       1., 1., 1., 1., 1., 1., 1., 1., 1., 1., 1., 1., 1., 1., 1., 1., 1.,\n",
      "       1., 1., 1., 1., 1., 1., 1., 1., 1., 1., 1., 1., 1., 1., 1., 1., 1.,\n",
      "       1., 1., 1., 1., 1., 1., 1., 1., 1., 1., 1., 1., 1., 1., 1., 1., 1.,\n",
      "       1., 1., 1., 1., 1., 1., 1., 1., 1., 1., 1., 1., 1., 1., 1., 1., 1.,\n",
      "       1., 1., 1., 1., 1., 1., 1., 1., 1., 1., 1., 1., 1., 1., 1.]), 'mean_test_score': array([1., 1., 1., 1., 1., 1., 1., 1., 1., 1., 1., 1., 1., 1., 1., 1., 1.,\n",
      "       1., 1., 1., 1., 1., 1., 1., 1., 1., 1., 1., 1., 1., 1., 1., 1., 1.,\n",
      "       1., 1., 1., 1., 1., 1., 1., 1., 1., 1., 1., 1., 1., 1., 1., 1., 1.,\n",
      "       1., 1., 1., 1., 1., 1., 1., 1., 1., 1., 1., 1., 1., 1., 1., 1., 1.,\n",
      "       1., 1., 1., 1., 1., 1., 1., 1., 1., 1., 1., 1., 1., 1., 1., 1., 1.,\n",
      "       1., 1., 1., 1., 1., 1., 1., 1., 1., 1., 1., 1., 1., 1., 1.]), 'std_test_score': array([0., 0., 0., 0., 0., 0., 0., 0., 0., 0., 0., 0., 0., 0., 0., 0., 0.,\n",
      "       0., 0., 0., 0., 0., 0., 0., 0., 0., 0., 0., 0., 0., 0., 0., 0., 0.,\n",
      "       0., 0., 0., 0., 0., 0., 0., 0., 0., 0., 0., 0., 0., 0., 0., 0., 0.,\n",
      "       0., 0., 0., 0., 0., 0., 0., 0., 0., 0., 0., 0., 0., 0., 0., 0., 0.,\n",
      "       0., 0., 0., 0., 0., 0., 0., 0., 0., 0., 0., 0., 0., 0., 0., 0., 0.,\n",
      "       0., 0., 0., 0., 0., 0., 0., 0., 0., 0., 0., 0., 0., 0., 0.]), 'rank_test_score': array([1, 1, 1, 1, 1, 1, 1, 1, 1, 1, 1, 1, 1, 1, 1, 1, 1, 1, 1, 1, 1, 1,\n",
      "       1, 1, 1, 1, 1, 1, 1, 1, 1, 1, 1, 1, 1, 1, 1, 1, 1, 1, 1, 1, 1, 1,\n",
      "       1, 1, 1, 1, 1, 1, 1, 1, 1, 1, 1, 1, 1, 1, 1, 1, 1, 1, 1, 1, 1, 1,\n",
      "       1, 1, 1, 1, 1, 1, 1, 1, 1, 1, 1, 1, 1, 1, 1, 1, 1, 1, 1, 1, 1, 1,\n",
      "       1, 1, 1, 1, 1, 1, 1, 1, 1, 1, 1, 1], dtype=int32)}\n"
     ]
    }
   ],
   "source": [
    "# output takes some to get\n",
    "\n",
    "print('\\n All results:')\n",
    "print(rf_randomcv.cv_results_)"
   ]
  },
  {
   "cell_type": "code",
   "execution_count": 87,
   "id": "6a4d743b",
   "metadata": {
    "ExecuteTime": {
     "end_time": "2021-12-15T23:08:43.879011Z",
     "start_time": "2021-12-15T23:08:43.870125Z"
    }
   },
   "outputs": [
    {
     "name": "stdout",
     "output_type": "stream",
     "text": [
      "\n",
      " Best estimator:\n",
      "RandomForestClassifier(criterion='entropy', max_depth=1000, max_features='sqrt',\n",
      "                       min_samples_leaf=2, n_estimators=200)\n"
     ]
    }
   ],
   "source": [
    "print('\\n Best estimator:')\n",
    "print(rf_randomcv.best_estimator_)"
   ]
  },
  {
   "cell_type": "code",
   "execution_count": 88,
   "id": "78a12e1d",
   "metadata": {
    "ExecuteTime": {
     "end_time": "2021-12-15T23:08:53.195733Z",
     "start_time": "2021-12-15T23:08:53.192051Z"
    }
   },
   "outputs": [
    {
     "name": "stdout",
     "output_type": "stream",
     "text": [
      "\n",
      " Best hyperparameters:\n",
      "{'n_estimators': 200, 'min_samples_split': 2, 'min_samples_leaf': 2, 'max_features': 'sqrt', 'max_depth': 1000, 'criterion': 'entropy'}\n"
     ]
    }
   ],
   "source": [
    "print('\\n Best hyperparameters:')\n",
    "print(rf_randomcv.best_params_)"
   ]
  },
  {
   "cell_type": "code",
   "execution_count": null,
   "id": "2616ce95",
   "metadata": {},
   "outputs": [],
   "source": []
  }
 ],
 "metadata": {
  "kernelspec": {
   "display_name": "Python 3",
   "language": "python",
   "name": "python3"
  },
  "language_info": {
   "codemirror_mode": {
    "name": "ipython",
    "version": 3
   },
   "file_extension": ".py",
   "mimetype": "text/x-python",
   "name": "python",
   "nbconvert_exporter": "python",
   "pygments_lexer": "ipython3",
   "version": "3.8.8"
  },
  "toc": {
   "base_numbering": 1,
   "nav_menu": {},
   "number_sections": false,
   "sideBar": true,
   "skip_h1_title": false,
   "title_cell": "Table of Contents",
   "title_sidebar": "Contents",
   "toc_cell": false,
   "toc_position": {},
   "toc_section_display": true,
   "toc_window_display": false
  }
 },
 "nbformat": 4,
 "nbformat_minor": 5
}
